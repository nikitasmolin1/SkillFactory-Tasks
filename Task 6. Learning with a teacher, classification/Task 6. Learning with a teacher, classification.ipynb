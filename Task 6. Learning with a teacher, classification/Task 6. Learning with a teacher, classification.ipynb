{
 "cells": [
  {
   "cell_type": "markdown",
   "id": "086a113c",
   "metadata": {
    "id": "086a113c"
   },
   "source": [
    "# <center> Обучение с учителем. Классификация. Практика\n",
    "\n",
    "## <center> Прогнозирование оттока клиентов банка"
   ]
  },
  {
   "cell_type": "markdown",
   "id": "85ccf5ae",
   "metadata": {
    "id": "85ccf5ae"
   },
   "source": [
    "## Постановка задачи"
   ]
  },
  {
   "cell_type": "markdown",
   "id": "20769d74",
   "metadata": {
    "id": "20769d74"
   },
   "source": [
    "Теперь настало время самостоятельной работы. В рамках самостоятельной работы вам предстоит решить задачу прогнозирования оттока клиентов банка. \n",
    "\n",
    "> **Примечание.** Вы уже знакомились с этой задачей в модуле по визуализации («PYTHON-13. Визуализация данных») и провели небольшое исследование данных. Вы можете использовать результаты своего исследования для построения модели машинного обучения.\n",
    "\n",
    "Напомним контекст задачи:\n",
    "\n",
    "> Некоторый банк обратился к вам за помощью: он хочет разработать кампанию лояльности по удержанию клиентов. Для этого он хочет прогнозировать вероятности оттока клиентов и определять, уйдёт ли клиент в ближайшее время. \n",
    "\n",
    "Итак, ранее вы провели небольшой разведывательный анализ, познакомились с данными и выявили, чем ушедшие клиенты отличаются от лояльных и как между собой связаны различные признаки, определяющие клиентов. Вы отлично справились с первой задачей, и теперь представители банка предлагают вам построить саму модель машинного обучения, которая будет прогнозировать отток клиентов. \n",
    "\n",
    "**Ваша задача** - построить классификатор, который позволит своевременно определять уходящих клиентов банка, оценить качество построенных моделей и проинтерпретировать результаты.\n",
    "\n",
    "Разделим эту задачу на две части:\n",
    "* В первой части мы подготовим данные для моделирования и построим простейшую модель логистической регрессии, оценим её качество и проанализируем результаты её работы.\n",
    "\n",
    "* Во второй части мы займёмся построением моделей дерева решений и случайного леса, сравним их результаты с результатами, полученными на первом этапе, и сделаем финальный вывод.\n"
   ]
  },
  {
   "cell_type": "markdown",
   "id": "fd90490e",
   "metadata": {
    "id": "fd90490e"
   },
   "source": [
    "Для начала импортируем библиотеки, которые нам понадобятся:"
   ]
  },
  {
   "cell_type": "code",
   "execution_count": 51,
   "id": "a26669af-982b-421f-9441-4d5f3a8ffb5d",
   "metadata": {
    "id": "a26669af-982b-421f-9441-4d5f3a8ffb5d"
   },
   "outputs": [],
   "source": [
    "import numpy as np #для матричных вычислений\n",
    "import pandas as pd #для анализа и предобработки данных\n",
    "import matplotlib.pyplot as plt #для визуализации\n",
    "import seaborn as sns #для визуализации\n",
    "\n",
    "from sklearn import linear_model #линейные модели\n",
    "from sklearn import metrics #метрики\n",
    "from sklearn import model_selection #сплитование выборки\n",
    "from sklearn import preprocessing #предобработка данных\n",
    "%matplotlib inline"
   ]
  },
  {
   "cell_type": "markdown",
   "id": "6687034e",
   "metadata": {
    "id": "6687034e"
   },
   "source": [
    "Итак, прочитаем нашу таблицу:"
   ]
  },
  {
   "cell_type": "code",
   "execution_count": 52,
   "id": "2fa60e26-cf4c-4dec-baca-90c3025d2bed",
   "metadata": {
    "colab": {
     "base_uri": "https://localhost:8080/",
     "height": 270
    },
    "executionInfo": {
     "elapsed": 7,
     "status": "ok",
     "timestamp": 1678085430153,
     "user": {
      "displayName": "Андрей Достоевский",
      "userId": "09718989537568551698"
     },
     "user_tz": -180
    },
    "id": "2fa60e26-cf4c-4dec-baca-90c3025d2bed",
    "outputId": "029556b1-99b4-4ec5-c2f4-9c07fabca762"
   },
   "outputs": [
    {
     "data": {
      "text/html": [
       "<div>\n",
       "<style scoped>\n",
       "    .dataframe tbody tr th:only-of-type {\n",
       "        vertical-align: middle;\n",
       "    }\n",
       "\n",
       "    .dataframe tbody tr th {\n",
       "        vertical-align: top;\n",
       "    }\n",
       "\n",
       "    .dataframe thead th {\n",
       "        text-align: right;\n",
       "    }\n",
       "</style>\n",
       "<table border=\"1\" class=\"dataframe\">\n",
       "  <thead>\n",
       "    <tr style=\"text-align: right;\">\n",
       "      <th></th>\n",
       "      <th>RowNumber</th>\n",
       "      <th>CustomerId</th>\n",
       "      <th>Surname</th>\n",
       "      <th>CreditScore</th>\n",
       "      <th>Geography</th>\n",
       "      <th>Gender</th>\n",
       "      <th>Age</th>\n",
       "      <th>Tenure</th>\n",
       "      <th>Balance</th>\n",
       "      <th>NumOfProducts</th>\n",
       "      <th>HasCrCard</th>\n",
       "      <th>IsActiveMember</th>\n",
       "      <th>EstimatedSalary</th>\n",
       "      <th>Exited</th>\n",
       "    </tr>\n",
       "  </thead>\n",
       "  <tbody>\n",
       "    <tr>\n",
       "      <th>0</th>\n",
       "      <td>1</td>\n",
       "      <td>15634602</td>\n",
       "      <td>Hargrave</td>\n",
       "      <td>619</td>\n",
       "      <td>France</td>\n",
       "      <td>Female</td>\n",
       "      <td>42</td>\n",
       "      <td>2</td>\n",
       "      <td>0.00</td>\n",
       "      <td>1</td>\n",
       "      <td>1</td>\n",
       "      <td>1</td>\n",
       "      <td>101348.88</td>\n",
       "      <td>1</td>\n",
       "    </tr>\n",
       "    <tr>\n",
       "      <th>1</th>\n",
       "      <td>2</td>\n",
       "      <td>15647311</td>\n",
       "      <td>Hill</td>\n",
       "      <td>608</td>\n",
       "      <td>Spain</td>\n",
       "      <td>Female</td>\n",
       "      <td>41</td>\n",
       "      <td>1</td>\n",
       "      <td>83807.86</td>\n",
       "      <td>1</td>\n",
       "      <td>0</td>\n",
       "      <td>1</td>\n",
       "      <td>112542.58</td>\n",
       "      <td>0</td>\n",
       "    </tr>\n",
       "    <tr>\n",
       "      <th>2</th>\n",
       "      <td>3</td>\n",
       "      <td>15619304</td>\n",
       "      <td>Onio</td>\n",
       "      <td>502</td>\n",
       "      <td>France</td>\n",
       "      <td>Female</td>\n",
       "      <td>42</td>\n",
       "      <td>8</td>\n",
       "      <td>159660.80</td>\n",
       "      <td>3</td>\n",
       "      <td>1</td>\n",
       "      <td>0</td>\n",
       "      <td>113931.57</td>\n",
       "      <td>1</td>\n",
       "    </tr>\n",
       "    <tr>\n",
       "      <th>3</th>\n",
       "      <td>4</td>\n",
       "      <td>15701354</td>\n",
       "      <td>Boni</td>\n",
       "      <td>699</td>\n",
       "      <td>France</td>\n",
       "      <td>Female</td>\n",
       "      <td>39</td>\n",
       "      <td>1</td>\n",
       "      <td>0.00</td>\n",
       "      <td>2</td>\n",
       "      <td>0</td>\n",
       "      <td>0</td>\n",
       "      <td>93826.63</td>\n",
       "      <td>0</td>\n",
       "    </tr>\n",
       "    <tr>\n",
       "      <th>4</th>\n",
       "      <td>5</td>\n",
       "      <td>15737888</td>\n",
       "      <td>Mitchell</td>\n",
       "      <td>850</td>\n",
       "      <td>Spain</td>\n",
       "      <td>Female</td>\n",
       "      <td>43</td>\n",
       "      <td>2</td>\n",
       "      <td>125510.82</td>\n",
       "      <td>1</td>\n",
       "      <td>1</td>\n",
       "      <td>1</td>\n",
       "      <td>79084.10</td>\n",
       "      <td>0</td>\n",
       "    </tr>\n",
       "  </tbody>\n",
       "</table>\n",
       "</div>"
      ],
      "text/plain": [
       "   RowNumber  CustomerId   Surname  CreditScore Geography  Gender  Age  \\\n",
       "0          1    15634602  Hargrave          619    France  Female   42   \n",
       "1          2    15647311      Hill          608     Spain  Female   41   \n",
       "2          3    15619304      Onio          502    France  Female   42   \n",
       "3          4    15701354      Boni          699    France  Female   39   \n",
       "4          5    15737888  Mitchell          850     Spain  Female   43   \n",
       "\n",
       "   Tenure    Balance  NumOfProducts  HasCrCard  IsActiveMember  \\\n",
       "0       2       0.00              1          1               1   \n",
       "1       1   83807.86              1          0               1   \n",
       "2       8  159660.80              3          1               0   \n",
       "3       1       0.00              2          0               0   \n",
       "4       2  125510.82              1          1               1   \n",
       "\n",
       "   EstimatedSalary  Exited  \n",
       "0        101348.88       1  \n",
       "1        112542.58       0  \n",
       "2        113931.57       1  \n",
       "3         93826.63       0  \n",
       "4         79084.10       0  "
      ]
     },
     "execution_count": 52,
     "metadata": {},
     "output_type": "execute_result"
    }
   ],
   "source": [
    "churn_data = pd.read_csv('data/churn.csv')\n",
    "churn_data.head()"
   ]
  },
  {
   "cell_type": "markdown",
   "id": "d2fa56d2",
   "metadata": {
    "id": "d2fa56d2"
   },
   "source": [
    "## Практика: логистическая регрессия"
   ]
  },
  {
   "cell_type": "markdown",
   "id": "4cRkKq9ZItBe",
   "metadata": {
    "id": "4cRkKq9ZItBe"
   },
   "source": [
    "В первой части вам предстоит выполнить задания 5.0–5.6. Максимальное количество баллов, которое можно получить, — 9:"
   ]
  },
  {
   "cell_type": "markdown",
   "id": "489f4fdd",
   "metadata": {
    "id": "489f4fdd"
   },
   "source": [
    "### Задание 5.0 (не оценивается)\n",
    "\n",
    "Для полноты задачи проведите небольшой разведывательный анализ данных. Постройте графики распределения целевого признака, диаграммы и графики, показывающие взаимосвязь между исходными признаками и целевым признаком, а также другие диаграммы, иллюстрирующие предоставленные данные. \n",
    "\n",
    "**Совет:** воспользуйтесь кодом, который вы писали, выполняя задания в модуле «PYTHON-13. Визуализация данных»."
   ]
  },
  {
   "cell_type": "markdown",
   "id": "8e687f96",
   "metadata": {
    "id": "8e687f96"
   },
   "source": [
    "В модуле по визуализации мы выяснили, что отток в Германии, Франции и Испании имеет различные показатели. Исследователи, которые уже работали с этим датасетом, пришли к выводу, что наилучшее решение при работе с этими данными — строить модели индивидуально для каждой страны. Мы будем прогнозировать отток в немецком филиале банка. Давайте выделим только данные, относящиеся к Германии:"
   ]
  },
  {
   "cell_type": "code",
   "execution_count": 53,
   "id": "4bd5cc7f-5db6-4464-9ccf-f40b9c0c97cb",
   "metadata": {
    "colab": {
     "base_uri": "https://localhost:8080/"
    },
    "executionInfo": {
     "elapsed": 3,
     "status": "ok",
     "timestamp": 1678085431373,
     "user": {
      "displayName": "Андрей Достоевский",
      "userId": "09718989537568551698"
     },
     "user_tz": -180
    },
    "id": "4bd5cc7f-5db6-4464-9ccf-f40b9c0c97cb",
    "outputId": "2adeac9c-d989-4731-cc95-9559e4a0e75f"
   },
   "outputs": [
    {
     "data": {
      "text/plain": [
       "(2509, 14)"
      ]
     },
     "execution_count": 53,
     "metadata": {},
     "output_type": "execute_result"
    }
   ],
   "source": [
    "churn_data = churn_data[churn_data['Geography'] == 'Germany']\n",
    "churn_data.shape"
   ]
  },
  {
   "cell_type": "markdown",
   "id": "faa98fa3",
   "metadata": {
    "id": "faa98fa3"
   },
   "source": [
    "Сразу избавимся от заведомо неинформативных признаков: страна, номер строки, идентификатор пользователя и имя клиента."
   ]
  },
  {
   "cell_type": "code",
   "execution_count": 54,
   "id": "47fd1e77-b9ab-4df6-ab69-c2d0d7411fee",
   "metadata": {
    "colab": {
     "base_uri": "https://localhost:8080/",
     "height": 206
    },
    "executionInfo": {
     "elapsed": 251,
     "status": "ok",
     "timestamp": 1678085432399,
     "user": {
      "displayName": "Андрей Достоевский",
      "userId": "09718989537568551698"
     },
     "user_tz": -180
    },
    "id": "47fd1e77-b9ab-4df6-ab69-c2d0d7411fee",
    "outputId": "ee541ca7-ba13-4f6c-b3c5-7c82bba571b0",
    "tags": []
   },
   "outputs": [
    {
     "data": {
      "text/html": [
       "<div>\n",
       "<style scoped>\n",
       "    .dataframe tbody tr th:only-of-type {\n",
       "        vertical-align: middle;\n",
       "    }\n",
       "\n",
       "    .dataframe tbody tr th {\n",
       "        vertical-align: top;\n",
       "    }\n",
       "\n",
       "    .dataframe thead th {\n",
       "        text-align: right;\n",
       "    }\n",
       "</style>\n",
       "<table border=\"1\" class=\"dataframe\">\n",
       "  <thead>\n",
       "    <tr style=\"text-align: right;\">\n",
       "      <th></th>\n",
       "      <th>CreditScore</th>\n",
       "      <th>Gender</th>\n",
       "      <th>Age</th>\n",
       "      <th>Tenure</th>\n",
       "      <th>Balance</th>\n",
       "      <th>NumOfProducts</th>\n",
       "      <th>HasCrCard</th>\n",
       "      <th>IsActiveMember</th>\n",
       "      <th>EstimatedSalary</th>\n",
       "      <th>Exited</th>\n",
       "    </tr>\n",
       "  </thead>\n",
       "  <tbody>\n",
       "    <tr>\n",
       "      <th>7</th>\n",
       "      <td>376</td>\n",
       "      <td>Female</td>\n",
       "      <td>29</td>\n",
       "      <td>4</td>\n",
       "      <td>115046.74</td>\n",
       "      <td>4</td>\n",
       "      <td>1</td>\n",
       "      <td>0</td>\n",
       "      <td>119346.88</td>\n",
       "      <td>1</td>\n",
       "    </tr>\n",
       "    <tr>\n",
       "      <th>15</th>\n",
       "      <td>616</td>\n",
       "      <td>Male</td>\n",
       "      <td>45</td>\n",
       "      <td>3</td>\n",
       "      <td>143129.41</td>\n",
       "      <td>2</td>\n",
       "      <td>0</td>\n",
       "      <td>1</td>\n",
       "      <td>64327.26</td>\n",
       "      <td>0</td>\n",
       "    </tr>\n",
       "    <tr>\n",
       "      <th>16</th>\n",
       "      <td>653</td>\n",
       "      <td>Male</td>\n",
       "      <td>58</td>\n",
       "      <td>1</td>\n",
       "      <td>132602.88</td>\n",
       "      <td>1</td>\n",
       "      <td>1</td>\n",
       "      <td>0</td>\n",
       "      <td>5097.67</td>\n",
       "      <td>1</td>\n",
       "    </tr>\n",
       "    <tr>\n",
       "      <th>26</th>\n",
       "      <td>756</td>\n",
       "      <td>Male</td>\n",
       "      <td>36</td>\n",
       "      <td>2</td>\n",
       "      <td>136815.64</td>\n",
       "      <td>1</td>\n",
       "      <td>1</td>\n",
       "      <td>1</td>\n",
       "      <td>170041.95</td>\n",
       "      <td>0</td>\n",
       "    </tr>\n",
       "    <tr>\n",
       "      <th>28</th>\n",
       "      <td>574</td>\n",
       "      <td>Female</td>\n",
       "      <td>43</td>\n",
       "      <td>3</td>\n",
       "      <td>141349.43</td>\n",
       "      <td>1</td>\n",
       "      <td>1</td>\n",
       "      <td>1</td>\n",
       "      <td>100187.43</td>\n",
       "      <td>0</td>\n",
       "    </tr>\n",
       "  </tbody>\n",
       "</table>\n",
       "</div>"
      ],
      "text/plain": [
       "    CreditScore  Gender  Age  Tenure    Balance  NumOfProducts  HasCrCard  \\\n",
       "7           376  Female   29       4  115046.74              4          1   \n",
       "15          616    Male   45       3  143129.41              2          0   \n",
       "16          653    Male   58       1  132602.88              1          1   \n",
       "26          756    Male   36       2  136815.64              1          1   \n",
       "28          574  Female   43       3  141349.43              1          1   \n",
       "\n",
       "    IsActiveMember  EstimatedSalary  Exited  \n",
       "7                0        119346.88       1  \n",
       "15               1         64327.26       0  \n",
       "16               0          5097.67       1  \n",
       "26               1        170041.95       0  \n",
       "28               1        100187.43       0  "
      ]
     },
     "execution_count": 54,
     "metadata": {},
     "output_type": "execute_result"
    }
   ],
   "source": [
    "churn_data = churn_data.drop(['Geography', 'RowNumber', 'CustomerId', 'Surname'], axis=1)\n",
    "churn_data.head()"
   ]
  },
  {
   "cell_type": "markdown",
   "id": "c2ef5b16",
   "metadata": {
    "id": "c2ef5b16"
   },
   "source": [
    "Проверим, что в наших данных нет пропусков:"
   ]
  },
  {
   "cell_type": "code",
   "execution_count": 55,
   "id": "164b1772-00c0-4cb7-9e05-ee9d9f7953d8",
   "metadata": {
    "colab": {
     "base_uri": "https://localhost:8080/"
    },
    "executionInfo": {
     "elapsed": 2,
     "status": "ok",
     "timestamp": 1678085433267,
     "user": {
      "displayName": "Андрей Достоевский",
      "userId": "09718989537568551698"
     },
     "user_tz": -180
    },
    "id": "164b1772-00c0-4cb7-9e05-ee9d9f7953d8",
    "outputId": "f8b2ff23-e81b-4f65-cd13-54655bb04fb0"
   },
   "outputs": [
    {
     "data": {
      "text/plain": [
       "CreditScore        0\n",
       "Gender             0\n",
       "Age                0\n",
       "Tenure             0\n",
       "Balance            0\n",
       "NumOfProducts      0\n",
       "HasCrCard          0\n",
       "IsActiveMember     0\n",
       "EstimatedSalary    0\n",
       "Exited             0\n",
       "dtype: int64"
      ]
     },
     "execution_count": 55,
     "metadata": {},
     "output_type": "execute_result"
    }
   ],
   "source": [
    "churn_data.isnull().sum()"
   ]
  },
  {
   "cell_type": "markdown",
   "id": "06cc2b0f",
   "metadata": {
    "id": "06cc2b0f"
   },
   "source": [
    "Проверим, что в наших данных нет дубликатов:"
   ]
  },
  {
   "cell_type": "code",
   "execution_count": 56,
   "id": "38127c2b",
   "metadata": {
    "colab": {
     "base_uri": "https://localhost:8080/"
    },
    "executionInfo": {
     "elapsed": 2,
     "status": "ok",
     "timestamp": 1678085433787,
     "user": {
      "displayName": "Андрей Достоевский",
      "userId": "09718989537568551698"
     },
     "user_tz": -180
    },
    "id": "38127c2b",
    "outputId": "9b563c30-2343-4aad-c484-feef7b7095df"
   },
   "outputs": [
    {
     "data": {
      "text/plain": [
       "CreditScore        0.0\n",
       "Gender             0.0\n",
       "Age                0.0\n",
       "Tenure             0.0\n",
       "Balance            0.0\n",
       "NumOfProducts      0.0\n",
       "HasCrCard          0.0\n",
       "IsActiveMember     0.0\n",
       "EstimatedSalary    0.0\n",
       "Exited             0.0\n",
       "dtype: float64"
      ]
     },
     "execution_count": 56,
     "metadata": {},
     "output_type": "execute_result"
    }
   ],
   "source": [
    "churn_data[churn_data.duplicated()].sum()"
   ]
  },
  {
   "cell_type": "markdown",
   "id": "2cff3b2c",
   "metadata": {
    "id": "2cff3b2c"
   },
   "source": [
    "### Задание 5.1 (1 балл)\n",
    "\n",
    "Давайте сделаем предобработку данных. \n",
    "\n",
    "Для начала расширим датасет с помощью методов Feature Engineering. Создайте следующие признаки:\n",
    "* `BalanceSalaryRatio` — отношение баланса на счетах к заработной плате клиента;\n",
    "* `TenureByAge` — отношение времени пользования услугами банка к возрасту клиента;\n",
    "* `CreditScoreGivenAge` — отношение кредитного рейтинга к возрасту клиента.\n",
    "\n",
    "Затем перекодируйте оставшиеся текстовые категориальные признаки в числовые бинарные столбцы.\n",
    "\n",
    "Выведите основные статистические характеристики полученных признаков."
   ]
  },
  {
   "cell_type": "markdown",
   "id": "f34dcdf2",
   "metadata": {
    "id": "f34dcdf2"
   },
   "source": [
    "**Критерии оценивания:**\n",
    "- Задание выполнено верно, учтены все условия (**1 балл**): \n",
    "    * приведён код для создания указанных в задании признаков;\n",
    "    * приведён код для кодирования категориальных признаков в числовые бинарные столбцы;\n",
    "    * приведён код для расчёта основных статистических характеристик полученных признаков.\n",
    "\n",
    "- Задание выполнено неверно, не учтено одно или несколько условий (**0 баллов**)."
   ]
  },
  {
   "cell_type": "code",
   "execution_count": 57,
   "id": "beb1eb33",
   "metadata": {
    "id": "beb1eb33"
   },
   "outputs": [
    {
     "data": {
      "text/html": [
       "<div>\n",
       "<style scoped>\n",
       "    .dataframe tbody tr th:only-of-type {\n",
       "        vertical-align: middle;\n",
       "    }\n",
       "\n",
       "    .dataframe tbody tr th {\n",
       "        vertical-align: top;\n",
       "    }\n",
       "\n",
       "    .dataframe thead th {\n",
       "        text-align: right;\n",
       "    }\n",
       "</style>\n",
       "<table border=\"1\" class=\"dataframe\">\n",
       "  <thead>\n",
       "    <tr style=\"text-align: right;\">\n",
       "      <th></th>\n",
       "      <th>CreditScore</th>\n",
       "      <th>Gender</th>\n",
       "      <th>Age</th>\n",
       "      <th>Tenure</th>\n",
       "      <th>Balance</th>\n",
       "      <th>NumOfProducts</th>\n",
       "      <th>HasCrCard</th>\n",
       "      <th>IsActiveMember</th>\n",
       "      <th>EstimatedSalary</th>\n",
       "      <th>Exited</th>\n",
       "      <th>BalanceSalaryRatio</th>\n",
       "      <th>TenureByAge</th>\n",
       "      <th>CreditScoreGivenAge</th>\n",
       "    </tr>\n",
       "  </thead>\n",
       "  <tbody>\n",
       "    <tr>\n",
       "      <th>count</th>\n",
       "      <td>2509.000000</td>\n",
       "      <td>2509.000000</td>\n",
       "      <td>2509.000000</td>\n",
       "      <td>2509.000000</td>\n",
       "      <td>2509.000000</td>\n",
       "      <td>2509.000000</td>\n",
       "      <td>2509.00000</td>\n",
       "      <td>2509.000000</td>\n",
       "      <td>2509.000000</td>\n",
       "      <td>2509.000000</td>\n",
       "      <td>2509.000000</td>\n",
       "      <td>2509.000000</td>\n",
       "      <td>2509.000000</td>\n",
       "    </tr>\n",
       "    <tr>\n",
       "      <th>mean</th>\n",
       "      <td>651.453567</td>\n",
       "      <td>0.524512</td>\n",
       "      <td>39.771622</td>\n",
       "      <td>5.009964</td>\n",
       "      <td>119730.116134</td>\n",
       "      <td>1.519729</td>\n",
       "      <td>0.71383</td>\n",
       "      <td>0.497409</td>\n",
       "      <td>101113.435102</td>\n",
       "      <td>0.324432</td>\n",
       "      <td>9.024870</td>\n",
       "      <td>0.134303</td>\n",
       "      <td>17.526487</td>\n",
       "    </tr>\n",
       "    <tr>\n",
       "      <th>std</th>\n",
       "      <td>98.168937</td>\n",
       "      <td>0.499498</td>\n",
       "      <td>10.519143</td>\n",
       "      <td>2.935154</td>\n",
       "      <td>27022.006157</td>\n",
       "      <td>0.619420</td>\n",
       "      <td>0.45206</td>\n",
       "      <td>0.500093</td>\n",
       "      <td>58263.011501</td>\n",
       "      <td>0.468256</td>\n",
       "      <td>214.286020</td>\n",
       "      <td>0.087680</td>\n",
       "      <td>5.349558</td>\n",
       "    </tr>\n",
       "    <tr>\n",
       "      <th>min</th>\n",
       "      <td>350.000000</td>\n",
       "      <td>0.000000</td>\n",
       "      <td>18.000000</td>\n",
       "      <td>0.000000</td>\n",
       "      <td>27288.430000</td>\n",
       "      <td>1.000000</td>\n",
       "      <td>0.00000</td>\n",
       "      <td>0.000000</td>\n",
       "      <td>11.580000</td>\n",
       "      <td>0.000000</td>\n",
       "      <td>0.192582</td>\n",
       "      <td>0.000000</td>\n",
       "      <td>6.112676</td>\n",
       "    </tr>\n",
       "    <tr>\n",
       "      <th>25%</th>\n",
       "      <td>584.000000</td>\n",
       "      <td>0.000000</td>\n",
       "      <td>32.000000</td>\n",
       "      <td>2.000000</td>\n",
       "      <td>102800.720000</td>\n",
       "      <td>1.000000</td>\n",
       "      <td>0.00000</td>\n",
       "      <td>0.000000</td>\n",
       "      <td>51016.020000</td>\n",
       "      <td>0.000000</td>\n",
       "      <td>0.783284</td>\n",
       "      <td>0.060606</td>\n",
       "      <td>13.686275</td>\n",
       "    </tr>\n",
       "    <tr>\n",
       "      <th>50%</th>\n",
       "      <td>651.000000</td>\n",
       "      <td>1.000000</td>\n",
       "      <td>38.000000</td>\n",
       "      <td>5.000000</td>\n",
       "      <td>119703.100000</td>\n",
       "      <td>1.000000</td>\n",
       "      <td>1.00000</td>\n",
       "      <td>0.000000</td>\n",
       "      <td>102397.220000</td>\n",
       "      <td>0.000000</td>\n",
       "      <td>1.197220</td>\n",
       "      <td>0.125000</td>\n",
       "      <td>16.857143</td>\n",
       "    </tr>\n",
       "    <tr>\n",
       "      <th>75%</th>\n",
       "      <td>722.000000</td>\n",
       "      <td>1.000000</td>\n",
       "      <td>45.000000</td>\n",
       "      <td>8.000000</td>\n",
       "      <td>137560.380000</td>\n",
       "      <td>2.000000</td>\n",
       "      <td>1.00000</td>\n",
       "      <td>1.000000</td>\n",
       "      <td>151083.800000</td>\n",
       "      <td>1.000000</td>\n",
       "      <td>2.400083</td>\n",
       "      <td>0.200000</td>\n",
       "      <td>20.852941</td>\n",
       "    </tr>\n",
       "    <tr>\n",
       "      <th>max</th>\n",
       "      <td>850.000000</td>\n",
       "      <td>1.000000</td>\n",
       "      <td>84.000000</td>\n",
       "      <td>10.000000</td>\n",
       "      <td>214346.960000</td>\n",
       "      <td>4.000000</td>\n",
       "      <td>1.00000</td>\n",
       "      <td>1.000000</td>\n",
       "      <td>199970.740000</td>\n",
       "      <td>1.000000</td>\n",
       "      <td>10614.655440</td>\n",
       "      <td>0.500000</td>\n",
       "      <td>46.388889</td>\n",
       "    </tr>\n",
       "  </tbody>\n",
       "</table>\n",
       "</div>"
      ],
      "text/plain": [
       "       CreditScore       Gender          Age       Tenure        Balance  \\\n",
       "count  2509.000000  2509.000000  2509.000000  2509.000000    2509.000000   \n",
       "mean    651.453567     0.524512    39.771622     5.009964  119730.116134   \n",
       "std      98.168937     0.499498    10.519143     2.935154   27022.006157   \n",
       "min     350.000000     0.000000    18.000000     0.000000   27288.430000   \n",
       "25%     584.000000     0.000000    32.000000     2.000000  102800.720000   \n",
       "50%     651.000000     1.000000    38.000000     5.000000  119703.100000   \n",
       "75%     722.000000     1.000000    45.000000     8.000000  137560.380000   \n",
       "max     850.000000     1.000000    84.000000    10.000000  214346.960000   \n",
       "\n",
       "       NumOfProducts   HasCrCard  IsActiveMember  EstimatedSalary  \\\n",
       "count    2509.000000  2509.00000     2509.000000      2509.000000   \n",
       "mean        1.519729     0.71383        0.497409    101113.435102   \n",
       "std         0.619420     0.45206        0.500093     58263.011501   \n",
       "min         1.000000     0.00000        0.000000        11.580000   \n",
       "25%         1.000000     0.00000        0.000000     51016.020000   \n",
       "50%         1.000000     1.00000        0.000000    102397.220000   \n",
       "75%         2.000000     1.00000        1.000000    151083.800000   \n",
       "max         4.000000     1.00000        1.000000    199970.740000   \n",
       "\n",
       "            Exited  BalanceSalaryRatio  TenureByAge  CreditScoreGivenAge  \n",
       "count  2509.000000         2509.000000  2509.000000          2509.000000  \n",
       "mean      0.324432            9.024870     0.134303            17.526487  \n",
       "std       0.468256          214.286020     0.087680             5.349558  \n",
       "min       0.000000            0.192582     0.000000             6.112676  \n",
       "25%       0.000000            0.783284     0.060606            13.686275  \n",
       "50%       0.000000            1.197220     0.125000            16.857143  \n",
       "75%       1.000000            2.400083     0.200000            20.852941  \n",
       "max       1.000000        10614.655440     0.500000            46.388889  "
      ]
     },
     "execution_count": 57,
     "metadata": {},
     "output_type": "execute_result"
    }
   ],
   "source": [
    "churn_data['BalanceSalaryRatio'] = churn_data['Balance'] / churn_data['EstimatedSalary']\n",
    "churn_data['TenureByAge'] = churn_data['Tenure'] / churn_data['Age']\n",
    "churn_data['CreditScoreGivenAge'] = churn_data['CreditScore'] / churn_data['Age']\n",
    "\n",
    "churn_data['Gender'] = churn_data['Gender'].apply(lambda x: 1 if x=='Male' else 0)\n",
    "\n",
    "churn_data.describe()"
   ]
  },
  {
   "cell_type": "markdown",
   "id": "9cf0fd33",
   "metadata": {
    "id": "9cf0fd33"
   },
   "source": [
    "Разделим исходный набор данных на матрицу наблюдений `X` (фичи) и столбец ответов `y` (таргет). "
   ]
  },
  {
   "cell_type": "code",
   "execution_count": 58,
   "id": "a282c11f-485c-4148-be08-609ceee1cf8f",
   "metadata": {
    "id": "a282c11f-485c-4148-be08-609ceee1cf8f"
   },
   "outputs": [],
   "source": [
    "X = churn_data.drop(\"Exited\", axis=1)\n",
    "y = churn_data[\"Exited\"]"
   ]
  },
  {
   "cell_type": "markdown",
   "id": "d5c1b75a",
   "metadata": {
    "id": "d5c1b75a"
   },
   "source": [
    "Прежде чем перейти к этапу разделения выборки на тренировочную и тестовую, давайте посмотрим на сбалансированность данных. Для этого воспользуемся методом `value_counts()` и выведем количество наблюдений каждого из классов в долевом соотношении от общего количества наблюдений:"
   ]
  },
  {
   "cell_type": "code",
   "execution_count": 59,
   "id": "8940b979-7d39-4bf1-93b0-e1b41d7ed78b",
   "metadata": {
    "colab": {
     "base_uri": "https://localhost:8080/"
    },
    "executionInfo": {
     "elapsed": 1,
     "status": "ok",
     "timestamp": 1678085438382,
     "user": {
      "displayName": "Андрей Достоевский",
      "userId": "09718989537568551698"
     },
     "user_tz": -180
    },
    "id": "8940b979-7d39-4bf1-93b0-e1b41d7ed78b",
    "outputId": "a5f5b8c3-09d7-421c-e46f-2c024d77da2e"
   },
   "outputs": [
    {
     "data": {
      "text/plain": [
       "0    0.675568\n",
       "1    0.324432\n",
       "Name: Exited, dtype: float64"
      ]
     },
     "execution_count": 59,
     "metadata": {},
     "output_type": "execute_result"
    }
   ],
   "source": [
    "y.value_counts(normalize=True)"
   ]
  },
  {
   "cell_type": "markdown",
   "id": "ef964f7a",
   "metadata": {
    "id": "ef964f7a"
   },
   "source": [
    "Очевидно, что классы не сбалансированы. Ушедших пользователей 32 %, в то время как лояльных — 68 %.\n"
   ]
  },
  {
   "cell_type": "markdown",
   "id": "bfeb6192",
   "metadata": {
    "id": "bfeb6192"
   },
   "source": [
    "**К чему это может привести?**\n",
    "\n",
    "При разделении набора данных на тренировочный и тестовый может возникнуть такая ситуация, что в тренировочную выборку попадут только лояльные клиенты или их большая часть. Тогда модель может не научиться определять вероятность оттока и качество на тестовой выборке будет неудовлетворительным.\n",
    "\n",
    "Или противоположная ситуация: в тестовую выборку попадут только лояльные клиенты. Тогда модель будет показывать отличное качество на тестовой выборке, но в реальных условиях она может оказаться бесполезной.\n",
    "\n",
    "То есть нам нужно сделать так, чтобы в тренировочной и тестовой выборке было одинаковое соотношение лояльных и ушедших клиентов. Такое разбиение выборки называется **стратифицированным**. \n",
    "\n",
    "Функция `train_test_split()` из библиотеки `sklearn` умеет производить такое разбиение. Для этого в ней предусмотрен параметр `stratify`, который нужно выставить в значение признака, который должен иметь одинаковые соотношения в тренировочной и тестовой выборке. У нас этот признак - это целевой признак y. \n",
    "\n",
    "Выполним разбиение, установив значение параметра `random_state` на 0:\n"
   ]
  },
  {
   "cell_type": "code",
   "execution_count": 60,
   "id": "8324900d-fd13-43b4-b025-5578d6e024ef",
   "metadata": {
    "colab": {
     "base_uri": "https://localhost:8080/"
    },
    "executionInfo": {
     "elapsed": 352,
     "status": "ok",
     "timestamp": 1678085440085,
     "user": {
      "displayName": "Андрей Достоевский",
      "userId": "09718989537568551698"
     },
     "user_tz": -180
    },
    "id": "8324900d-fd13-43b4-b025-5578d6e024ef",
    "outputId": "93fa8322-679a-4ec6-a8a2-10ce12d3e675"
   },
   "outputs": [
    {
     "name": "stdout",
     "output_type": "stream",
     "text": [
      "Train shape: (1881, 12)\n",
      "Test shape: (628, 12)\n"
     ]
    }
   ],
   "source": [
    "X_train, X_test, y_train, y_test = model_selection.train_test_split(\n",
    "    X, y, \n",
    "    stratify=y, \n",
    "    random_state=0\n",
    ")\n",
    "print('Train shape: {}'.format(X_train.shape))\n",
    "print('Test shape: {}'.format(X_test.shape))"
   ]
  },
  {
   "cell_type": "markdown",
   "id": "14b621e0",
   "metadata": {
    "id": "14b621e0"
   },
   "source": [
    "Проверим, что число лояльных и ушедших клиентов примерно одинаково в каждой из выборок:"
   ]
  },
  {
   "cell_type": "code",
   "execution_count": 61,
   "id": "1c34715f-9a79-490f-866a-72c596c6a0dd",
   "metadata": {
    "colab": {
     "base_uri": "https://localhost:8080/",
     "height": 191
    },
    "executionInfo": {
     "elapsed": 217,
     "status": "ok",
     "timestamp": 1678085441654,
     "user": {
      "displayName": "Андрей Достоевский",
      "userId": "09718989537568551698"
     },
     "user_tz": -180
    },
    "id": "1c34715f-9a79-490f-866a-72c596c6a0dd",
    "outputId": "dd6e6ced-54aa-4606-9798-cb276f0386b8"
   },
   "outputs": [
    {
     "name": "stdout",
     "output_type": "stream",
     "text": [
      "Train :\n"
     ]
    },
    {
     "data": {
      "text/plain": [
       "0    0.675704\n",
       "1    0.324296\n",
       "Name: Exited, dtype: float64"
      ]
     },
     "metadata": {},
     "output_type": "display_data"
    },
    {
     "name": "stdout",
     "output_type": "stream",
     "text": [
      "\n",
      "\n",
      "Test :\n"
     ]
    },
    {
     "data": {
      "text/plain": [
       "0    0.675159\n",
       "1    0.324841\n",
       "Name: Exited, dtype: float64"
      ]
     },
     "metadata": {},
     "output_type": "display_data"
    }
   ],
   "source": [
    "print('Train :')\n",
    "display(y_train.value_counts(normalize=True))\n",
    "print('\\n')\n",
    "print('Test :', )\n",
    "display(y_test.value_counts(normalize=True))"
   ]
  },
  {
   "cell_type": "markdown",
   "id": "76401ead",
   "metadata": {
    "id": "76401ead"
   },
   "source": [
    "Соотношения одинаковы, а значит, мы можем перейти к следующему шагу."
   ]
  },
  {
   "cell_type": "markdown",
   "id": "0f623386",
   "metadata": {
    "id": "0f623386"
   },
   "source": [
    "### Задание 5.2 (1 балл)\n",
    "\n",
    "Позаботьтесь о масштабировании признаков. Проведите нормализацию/стандартизацию матрицы наблюдений `X` с помощью `MinMaxScaler`/`RobustScaler` или `StandardScaler`. Выберите метод самостоятельно.\n",
    "\n",
    "Обучите один из предложенных скейлеров на тренировочной выборке (вычислите параметры трансформации) и примените трансформацию данных к тренировочной и тестовой выборкам."
   ]
  },
  {
   "cell_type": "markdown",
   "id": "dda27421",
   "metadata": {
    "id": "dda27421"
   },
   "source": [
    "**Критерии оценивания:**\n",
    "- Задание выполнено верно, учтены все условия (**1 балл**): \n",
    "    * приведён код для создания одного из вариантов скейлеров для масштабирования данных;\n",
    "    * приведён код для расчёта параметров трансформации (обучение скейлера) на тренировочной выборке;\n",
    "    * приведён код для трансформации тренировочных и тестовых данных (признаков) в соответствии с вычисленными параметрами.\n",
    "\n",
    "- Задание выполнено неверно, не учтено одно или несколько условий (**0 баллов**)."
   ]
  },
  {
   "cell_type": "code",
   "execution_count": 62,
   "id": "0e1f264e",
   "metadata": {
    "id": "0e1f264e"
   },
   "outputs": [],
   "source": [
    "scaler = preprocessing.MinMaxScaler()\n",
    "scaler.fit(X_train)\n",
    "X_train_scaled = scaler.transform(X_train)\n",
    "X_test_scaled = scaler.transform(X_test)"
   ]
  },
  {
   "cell_type": "markdown",
   "id": "66527b15",
   "metadata": {
    "id": "66527b15"
   },
   "source": [
    "Теперь переходим к моделированию."
   ]
  },
  {
   "cell_type": "markdown",
   "id": "69df2d66",
   "metadata": {
    "id": "69df2d66"
   },
   "source": [
    "### Задание 5.3 (1 балл)\n",
    "\n",
    "Для начала давайте заранее определим метрику, на которую будем ориентироваться. \n",
    "\n",
    "По условию задачи, наша модель должна своевременно предсказывать отток клиентов. Известно, что для сохранения клиентов банк будет использовать ресурсы колл-центра и клиентам, у которых вероятность оттока наиболее высока, будут сделаны специальные предложения. Ресурсы, выделяемые на сохранение клиентов, ограничены, поэтому нам важно минимизировать количество звонков. Однако в то же время необходимо сохранить как можно больше клиентов.\n",
    "\n",
    "Таким образом, нам бы хотелось минимизировать как ложноположительные и ложноотрицательные срабатывания модели.\n",
    "\n",
    "Какую метрику в данной задаче вы будете пытаться улучшить? Обоснуйте свой выбор. \n"
   ]
  },
  {
   "cell_type": "markdown",
   "id": "9c4e72a3",
   "metadata": {
    "id": "9c4e72a3"
   },
   "source": [
    "**Критерии оценивания:**\n",
    "- Задание выполнено верно, учтены все условия (**1 балл**): \n",
    "    * выбрана верная метрика;\n",
    "    * приведено развернутое обоснование выбора метрики, и приведенные рассуждения являются верными;\n",
    "\n",
    "- Задание выполнено неверно, не учтено одно или несколько условий (**0 баллов**)."
   ]
  },
  {
   "cell_type": "markdown",
   "id": "AOgaRpo53tgp",
   "metadata": {
    "id": "AOgaRpo53tgp"
   },
   "source": [
    "Метрика accuracy здесь не подходит, поскольку количество лояльных и ушедших клиентов распределено неравномерно. В связи с условиями задачи, а именно с тем, что нам нужно не только точно отобрать наиболее вероятно отточных клиентов (метрика precision), но и постараться отобрать максимальное их количество (метрика recall), целевой и оптимальной метрикой при решении данной задачи будем считать метрику f-мера."
   ]
  },
  {
   "cell_type": "markdown",
   "id": "34e0666e",
   "metadata": {
    "id": "34e0666e"
   },
   "source": [
    "### Задание 5.4 (2 балла)\n",
    "\n",
    "Обучите модель логистической регрессии (`Logistic Regression`) на тренировочных данных. Позаботьтесь о воспроизводимости результата, установив конкретное значение параметра `random_state` (например, число 42).\n",
    "\n",
    "Сделайте предсказание меток классов для тренировочной и тестовой выборок. \n",
    "\n",
    "Рассчитайте значение целевой метрики на тренировочной и тестовой выборках. \n",
    "\n",
    "Проинтерпретируйте полученные результаты, ответив на следующий вопрос:\n",
    "* Как вы считаете, является ли ваша модель переобученной или недообученной?\n",
    "\n",
    "> **Примечание.** Будем считать, что модель нас не удовлетворяет (считается недообученной), если значение целевой метрики на тестовой выборке меньше 0.5.\n",
    "\n",
    "**Дополнительное задание:**\n",
    "\n",
    "Попробуйте поуправлять следующими параметрами модели:\n",
    "* `penalty` — тип используемой регуляризации ('l1' — $L_1$-регуляризация, 'l2' — $L_2$-регуляризация);\n",
    "* `C` — коэффициент, обратный коэффициенту регуляризации (по умолчанию он равен 1).\n",
    "\n",
    "Понаблюдайте, как ведут себя метрики в зависимости от типа регуляризации и увеличения/уменьшения значения парамера `C`."
   ]
  },
  {
   "cell_type": "markdown",
   "id": "8a1f5868",
   "metadata": {
    "id": "8a1f5868"
   },
   "source": [
    "**Критерии оценивания:**\n",
    "- Задание выполнено верно, учтены все условия (**2 балла**): \n",
    "    * построена модель логистической регрессии, решающая поставленную задачу;\n",
    "    * с помощью полученной модели сформированы предсказания на тренировочной и тестовой выборках;\n",
    "    * приведён расчёт выбранной метрики на тренировочных и тестовых данных (метрика должна быть выбрана корректно);\n",
    "    * приведён небольшой вывод по полученным результатам, в котором содержится ответ на поставленный в задании вопрос.\n",
    "\n",
    "- Задание выполнено верно, но не приведён вывод по полученным результатам или вывод является неверным (**1 балл**).\n",
    "- Задание выполнено неверно, не учтено несколько условий (**0 баллов**)."
   ]
  },
  {
   "cell_type": "code",
   "execution_count": 65,
   "id": "f97d7a56",
   "metadata": {},
   "outputs": [
    {
     "name": "stdout",
     "output_type": "stream",
     "text": [
      "0.49\n",
      "0.47\n"
     ]
    }
   ],
   "source": [
    "model = linear_model.LogisticRegression(random_state=42)\n",
    "model.fit(X_train_scaled, y_train)\n",
    "\n",
    "y_train_predict = model.predict(X_train_scaled)\n",
    "y_test_predict = model.predict(X_test_scaled)\n",
    "\n",
    "print(round(metrics.f1_score(y_train, y_train_predict), 2))\n",
    "print(round(metrics.f1_score(y_test, y_test_predict), 2))"
   ]
  },
  {
   "cell_type": "markdown",
   "id": "9258c527",
   "metadata": {
    "id": "9258c527"
   },
   "source": [
    "На тестовой выборке метрика для ушедших клиентов составляет 0.47, а на ренировочной - 0.49. Это говорит о том, что наша модель является недообученной и нас не удовлетворяет, поскольку метрика показывает слишком низкие результаты. "
   ]
  },
  {
   "cell_type": "markdown",
   "id": "e6709b8d",
   "metadata": {
    "id": "e6709b8d"
   },
   "source": [
    "### Задание 5.5 (2 балла)\n",
    "\n",
    "Сгенерируйте полиномиальные признаки третьей степени для тренировочной и тестовой выборок. Используйте класс `PolynomialFeatures` из библиотеки `sklearn`. Параметр `include_bias` выставите в значение `False`.\n",
    "\n",
    "> **Примечание.** Обратите внимание, что для генерации полиномов необходимо использовать масштабированные данные.\n",
    "\n",
    "Обучите модель логистической регрессии на полиномиальных признаках (`Logistic Regression`). Позаботьтесь о воспроизводимости результат, установив конкретное значение параметра `random_state` (например, число 42).\n",
    "\n",
    "Предскажите метки классов для тренировочной и тестовой выборок.\n",
    "\n",
    "Рассчитайте значение целевой метрики на тренировочной и тестовой выборках для модели, обученной на полиномиальных признаках.\n",
    "\n",
    "Сравните результат с полученным ранее. Удалось ли вам улучшить качество вашей модели?\n",
    "\n",
    "**Дополнительное задание:**\n",
    "\n",
    "Попробуйте поуправлять следующими параметрами модели:\n",
    "* `penalty` — тип используемой регуляризации ('l1' — $L_1$-регуляризация, 'l2' — $L_2$-регуляризация);\n",
    "* `C` — коэффициент, обратный коэффициенту регуляризации (по умолчанию он равен 1).\n",
    "\n",
    "Понаблюдайте, как ведут себя метрики в зависимости от типа регуляризации и увеличения/уменьшения значения парамера `C`."
   ]
  },
  {
   "cell_type": "markdown",
   "id": "af02d772",
   "metadata": {
    "id": "af02d772"
   },
   "source": [
    "**Критерии оценивания:**\n",
    "- Задание выполнено верно, учтены все условия (**2 балла**): \n",
    "    * сгенерированы полиномиальные признаки третьей степени;\n",
    "    * построена модель логистической регрессии, решающая поставленную задачу на основе сгенерированных признаков;\n",
    "    * с помощью полученной модели сформированы предсказания на тренировочной и тестовой выборках;\n",
    "    * приведён расчёт выбранной метрики на тренировочных и тестовых данных (метрика должна быть выбрана корректно);\n",
    "    * приведён небольшой вывод по полученным результатам, в котором содержится корректный ответ на поставленный в задании вопрос.\n",
    "\n",
    "- Задание выполнено верно, но не приведён вывод по полученным результатам или вывод является неверным (**1 балл**).\n",
    "- Задание выполнено неверно, не учтено несколько условий (**0 баллов**)."
   ]
  },
  {
   "cell_type": "code",
   "execution_count": 66,
   "id": "23315092",
   "metadata": {
    "id": "23315092"
   },
   "outputs": [
    {
     "name": "stdout",
     "output_type": "stream",
     "text": [
      "0.66\n",
      "0.64\n"
     ]
    }
   ],
   "source": [
    "poly = preprocessing.PolynomialFeatures(degree=3, include_bias=False)\n",
    "poly.fit(X_train_scaled)\n",
    "\n",
    "X_train_scaled_poly = poly.transform(X_train_scaled)\n",
    "X_test_scaled_poly = poly.transform(X_test_scaled)\n",
    "\n",
    "model = linear_model.LogisticRegression(max_iter=1000, random_state=42)\n",
    "model.fit(X_train_scaled_poly, y_train)\n",
    "\n",
    "y_train_predict_poly = model.predict(X_train_scaled_poly)\n",
    "y_test_predict_poly = model.predict(X_test_scaled_poly)\n",
    "\n",
    "print(round(metrics.f1_score(y_train, y_train_predict_poly), 2))\n",
    "print(round(metrics.f1_score(y_test, y_test_predict_poly), 2))"
   ]
  },
  {
   "cell_type": "markdown",
   "id": "4e7d4e3e",
   "metadata": {
    "id": "4e7d4e3e"
   },
   "source": [
    "На тестовой выборке метрика для ушедших клиентов составляет 0.64, а на ренировочной - 0.66. Нам удалось значительно улучшить качество модели с добавлением полиномиальных признаков. На мой взгляд, теперь можно считать нашу модель достаточно обученной. И именно обученной, а не переобученной с учётом такого количества признаков, поскольку в модели логистической регрессии уже заложена регуляризация."
   ]
  },
  {
   "cell_type": "markdown",
   "id": "8dc563a4",
   "metadata": {
    "id": "8dc563a4"
   },
   "source": [
    "### Задание 5.6. (2 балла)\n",
    "\n",
    "\n",
    "Попробуйте подобрать значение порога вероятности, при котором наблюдается наибольшее значение целевой метрики на тестовой выборке. В качестве модели используйте логистическую регрессию, обученную на полиномиальных признаках. \n",
    "\n",
    "В качестве порога вероятности используйте значения из следующего диапазона:\n",
    "\n",
    "`thresholds = np.arange(0.1, 1, 0.05)`\n",
    "\n",
    "Напомним алгоритм, как определить оптимальный порог вероятности:\n",
    "* Предсказать вероятности оттока для каждого клиента из тестовой выборки.\n",
    "* В цикле перебрать значения порогов вероятности threshold:\n",
    "    * Сделать предсказание класса по принципу: если вероятность > threshold, то отнести объект к классу 1, в противном случае — к классу 0.\n",
    "    * Рассчитать метрику и занести её в заранее созданный список.\n",
    "\n",
    "Для реализации алгоритма подбора вы можете воспользоваться шаблоном кода, приведённым ниже:\n",
    "\n",
    "```python\n",
    "# Делаем предсказание вероятности оттока для каждого клиента из тестовой выборки\n",
    "y_test_proba_pred = pd.Series(model.predict_proba(X_test_poly)[:, 1])\n",
    "# Инициализируем список, куда будем сохранять метрики.\n",
    "scores = []\n",
    "# Задаём значения порогов вероятности\n",
    "thresholds = np.arange(0.1, 1, 0.05)\n",
    "# В цикле перебираем значения порогов вероятности\n",
    "for threshold in thresholds:\n",
    "    # Делаем предсказание\n",
    "    y_test_pred_poly = y_test_proba_pred.apply(lambda x: 1 if x > threshold else 0)\n",
    "    # Рассчитываем метрику\n",
    "    score = # код для вычисления метрики\n",
    "    # Добавляем результат в список\n",
    "    scores.append(score)\n",
    "```\n",
    "\n",
    "Постройте график зависимости целевой метрики от порога вероятности. На основе построенного графика определите порог вероятности, которому соответствует наибольшее значение целевой метрики на тестовой выборке.\n",
    "\n",
    "Сделайте предсказание классов с подобранным оптимальным порогом вероятности. Рассчитайте значение целевой метрики на тестовой выборке и сравните результат с полученными ранее.\n"
   ]
  },
  {
   "cell_type": "markdown",
   "id": "efc4a3c0",
   "metadata": {
    "id": "efc4a3c0"
   },
   "source": [
    "**Критерии оценивания:**\n",
    "- Задание выполнено верно, учтены все условия (**2 балла**): \n",
    "    * приведён код для построения графика зависимости значения выбранной метрики от порога вероятности;\n",
    "    * найден оптимальный порог вероятности, на котором достигается наибольшее значение выбранной метрики на тестовой выборке;\n",
    "    * на основе найденного порога вероятности построено предсказание модели для тренировочной и тестовой выборок;\n",
    "    * приведён расчёт выбранной метрики на тренировочных и тестовых данных (метрика должна быть выбрана корректно).\n",
    "\n",
    "- Задание выполнено верно, но не приведён вывод по полученным результатам или вывод является неверным (**1 балл**).\n",
    "- Задание выполнено неверно, не учтено несколько условий (**0 баллов**)."
   ]
  },
  {
   "cell_type": "code",
   "execution_count": 25,
   "id": "oYs8-MFYSNxX",
   "metadata": {
    "id": "oYs8-MFYSNxX"
   },
   "outputs": [
    {
     "data": {
      "image/png": "[encoded data removed]",
      "text/plain": [
       "<Figure size 720x288 with 1 Axes>"
      ]
     },
     "metadata": {
      "needs_background": "light"
     },
     "output_type": "display_data"
    }
   ],
   "source": [
    "#Нас интересует только вероятность класса (второй столбец)\n",
    "y_test_poly_proba_pred = model.predict_proba(X_test_scaled_poly)[:, 1]\n",
    "#Для удобства завернем numpy-массив в pandas Series\n",
    "y_test_poly_proba_pred = pd.Series(y_test_poly_proba_pred)\n",
    "#Создадим списки, в которых будем хранить значения метрик \n",
    "recall_scores = []\n",
    "precision_scores = []\n",
    "f1_scores = []\n",
    "#Сгенерируем набор вероятностных порогов в диапазоне от 0.1 до 1\n",
    "thresholds = np.arange(0.1, 1, 0.05)\n",
    "#В цикле будем перебирать сгенерированные пороги\n",
    "for threshold in thresholds:\n",
    "    #В противном случае - к классу 0\n",
    "    y_test_pred = y_test_poly_proba_pred.apply(lambda x: 1 if x>threshold else 0)\n",
    "    #Считаем метрики и добавляем их в списки\n",
    "    recall_scores.append(metrics.recall_score(y_test, y_test_pred))\n",
    "    precision_scores.append(metrics.precision_score(y_test, y_test_pred))\n",
    "    f1_scores.append(metrics.f1_score(y_test, y_test_pred))\n",
    "\n",
    "#Визуализируем метрики при различных threshold\n",
    "fig, ax = plt.subplots(figsize=(10, 4)) #фигура + координатная плоскость\n",
    "#Строим линейный график зависимости recall от threshold\n",
    "ax.plot(thresholds, recall_scores, label='Recall')\n",
    "#Строим линейный график зависимости precision от threshold\n",
    "ax.plot(thresholds, precision_scores, label='Precision')\n",
    "\n",
    "#Строим линейный график зависимости F1 от threshold\n",
    "ax.plot(thresholds, f1_scores, label='F1-score')\n",
    "#Даем графику название и подписи осям\n",
    "ax.set_title('Recall/Precision dependence on the threshold')\n",
    "ax.set_xlabel('Probability threshold')\n",
    "ax.set_ylabel('Score')\n",
    "ax.legend();"
   ]
  },
  {
   "cell_type": "code",
   "execution_count": 67,
   "id": "a8fcaf7b",
   "metadata": {},
   "outputs": [
    {
     "name": "stdout",
     "output_type": "stream",
     "text": [
      "0.7\n",
      "0.67\n"
     ]
    }
   ],
   "source": [
    "y_train_poly_proba_pred = model.predict_proba(X_train_scaled_poly)[:, 1]\n",
    "y_train_poly_proba_pred = pd.Series(y_train_poly_proba_pred)\n",
    "\n",
    "threshold_opt = 0.4\n",
    "y_train_poly_pred_opt = y_train_poly_proba_pred.apply(lambda x: 1 if x > threshold_opt else 0)\n",
    "y_test_poly_pred_opt = y_test_poly_proba_pred.apply(lambda x: 1 if x > threshold_opt else 0)\n",
    "\n",
    "print(round(metrics.f1_score(y_train, y_train_poly_pred_opt), 2))\n",
    "print(round(metrics.f1_score(y_test, y_test_poly_pred_opt), 2))"
   ]
  },
  {
   "cell_type": "markdown",
   "id": "100489cd",
   "metadata": {},
   "source": [
    "Судя по графику, подбираем оптимальный порог вероятности - это 0.4. На тестовой выборке метрика для ушедших клиентов ещё подрастает до 0.67, а на трейне до 0.7. На данном этапе мы подобрали оптимальный порог вероятности и улучшили качество работы модели."
   ]
  },
  {
   "cell_type": "markdown",
   "id": "ae809d58",
   "metadata": {
    "id": "ae809d58"
   },
   "source": [
    "## Практика: деревья решений и случайный лес"
   ]
  },
  {
   "cell_type": "markdown",
   "id": "32dd8694",
   "metadata": {
    "id": "32dd8694"
   },
   "source": [
    "Мы продолжаем решать задачу прогнозирования оттока клиентов банка.\n",
    "\n",
    "Ранее мы построили модель логистической регрессии, затем добавили в модель полиномиальные признаки и подобрали оптимальный порог вероятности для логистической регрессии.\n",
    "\n",
    "> Теперь попробуем решить задачу с помощью деревьев решений и лесов.\n",
    "\n",
    "\n",
    "> **Примечание №1.** Для выполнения дальнейших заданий необходимо совершить уже знакомые шаги предобработки с данными об оттоке клиентов банка, а именно:\n",
    "* выделить данные, относящиеся к отделениям банка в Германии;\n",
    "* избавиться от заведомо неинформативных признаков;\n",
    "* расширить датасет путём добавления новых признаков;\n",
    "* разделить выборку на тренировочную и тестовую со стратификацией.\n",
    "\n",
    "> **Примечание №2.** Деревья решений — алгоритм, способный уловить нелинейные зависимости. Генерация полиномиальных признаков практически не имеет значения.\n",
    "Также деревья решений не чувствительны к масштабу признаков. Масштабирование исходных данных не играет роли при построении деревьев решения.\n",
    "Поэтому для решения задачи используйте обучающую (`X_train`, `y_train`) и тестовую (`X_test`, `y_test`) выборки без полиномиальных столбцов.\n"
   ]
  },
  {
   "cell_type": "code",
   "execution_count": 69,
   "id": "9fcfcba4",
   "metadata": {
    "colab": {
     "base_uri": "https://localhost:8080/"
    },
    "executionInfo": {
     "elapsed": 222,
     "status": "ok",
     "timestamp": 1678085972604,
     "user": {
      "displayName": "Андрей Достоевский",
      "userId": "09718989537568551698"
     },
     "user_tz": -180
    },
    "id": "9fcfcba4",
    "outputId": "90611fd6-1306-46fe-ea78-cd6f8a5ae2ce"
   },
   "outputs": [
    {
     "name": "stdout",
     "output_type": "stream",
     "text": [
      "Train shape: (1881, 12)\n",
      "Test shape: (628, 12)\n"
     ]
    }
   ],
   "source": [
    "X_train, X_test, y_train, y_test = model_selection.train_test_split(\n",
    "    X, y, \n",
    "    stratify=y, \n",
    "    random_state=0\n",
    ")\n",
    "print('Train shape: {}'.format(X_train.shape))\n",
    "print('Test shape: {}'.format(X_test.shape))"
   ]
  },
  {
   "cell_type": "markdown",
   "id": "48LgpXuJt_nL",
   "metadata": {
    "id": "48LgpXuJt_nL"
   },
   "source": [
    "Импортируем необходимые для выполнения практики модули:"
   ]
  },
  {
   "cell_type": "code",
   "execution_count": 70,
   "id": "4b23febd-6403-4b0a-a024-28f27c240729",
   "metadata": {
    "id": "4b23febd-6403-4b0a-a024-28f27c240729"
   },
   "outputs": [],
   "source": [
    "from sklearn import tree\n",
    "from sklearn import ensemble"
   ]
  },
  {
   "cell_type": "markdown",
   "id": "4r3hncEEfx8T",
   "metadata": {
    "id": "4r3hncEEfx8T"
   },
   "source": [
    "Приступим! Выполните задания 8.1–8.4."
   ]
  },
  {
   "cell_type": "markdown",
   "id": "b57000af",
   "metadata": {
    "id": "b57000af"
   },
   "source": [
    "### Задание 8.1. (2 балла)\n",
    "\n",
    "Обучите на тренировочной выборке дерево решений из библиотеки `sklearn` (`DecisionTreeClassifier`) с неограниченной максимальной глубиной дерева. В качестве критерия информативности используйте энтропию Шеннона, остальные параметры оставьте по умолчанию. \n",
    "\n",
    "Также позаботьтесь о воспроизводимости результатов, установив конкретное  значение `random_state` (например, число 42). \n",
    "\n",
    "Сделайте предсказания для тренировочной и тестовой выборок. Рассчитайте значение целевой метрики на каждой из выборок.\n",
    "\n",
    "Сделайте вывод, ответив на вопрос:\n",
    "* Как вы считаете, является полученная модель переобученной или недообученной? Попробуйте дать обоснование, почему так происходит.\n"
   ]
  },
  {
   "cell_type": "markdown",
   "id": "52fdb449",
   "metadata": {
    "id": "52fdb449"
   },
   "source": [
    "**Критерии оценивания:**\n",
    "- Задание выполнено верно, учтены все условия (**2 балла**): \n",
    "    * построена модель дерева решений с заданными в условии задачи параметрами;\n",
    "    * с помощью полученной модели сформированы предсказания для тренировочной и тестовой выборок;\n",
    "    * приведён расчёт выбранной метрики на тренировочных и тестовых данных (метрика должна быть выбрана корректно);\n",
    "    * приведён небольшой вывод по полученным результатам, в котором содержится корректный ответ на поставленный в задании вопрос, а также обоснование полученного результата.\n",
    "\n",
    "- Задание выполнено верно, но не приведено обоснование полученного результата или обоснование является некорректным (**1 балл**).\n",
    "- Задание выполнено неверно, не учтено несколько условий (**0 баллов**)."
   ]
  },
  {
   "cell_type": "code",
   "execution_count": 71,
   "id": "59a61357",
   "metadata": {
    "id": "59a61357"
   },
   "outputs": [
    {
     "name": "stdout",
     "output_type": "stream",
     "text": [
      "1.0\n",
      "0.57\n"
     ]
    }
   ],
   "source": [
    "model = tree.DecisionTreeClassifier(\n",
    "    criterion='entropy',\n",
    "    random_state=42)\n",
    "model.fit(X_train, y_train)\n",
    "\n",
    "y_train_pred = model.predict(X_train)\n",
    "y_test_pred = model.predict(X_test)\n",
    "\n",
    "print(metrics.f1_score(y_train, y_train_pred))\n",
    "print(round(metrics.f1_score(y_test, y_test_pred), 2))"
   ]
  },
  {
   "cell_type": "markdown",
   "id": "40d5e039",
   "metadata": {
    "id": "40d5e039"
   },
   "source": [
    "Полученная модель определённо является переобученной, поскольку на трейне метрика равна 1. Это означает, что модель попросту полностью подстроилась под обучающий набор данных и не представляет никакого смысла для тестовой выборки, хоть метрика на тесте и показывает неплохой результат."
   ]
  },
  {
   "cell_type": "markdown",
   "id": "ab0187f6",
   "metadata": {
    "id": "ab0187f6"
   },
   "source": [
    "### Задание 8.2. (1 балл)\n",
    "\n",
    "Давайте «подстрижём» наше дерево. \n",
    "\n",
    "Обучите на тренировочной выборке дерево решений из библиотеки `sklearn` (`DecisionTreeClassifier`) с максимальной глубиной 8. В качестве критерия информативности используйте энтропию Шеннона, минимальное число объектов в листе (количество объектов, при которых дерево прекратит делиться и образуется лист) — 10.\n",
    "\n",
    "Также позаботьтесь о воспроизводимости результатов, установив конкретное значение `random_state` (например, число 42).\n",
    "\n",
    "Сделайте предсказания для тренировочной и тестовой выборок. Рассчитайте значение целевой метрики на каждой из выборок.\n",
    "\n",
    "Сравните результат с полученными ранее. Сделайте вывод.\n"
   ]
  },
  {
   "cell_type": "markdown",
   "id": "4216b9ca",
   "metadata": {
    "id": "4216b9ca"
   },
   "source": [
    "**Критерии оценивания:**\n",
    "- Задание выполнено верно, учтены все условия (**1 балла**): \n",
    "    * построена модель дерева решений с заданными в условии задачи параметрами;\n",
    "    * с помощью полученной модели сформированы предсказания для тренировочной и тестовой выборок;\n",
    "    * приведён расчёт выбранной метрики на тренировочных и тестовых данных (метрика должна быть выбрана корректно);\n",
    "    * приведён небольшой вывод по полученным результатам, в котором содержится корректный ответ на поставленный в задании вопрос.\n",
    "\n",
    "- Задание выполнено неверно, не учтено одно или несколько условий (**0 баллов**)."
   ]
  },
  {
   "cell_type": "code",
   "execution_count": 72,
   "id": "ab6e8060",
   "metadata": {
    "id": "ab6e8060"
   },
   "outputs": [
    {
     "name": "stdout",
     "output_type": "stream",
     "text": [
      "0.72\n",
      "0.64\n"
     ]
    }
   ],
   "source": [
    "model = tree.DecisionTreeClassifier(\n",
    "    criterion='entropy',\n",
    "    max_depth=8,\n",
    "    min_samples_leaf=10,\n",
    "    random_state=42)\n",
    "model.fit(X_train, y_train)\n",
    "\n",
    "y_train_pred = model.predict(X_train)\n",
    "y_test_pred = model.predict(X_test)\n",
    "\n",
    "print(round(metrics.f1_score(y_train, y_train_pred), 2))\n",
    "print(round(metrics.f1_score(y_test, y_test_pred), 2))"
   ]
  },
  {
   "cell_type": "markdown",
   "id": "0d9a4222",
   "metadata": {
    "id": "0d9a4222"
   },
   "source": [
    "Эта модель уже намного лучше предыдущей, её нельзя назвать ни недообученной, ни переобученной. Метрика на трейне показывает хороший результат, на тесте метрика также значительно подросла."
   ]
  },
  {
   "cell_type": "markdown",
   "id": "2a37fe23",
   "metadata": {
    "id": "2a37fe23"
   },
   "source": [
    "### Задание 8.3. (1 балл)\n",
    "\n",
    "Давайте воспользуемся случайным лесом. \n",
    "\n",
    "Постройте случайный лес (`RandomForestClassifier`) из 500 деревьев с максимальной глубиной 8. Критерий информативности — энтропия Шеннона, минимальное число объектов в листе (количество объектов, при которых дерево прекратит делиться и образуется лист) — 10.\n",
    "\n",
    "Также позаботьтесь о воспроизводимости результатов, установив конкретное значение значение `random_state` (например, число 42).\n",
    "\n",
    "Сделайте предсказания для тренировочной и тестовой выборок. Рассчитайте значение целевой метрики на каждой из выборок.\n",
    "\n",
    "Сравните качество одного дерева решений с качеством случайного леса на тестовой выборке. Смогли ли вы улучшить метрику?\n"
   ]
  },
  {
   "cell_type": "markdown",
   "id": "0277e1e0",
   "metadata": {
    "id": "0277e1e0"
   },
   "source": [
    "**Критерии оценивания:**\n",
    "- Задание выполнено верно, учтены все условия (**1 балл**): \n",
    "    * построена модель дерева решений с заданными в условии задачи параметрами;\n",
    "    * с помощью полученной модели сформированы предсказания для тренировочной и тестовой выборок;\n",
    "    * приведён расчёт выбранной метрики на тренировочных и тестовых данных (метрика должна быть выбрана корректно);\n",
    "    * приведён небольшой вывод по полученным результатам, в котором содержится корректный ответ на поставленный в задании вопрос.\n",
    "\n",
    "- Задание выполнено неверно, не учтено одно или несколько условий (**0 баллов**)."
   ]
  },
  {
   "cell_type": "code",
   "execution_count": 73,
   "id": "a7a08886",
   "metadata": {
    "id": "a7a08886"
   },
   "outputs": [
    {
     "name": "stdout",
     "output_type": "stream",
     "text": [
      "0.74\n",
      "0.66\n"
     ]
    }
   ],
   "source": [
    "model = ensemble.RandomForestClassifier(\n",
    "    n_estimators=500,\n",
    "    criterion='entropy',\n",
    "    max_depth=8,\n",
    "    min_samples_leaf=10,\n",
    "    random_state=42)\n",
    "model.fit(X_train, y_train)\n",
    "\n",
    "y_train_pred = model.predict(X_train)\n",
    "y_test_pred = model.predict(X_test)\n",
    "\n",
    "print(round(metrics.f1_score(y_train, y_train_pred), 2))\n",
    "print(round(metrics.f1_score(y_test, y_test_pred), 2))"
   ]
  },
  {
   "cell_type": "markdown",
   "id": "80cfd760",
   "metadata": {
    "id": "80cfd760"
   },
   "source": [
    "Модель случайного леса, а точнее результат её работы, показывает ещё более лучший результат, чем модель дерева решений. Метрики на трейне и на тесте ещё немного подросли, получается, нам только остаётся подобрать оптимальный порог вероятности для ещё большего улучшения качества метрики. "
   ]
  },
  {
   "cell_type": "markdown",
   "id": "f65b1d5d",
   "metadata": {
    "id": "f65b1d5d"
   },
   "source": [
    "### Задание 8.4. (2 балла)\n",
    "\n",
    "Мы на финишной прямой. \n",
    "\n",
    "\n",
    "Попробуйте подобрать значение порога вероятности, при котором наблюдается наибольшее значение целевой метрики на тестовой выборке. **Используйте ту модель (из рассмотренных ранее), которая показала наилучшее качество на тестовой выборке.**\n",
    "\n",
    "\n",
    "В качестве порога вероятности используйте значения из следующего диапазона:\n",
    "\n",
    "`thresholds = np.arange(0.1, 1, 0.05)`\n",
    "\n",
    "Напомним алгоритм, как определить оптимальный порог вероятности:\n",
    "* Предсказать вероятности оттока для каждого клиента из тестовой выборки.\n",
    "* В цикле перебрать значения порогов вероятности threshold:\n",
    "    * Сделать предсказание класса по принципу: если вероятность > threshold, то отнести объект к классу 1, в противном случае — к классу 0.\n",
    "    * Рассчитать метрику и занести её в заранее созданный список. \n",
    "\n",
    "Для реализации алгоритма подбора вы можете воспользоваться шаблоном кода, приведённым ниже:\n",
    "\n",
    "```python\n",
    "# Делаем предсказание вероятности оттока для каждого клиента из тестовой выборки\n",
    "y_test_proba_pred = pd.Series(model.predict_proba(X_test_poly)[:, 1])\n",
    "# Инициализируем список, куда будем сохранять метрики.\n",
    "scores = []\n",
    "# Задаём значения порогов вероятности\n",
    "thresholds = np.arange(0.1, 1, 0.05)\n",
    "# В цикле перебираем значения порогов вероятности\n",
    "for threshold in thresholds:\n",
    "    # Делаем предсказание\n",
    "    y_test_pred_poly = y_test_proba_pred.apply(lambda x: 1 if x > threshold else 0)\n",
    "    # Рассчитываем метрику\n",
    "    score = # код для вычисления метрики\n",
    "    # Добавляем результат в список\n",
    "    scores.append(score)\n",
    "```\n",
    "\n",
    "Постройте график зависимости целевой метрики от порога вероятности. На основе построенного графика определите порог вероятности, которому соответствует наибольшее значение целевой метрики на тестовой выборке.\n",
    "\n",
    "Сделайте предсказание классов с подобранным оптимальным порогом вероятности. Рассчитайте значение целевой метрики на тестовой выборке и сравните полученный результат с полученными ранее. \n",
    "\n",
    "Напишите небольшой вывод о проделанной работе, указав в нём, какая из рассмотренных нами моделей показала наилучший результат.\n",
    "\n",
    "> **Примечание.** Помните о том, что в реальных задачах (а мы решали задачу на реальных данных) мы практически никогда не сможем получить значения метрик, близкие к 1. Если в задаче прогнозирования оттока ваша метрика превышает хотя бы значения 0.6-0.7, вашу модель уже можно считать хорошей и можно говорить о том, что она успешно справляется с задачей."
   ]
  },
  {
   "cell_type": "code",
   "execution_count": 38,
   "id": "a5578584",
   "metadata": {
    "id": "a5578584"
   },
   "outputs": [
    {
     "name": "stderr",
     "output_type": "stream",
     "text": [
      "C:\\Anaconda\\lib\\site-packages\\sklearn\\metrics\\_classification.py:1334: UndefinedMetricWarning: Precision is ill-defined and being set to 0.0 due to no predicted samples. Use `zero_division` parameter to control this behavior.\n",
      "  _warn_prf(average, modifier, msg_start, len(result))\n",
      "C:\\Anaconda\\lib\\site-packages\\sklearn\\metrics\\_classification.py:1334: UndefinedMetricWarning: Precision is ill-defined and being set to 0.0 due to no predicted samples. Use `zero_division` parameter to control this behavior.\n",
      "  _warn_prf(average, modifier, msg_start, len(result))\n"
     ]
    },
    {
     "data": {
      "image/png": "[encoded data removed]",
      "text/plain": [
       "<Figure size 720x288 with 1 Axes>"
      ]
     },
     "metadata": {
      "needs_background": "light"
     },
     "output_type": "display_data"
    }
   ],
   "source": [
    "#Нас интересует только вероятность класса (второй столбец)\n",
    "y_test_proba_pred = model.predict_proba(X_test)[:, 1]\n",
    "#Для удобства завернем numpy-массив в pandas Series\n",
    "y_test_proba_pred = pd.Series(y_test_proba_pred)\n",
    "#Создадим списки, в которых будем хранить значения метрик \n",
    "recall_scores = []\n",
    "precision_scores = []\n",
    "f1_scores = []\n",
    "#Сгенерируем набор вероятностных порогов в диапазоне от 0.1 до 1\n",
    "thresholds = np.arange(0.1, 1, 0.05)\n",
    "#В цикле будем перебирать сгенерированные пороги\n",
    "for threshold in thresholds:\n",
    "    #В противном случае - к классу 0\n",
    "    y_test_pred = y_test_proba_pred.apply(lambda x: 1 if x>threshold else 0)\n",
    "    #Считаем метрики и добавляем их в списки\n",
    "    recall_scores.append(metrics.recall_score(y_test, y_test_pred))\n",
    "    precision_scores.append(metrics.precision_score(y_test, y_test_pred))\n",
    "    f1_scores.append(metrics.f1_score(y_test, y_test_pred))\n",
    "\n",
    "#Визуализируем метрики при различных threshold\n",
    "fig, ax = plt.subplots(figsize=(10, 4)) #фигура + координатная плоскость\n",
    "#Строим линейный график зависимости recall от threshold\n",
    "ax.plot(thresholds, recall_scores, label='Recall')\n",
    "#Строим линейный график зависимости precision от threshold\n",
    "ax.plot(thresholds, precision_scores, label='Precision')\n",
    "\n",
    "#Строим линейный график зависимости F1 от threshold\n",
    "ax.plot(thresholds, f1_scores, label='F1-score')\n",
    "#Даем графику название и подписи осям\n",
    "ax.set_title('Recall/Precision dependence on the threshold')\n",
    "ax.set_xlabel('Probability threshold')\n",
    "ax.set_ylabel('Score')\n",
    "ax.set_xticks(thresholds)\n",
    "ax.legend();"
   ]
  },
  {
   "cell_type": "code",
   "execution_count": 74,
   "id": "ee9be935",
   "metadata": {},
   "outputs": [
    {
     "name": "stdout",
     "output_type": "stream",
     "text": [
      "0.76\n",
      "0.69\n"
     ]
    }
   ],
   "source": [
    "y_train_proba_pred = model.predict_proba(X_train)[:, 1]\n",
    "y_train_proba_pred = pd.Series(y_train_proba_pred)\n",
    "\n",
    "threshold_opt = 0.4\n",
    "y_train_pred_opt = y_train_proba_pred.apply(lambda x: 1 if x > threshold_opt else 0)\n",
    "y_test_pred_opt = y_test_proba_pred.apply(lambda x: 1 if x > threshold_opt else 0)\n",
    "\n",
    "print(round(metrics.f1_score(y_train, y_train_pred_opt), 2))\n",
    "print(round(metrics.f1_score(y_test, y_test_pred_opt), 2))"
   ]
  },
  {
   "cell_type": "markdown",
   "id": "088365d3",
   "metadata": {
    "id": "088365d3"
   },
   "source": [
    "По графику видно, что оптимальный порог вероятности для нас - это 0.4. C учётом этого порога метрика модели подрастает ещё, причём как на трейне, так и на тесте. Наиболее высокую метрику на наших данных показала модель рандомного леса, поэтому для прогноза отточности в следующем задании мы используем эту модель с учётом оптимального порога вероятности."
   ]
  },
  {
   "cell_type": "markdown",
   "id": "lRcIEe0uutOC",
   "metadata": {
    "id": "lRcIEe0uutOC"
   },
   "source": [
    "### Задание 8.5. (1 балл)\n",
    "\n",
    "Наконец, финальная задача.\n",
    "\n",
    "У нашего банка есть некоторый клиент, назовём его Василием. В базе данных банка хранятся следующие данные о Василии:\n",
    "\n",
    "```python\n",
    "{\n",
    "    'CreditScore': [601.0],\n",
    "    'Gender': ['Male'],\n",
    "    'Age': [42.0],\n",
    "    'Tenure': [1.0],\n",
    "    'Balance': [98495.72],\n",
    "    'NumOfProducts': [1.0],\n",
    "    'HasCrCard': [1.0],\n",
    "    'IsActiveMember': [0.0],\n",
    "    'EstimatedSalary': [40014.76]\n",
    "}\n",
    "```\n",
    "\n",
    "С помощью наилучшей модели спрогнозируйте вероятность того, что Василий откажется от услуг банка.\n",
    "\n",
    "> **Примечание.** Учтите, что для предсказания необходимо преобразовать данные к тому формату, на котором обучалась модель, то есть:\n",
    "* добавить признаки дополнительные признаки; \n",
    "* произвести кодирование категориальных признаков;\n",
    "* произвести масштабирование признаков (если ваша модель обучалась на масштабированных данных) с помощью того же скейлера, который вы использовали при обучении модели;\n",
    "* сгенерировать полиномиальные признаки."
   ]
  },
  {
   "cell_type": "markdown",
   "id": "Y2zispyJ1qgQ",
   "metadata": {
    "id": "Y2zispyJ1qgQ"
   },
   "source": [
    "**Критерии оценивания:**\n",
    "- Задание выполнено верно, учтены все условия (**1 балл**): \n",
    "    * сформирован DataFrame на основе предоставленного словаря;\n",
    "    * произведены преобразования данных, необходимые для работы модели;\n",
    "    * предсказана вероятность оттока клиента (вероятность принадлежности к классу 1).\n",
    "\n",
    "- Задание выполнено неверно, не учтено одно или несколько условий (**0 баллов**)."
   ]
  },
  {
   "cell_type": "code",
   "execution_count": 77,
   "id": "8AY25O3t1-CS",
   "metadata": {
    "id": "8AY25O3t1-CS"
   },
   "outputs": [
    {
     "name": "stdout",
     "output_type": "stream",
     "text": [
      "[1] [[0.39 0.61]]\n"
     ]
    }
   ],
   "source": [
    "x_new = pd.DataFrame({\n",
    "    'CreditScore': [601.0],\n",
    "    'Gender': ['Male'],\n",
    "    'Age': [42.0],\n",
    "    'Tenure': [1.0],\n",
    "    'Balance': [98495.72],\n",
    "    'NumOfProducts': [1.0],\n",
    "    'HasCrCard': [1.0],\n",
    "    'IsActiveMember': [0.0],\n",
    "    'EstimatedSalary': [40014.76]\n",
    "})\n",
    "\n",
    "x_new['BalanceSalaryRatio'] = x_new['Balance'] / x_new['EstimatedSalary']\n",
    "x_new['TenureByAge'] = x_new['Tenure'] / x_new['Age']\n",
    "x_new['CreditScoreGivenAge'] = x_new['CreditScore'] / x_new['Age']\n",
    "x_new['Gender'] = x_new['Gender'].apply(lambda x: 1 if x=='Male' else 0)\n",
    "\n",
    "y_new_pred = model.predict(x_new)\n",
    "y_new_pred_proba = model.predict_proba(x_new)\n",
    "print(y_new_pred, np.round(y_new_pred_proba, 2))"
   ]
  },
  {
   "cell_type": "markdown",
   "id": "f9936967",
   "metadata": {},
   "source": [
    "Вывод: вероятность того, что Василий откажется от услуг банка высока. Наша модель относит его к первой категории, то есть к тем клиентам, у которых уровень отточности высок. На нашей модели вероятность того, что Василий откажется от услуг банка, составила порядка 61%."
   ]
  },
  {
   "cell_type": "markdown",
   "id": "432c690d",
   "metadata": {},
   "source": [
    "## Общий вывод по работе"
   ]
  },
  {
   "cell_type": "markdown",
   "id": "0a2bbe50",
   "metadata": {},
   "source": [
    "Мы проделали большую и интересную работу и научились создавать и обучать различные модели машинного обучения (далее - ММО). В этом модуле мы отрабатывали ММО, направленные на классификацию объектов. Мы изучили такие ММО как: логистическая регрессия, в том числе на полиномиальных признаках, деревья решений и случайный лес. В процессе работы нам необходимо было научиться предсказывать отточность клиентов банка. С задачей мы справились, с повышением сложности ММО и подбором порога вероятности нам удалось значительно улучшить нашу метрику, а значит, качество работы модели."
   ]
  }
 ],
 "metadata": {
  "colab": {
   "provenance": []
  },
  "kernelspec": {
   "display_name": "Python 3 (ipykernel)",
   "language": "python",
   "name": "python3"
  },
  "language_info": {
   "codemirror_mode": {
    "name": "ipython",
    "version": 3
   },
   "file_extension": ".py",
   "mimetype": "text/x-python",
   "name": "python",
   "nbconvert_exporter": "python",
   "pygments_lexer": "ipython3",
   "version": "3.9.7"
  },
  "vscode": {
   "interpreter": {
    "hash": "86c56a74836ad344b00594bf6f38fa6a676a207ceefe20d101fbc465800ccb8d"
   }
  }
 },
 "nbformat": 4,
 "nbformat_minor": 5
}
