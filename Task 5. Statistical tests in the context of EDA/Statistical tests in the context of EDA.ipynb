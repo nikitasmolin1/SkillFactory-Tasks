{
 "cells": [
  {
   "cell_type": "markdown",
   "id": "5f74f7f9",
   "metadata": {},
   "source": [
    "# <center> ИССЛЕДОВАНИЕ ДАННЫХ HR-АГЕНТСТВА"
   ]
  },
  {
   "cell_type": "markdown",
   "id": "6dad26ae",
   "metadata": {},
   "source": [
    "## Постановка задачи"
   ]
  },
  {
   "cell_type": "markdown",
   "id": "361f2f2a",
   "metadata": {},
   "source": [
    "HR-агентство изучает тренды на рынке труда в IT. Компания хочет провести исследование на основе данных о зарплатах в сфере Data Science за 2020–2022 годы и получить некоторые выводы. Исследуйте данные и сделайте выводы по полученным результатам. Подкрепите свои рассуждения и выводы визуализациями и с помощью статистического тестирования проверьте, являются ли выводы статистически значимыми.\n",
    "\n",
    "В процессе своего анализа вы должны:\n",
    "\n",
    "- Выяснить, какие факторы влияют на зарплату специалиста Data Scientist.\n",
    "\n",
    "А также ответить на ключевые вопросы HR-агентства:\n",
    "\n",
    "- Вопрос 1. Наблюдается ли ежегодный рост зарплат у специалистов Data Scientist?\n",
    "- Вопрос 2. Как соотносятся зарплаты Data Scientist и Data Engineer в 2022 году?\n",
    "- Вопрос 3. Как соотносятся зарплаты специалистов Data Scientist в компаниях различных размеров?\n",
    "- Вопрос 4. Есть ли связь между наличием должностей Data Scientist и Data Engineer и размером компании?\n",
    "\n",
    "Если вы найдёте в данных интересные закономерности, также отметьте их в своём анализе. Продемонстрируйте использование разных тестов для проверки статистической значимости сделанных выводов:\n",
    "- тесты для количественных признаков:\n",
    "    - для одной выборки\n",
    "    - для двух выборок\n",
    "    - для нескольких выборок\n",
    "- тест для категориальных признаков."
   ]
  },
  {
   "cell_type": "markdown",
   "id": "5d921156",
   "metadata": {},
   "source": [
    "Датасет можно скачать по ссылке https://drive.google.com/file/d/1i_xiPNcztQ1Lwaw1h8BU0slzRyV-t81T/view?usp=sharing\n",
    "\n",
    "Оригинальный датасет: “Data Science Job Salaries” (kaggle.com) по ссылке https://www.kaggle.com/datasets/ruchi798/data-science-job-salaries"
   ]
  },
  {
   "cell_type": "markdown",
   "id": "c8336b79",
   "metadata": {},
   "source": [
    "## Загрузка данных"
   ]
  },
  {
   "cell_type": "code",
   "execution_count": 1,
   "id": "c58c7c54",
   "metadata": {},
   "outputs": [],
   "source": [
    "# Загружаем необходимые библиотеки\n",
    "import pandas as pd\n",
    "\n",
    "import scipy.stats as stats\n",
    "from statsmodels.stats.contingency_tables import mcnemar\n",
    "\n",
    "import matplotlib.pyplot as plt\n",
    "import seaborn as sns"
   ]
  },
  {
   "cell_type": "code",
   "execution_count": 2,
   "id": "0ccb8609",
   "metadata": {},
   "outputs": [
    {
     "data": {
      "text/html": [
       "<div>\n",
       "<style scoped>\n",
       "    .dataframe tbody tr th:only-of-type {\n",
       "        vertical-align: middle;\n",
       "    }\n",
       "\n",
       "    .dataframe tbody tr th {\n",
       "        vertical-align: top;\n",
       "    }\n",
       "\n",
       "    .dataframe thead th {\n",
       "        text-align: right;\n",
       "    }\n",
       "</style>\n",
       "<table border=\"1\" class=\"dataframe\">\n",
       "  <thead>\n",
       "    <tr style=\"text-align: right;\">\n",
       "      <th></th>\n",
       "      <th>Unnamed: 0</th>\n",
       "      <th>work_year</th>\n",
       "      <th>experience_level</th>\n",
       "      <th>employment_type</th>\n",
       "      <th>job_title</th>\n",
       "      <th>salary</th>\n",
       "      <th>salary_currency</th>\n",
       "      <th>salary_in_usd</th>\n",
       "      <th>employee_residence</th>\n",
       "      <th>remote_ratio</th>\n",
       "      <th>company_location</th>\n",
       "      <th>company_size</th>\n",
       "    </tr>\n",
       "  </thead>\n",
       "  <tbody>\n",
       "    <tr>\n",
       "      <th>0</th>\n",
       "      <td>0</td>\n",
       "      <td>2020</td>\n",
       "      <td>MI</td>\n",
       "      <td>FT</td>\n",
       "      <td>Data Scientist</td>\n",
       "      <td>70000</td>\n",
       "      <td>EUR</td>\n",
       "      <td>79833</td>\n",
       "      <td>DE</td>\n",
       "      <td>0</td>\n",
       "      <td>DE</td>\n",
       "      <td>L</td>\n",
       "    </tr>\n",
       "    <tr>\n",
       "      <th>1</th>\n",
       "      <td>1</td>\n",
       "      <td>2020</td>\n",
       "      <td>SE</td>\n",
       "      <td>FT</td>\n",
       "      <td>Machine Learning Scientist</td>\n",
       "      <td>260000</td>\n",
       "      <td>USD</td>\n",
       "      <td>260000</td>\n",
       "      <td>JP</td>\n",
       "      <td>0</td>\n",
       "      <td>JP</td>\n",
       "      <td>S</td>\n",
       "    </tr>\n",
       "    <tr>\n",
       "      <th>2</th>\n",
       "      <td>2</td>\n",
       "      <td>2020</td>\n",
       "      <td>SE</td>\n",
       "      <td>FT</td>\n",
       "      <td>Big Data Engineer</td>\n",
       "      <td>85000</td>\n",
       "      <td>GBP</td>\n",
       "      <td>109024</td>\n",
       "      <td>GB</td>\n",
       "      <td>50</td>\n",
       "      <td>GB</td>\n",
       "      <td>M</td>\n",
       "    </tr>\n",
       "    <tr>\n",
       "      <th>3</th>\n",
       "      <td>3</td>\n",
       "      <td>2020</td>\n",
       "      <td>MI</td>\n",
       "      <td>FT</td>\n",
       "      <td>Product Data Analyst</td>\n",
       "      <td>20000</td>\n",
       "      <td>USD</td>\n",
       "      <td>20000</td>\n",
       "      <td>HN</td>\n",
       "      <td>0</td>\n",
       "      <td>HN</td>\n",
       "      <td>S</td>\n",
       "    </tr>\n",
       "    <tr>\n",
       "      <th>4</th>\n",
       "      <td>4</td>\n",
       "      <td>2020</td>\n",
       "      <td>SE</td>\n",
       "      <td>FT</td>\n",
       "      <td>Machine Learning Engineer</td>\n",
       "      <td>150000</td>\n",
       "      <td>USD</td>\n",
       "      <td>150000</td>\n",
       "      <td>US</td>\n",
       "      <td>50</td>\n",
       "      <td>US</td>\n",
       "      <td>L</td>\n",
       "    </tr>\n",
       "  </tbody>\n",
       "</table>\n",
       "</div>"
      ],
      "text/plain": [
       "   Unnamed: 0  work_year experience_level employment_type  \\\n",
       "0           0       2020               MI              FT   \n",
       "1           1       2020               SE              FT   \n",
       "2           2       2020               SE              FT   \n",
       "3           3       2020               MI              FT   \n",
       "4           4       2020               SE              FT   \n",
       "\n",
       "                    job_title  salary salary_currency  salary_in_usd  \\\n",
       "0              Data Scientist   70000             EUR          79833   \n",
       "1  Machine Learning Scientist  260000             USD         260000   \n",
       "2           Big Data Engineer   85000             GBP         109024   \n",
       "3        Product Data Analyst   20000             USD          20000   \n",
       "4   Machine Learning Engineer  150000             USD         150000   \n",
       "\n",
       "  employee_residence  remote_ratio company_location company_size  \n",
       "0                 DE             0               DE            L  \n",
       "1                 JP             0               JP            S  \n",
       "2                 GB            50               GB            M  \n",
       "3                 HN             0               HN            S  \n",
       "4                 US            50               US            L  "
      ]
     },
     "execution_count": 2,
     "metadata": {},
     "output_type": "execute_result"
    }
   ],
   "source": [
    "# Загруджаем датасет\n",
    "data = pd.read_csv('ds_salaries.csv')\n",
    "data.head()"
   ]
  },
  {
   "cell_type": "code",
   "execution_count": 3,
   "id": "676fe4b9",
   "metadata": {},
   "outputs": [
    {
     "name": "stdout",
     "output_type": "stream",
     "text": [
      "Уровень значимости alpha = 0.05\n"
     ]
    }
   ],
   "source": [
    "# Задаём уровень значимости\n",
    "alpha = 0.05 \n",
    "print(\"Уровень значимости alpha = {:.2f}\".format(alpha))"
   ]
  },
  {
   "cell_type": "markdown",
   "id": "b99e021a",
   "metadata": {},
   "source": [
    "## Описательный анализ и очистка данных"
   ]
  },
  {
   "cell_type": "code",
   "execution_count": 4,
   "id": "d73b7525",
   "metadata": {},
   "outputs": [
    {
     "name": "stdout",
     "output_type": "stream",
     "text": [
      "<class 'pandas.core.frame.DataFrame'>\n",
      "RangeIndex: 607 entries, 0 to 606\n",
      "Data columns (total 12 columns):\n",
      " #   Column              Non-Null Count  Dtype \n",
      "---  ------              --------------  ----- \n",
      " 0   Unnamed: 0          607 non-null    int64 \n",
      " 1   work_year           607 non-null    int64 \n",
      " 2   experience_level    607 non-null    object\n",
      " 3   employment_type     607 non-null    object\n",
      " 4   job_title           607 non-null    object\n",
      " 5   salary              607 non-null    int64 \n",
      " 6   salary_currency     607 non-null    object\n",
      " 7   salary_in_usd       607 non-null    int64 \n",
      " 8   employee_residence  607 non-null    object\n",
      " 9   remote_ratio        607 non-null    int64 \n",
      " 10  company_location    607 non-null    object\n",
      " 11  company_size        607 non-null    object\n",
      "dtypes: int64(5), object(7)\n",
      "memory usage: 57.0+ KB\n"
     ]
    }
   ],
   "source": [
    "data.info()"
   ]
  },
  {
   "cell_type": "code",
   "execution_count": 5,
   "id": "4499fb2b",
   "metadata": {},
   "outputs": [
    {
     "data": {
      "text/html": [
       "<div>\n",
       "<style scoped>\n",
       "    .dataframe tbody tr th:only-of-type {\n",
       "        vertical-align: middle;\n",
       "    }\n",
       "\n",
       "    .dataframe tbody tr th {\n",
       "        vertical-align: top;\n",
       "    }\n",
       "\n",
       "    .dataframe thead th {\n",
       "        text-align: right;\n",
       "    }\n",
       "</style>\n",
       "<table border=\"1\" class=\"dataframe\">\n",
       "  <thead>\n",
       "    <tr style=\"text-align: right;\">\n",
       "      <th></th>\n",
       "      <th>Unnamed: 0</th>\n",
       "      <th>work_year</th>\n",
       "      <th>salary</th>\n",
       "      <th>salary_in_usd</th>\n",
       "      <th>remote_ratio</th>\n",
       "    </tr>\n",
       "  </thead>\n",
       "  <tbody>\n",
       "    <tr>\n",
       "      <th>count</th>\n",
       "      <td>607.0</td>\n",
       "      <td>607.0</td>\n",
       "      <td>607.0</td>\n",
       "      <td>607.0</td>\n",
       "      <td>607.0</td>\n",
       "    </tr>\n",
       "    <tr>\n",
       "      <th>mean</th>\n",
       "      <td>303.0</td>\n",
       "      <td>2021.0</td>\n",
       "      <td>324000.0</td>\n",
       "      <td>112298.0</td>\n",
       "      <td>71.0</td>\n",
       "    </tr>\n",
       "    <tr>\n",
       "      <th>std</th>\n",
       "      <td>175.0</td>\n",
       "      <td>1.0</td>\n",
       "      <td>1544357.0</td>\n",
       "      <td>70957.0</td>\n",
       "      <td>41.0</td>\n",
       "    </tr>\n",
       "    <tr>\n",
       "      <th>min</th>\n",
       "      <td>0.0</td>\n",
       "      <td>2020.0</td>\n",
       "      <td>4000.0</td>\n",
       "      <td>2859.0</td>\n",
       "      <td>0.0</td>\n",
       "    </tr>\n",
       "    <tr>\n",
       "      <th>25%</th>\n",
       "      <td>152.0</td>\n",
       "      <td>2021.0</td>\n",
       "      <td>70000.0</td>\n",
       "      <td>62726.0</td>\n",
       "      <td>50.0</td>\n",
       "    </tr>\n",
       "    <tr>\n",
       "      <th>50%</th>\n",
       "      <td>303.0</td>\n",
       "      <td>2022.0</td>\n",
       "      <td>115000.0</td>\n",
       "      <td>101570.0</td>\n",
       "      <td>100.0</td>\n",
       "    </tr>\n",
       "    <tr>\n",
       "      <th>75%</th>\n",
       "      <td>454.0</td>\n",
       "      <td>2022.0</td>\n",
       "      <td>165000.0</td>\n",
       "      <td>150000.0</td>\n",
       "      <td>100.0</td>\n",
       "    </tr>\n",
       "    <tr>\n",
       "      <th>max</th>\n",
       "      <td>606.0</td>\n",
       "      <td>2022.0</td>\n",
       "      <td>30400000.0</td>\n",
       "      <td>600000.0</td>\n",
       "      <td>100.0</td>\n",
       "    </tr>\n",
       "  </tbody>\n",
       "</table>\n",
       "</div>"
      ],
      "text/plain": [
       "       Unnamed: 0  work_year      salary  salary_in_usd  remote_ratio\n",
       "count       607.0      607.0       607.0          607.0         607.0\n",
       "mean        303.0     2021.0    324000.0       112298.0          71.0\n",
       "std         175.0        1.0   1544357.0        70957.0          41.0\n",
       "min           0.0     2020.0      4000.0         2859.0           0.0\n",
       "25%         152.0     2021.0     70000.0        62726.0          50.0\n",
       "50%         303.0     2022.0    115000.0       101570.0         100.0\n",
       "75%         454.0     2022.0    165000.0       150000.0         100.0\n",
       "max         606.0     2022.0  30400000.0       600000.0         100.0"
      ]
     },
     "execution_count": 5,
     "metadata": {},
     "output_type": "execute_result"
    }
   ],
   "source": [
    "data.describe().round()"
   ]
  },
  {
   "cell_type": "code",
   "execution_count": 6,
   "id": "6675dc34",
   "metadata": {},
   "outputs": [
    {
     "data": {
      "text/plain": [
       "FT    588\n",
       "PT     10\n",
       "CT      5\n",
       "FL      4\n",
       "Name: employment_type, dtype: int64"
      ]
     },
     "execution_count": 6,
     "metadata": {},
     "output_type": "execute_result"
    }
   ],
   "source": [
    "data['employment_type'].value_counts() # изучая признаки, обнаруживаем, что признак 'employment_type' неинформативен"
   ]
  },
  {
   "cell_type": "code",
   "execution_count": 7,
   "id": "50d9fc3f",
   "metadata": {},
   "outputs": [],
   "source": [
    "data = data.drop(['Unnamed: 0', 'employment_type'], axis=1) # удаляем лишние признаки"
   ]
  },
  {
   "cell_type": "code",
   "execution_count": 8,
   "id": "39e0758d",
   "metadata": {},
   "outputs": [
    {
     "name": "stdout",
     "output_type": "stream",
     "text": [
      "Количество дубликатов: 42\n",
      "Размер таблицы после удаления дубликатов: (565, 10)\n"
     ]
    }
   ],
   "source": [
    "print('Количество дубликатов: {}'.format(data[data.duplicated()].shape[0]))\n",
    "\n",
    "# Удаляем дубликаты\n",
    "data = data.drop_duplicates()\n",
    "print('Размер таблицы после удаления дубликатов: {}'.format(data.shape))"
   ]
  },
  {
   "cell_type": "code",
   "execution_count": 9,
   "id": "d7baf830",
   "metadata": {},
   "outputs": [
    {
     "data": {
      "image/png": "[encoded data removed]",
      "text/plain": [
       "<Figure size 1080x504 with 1 Axes>"
      ]
     },
     "metadata": {
      "needs_background": "light"
     },
     "output_type": "display_data"
    }
   ],
   "source": [
    "# Изучаем распределение зарплат по графику\n",
    "fig = plt.figure(figsize=(15, 7))\n",
    "ax = sns.histplot(data=data,\n",
    "                 x='salary_in_usd')\n",
    "ax.set(xlabel='Зарплата в долларах')\n",
    "plt.title('Распределение зарплат')\n",
    "\n",
    "plt.show()"
   ]
  },
  {
   "cell_type": "markdown",
   "id": "afd90089",
   "metadata": {},
   "source": [
    "По графику видно, что распредление зарплат околонормальное."
   ]
  },
  {
   "cell_type": "code",
   "execution_count": 10,
   "id": "e080ef10",
   "metadata": {},
   "outputs": [
    {
     "data": {
      "image/png": "[encoded data removed]",
      "text/plain": [
       "<Figure size 1080x504 with 1 Axes>"
      ]
     },
     "metadata": {
      "needs_background": "light"
     },
     "output_type": "display_data"
    }
   ],
   "source": [
    "# Изучаем распределение зарплат по графику\n",
    "fig = plt.figure(figsize=(15, 7))\n",
    "ax = sns.boxplot(data=data,\n",
    "           x='salary_in_usd')\n",
    "ax.set(xlabel='Зарплата в долларах')\n",
    "plt.title('Распределение зарплат')\n",
    "\n",
    "plt.show()"
   ]
  },
  {
   "cell_type": "markdown",
   "id": "96a04226",
   "metadata": {},
   "source": [
    "Вывод: по графику видно, что зарплаты выше 300 000 долларов встречаются единично, поэтому посчитаем их за выбросы и удалим для чистоты экспериментов, аналогично поступим с зарплатами ниже 5 000 долларов."
   ]
  },
  {
   "cell_type": "code",
   "execution_count": 11,
   "id": "6fced041",
   "metadata": {},
   "outputs": [],
   "source": [
    "outliers = data[(data['salary_in_usd']>300000) | (data['salary_in_usd']<5000)]\n",
    "data = data.drop(outliers.index, axis=0)"
   ]
  },
  {
   "cell_type": "markdown",
   "id": "69408dc3",
   "metadata": {},
   "source": [
    "## Выясняем, какие факторы влияют на зарплату специалиста Data Scientist."
   ]
  },
  {
   "cell_type": "markdown",
   "id": "ad2c2937",
   "metadata": {},
   "source": [
    "Рассмотрим по порядку все признаки, которые в большей или меньшей степени влияют на зарплаты, кроме тех, что будут рассмотрены ниже в связи с ответами на поставленные в задании вопросы."
   ]
  },
  {
   "cell_type": "code",
   "execution_count": 12,
   "id": "b77711bd",
   "metadata": {},
   "outputs": [
    {
     "data": {
      "text/html": [
       "<div>\n",
       "<style scoped>\n",
       "    .dataframe tbody tr th:only-of-type {\n",
       "        vertical-align: middle;\n",
       "    }\n",
       "\n",
       "    .dataframe tbody tr th {\n",
       "        vertical-align: top;\n",
       "    }\n",
       "\n",
       "    .dataframe thead th {\n",
       "        text-align: right;\n",
       "    }\n",
       "</style>\n",
       "<table border=\"1\" class=\"dataframe\">\n",
       "  <thead>\n",
       "    <tr style=\"text-align: right;\">\n",
       "      <th></th>\n",
       "      <th>count</th>\n",
       "      <th>mean</th>\n",
       "      <th>std</th>\n",
       "      <th>min</th>\n",
       "      <th>25%</th>\n",
       "      <th>50%</th>\n",
       "      <th>75%</th>\n",
       "      <th>max</th>\n",
       "    </tr>\n",
       "    <tr>\n",
       "      <th>experience_level</th>\n",
       "      <th></th>\n",
       "      <th></th>\n",
       "      <th></th>\n",
       "      <th></th>\n",
       "      <th></th>\n",
       "      <th></th>\n",
       "      <th></th>\n",
       "      <th></th>\n",
       "    </tr>\n",
       "  </thead>\n",
       "  <tbody>\n",
       "    <tr>\n",
       "      <th>EN</th>\n",
       "      <td>87.0</td>\n",
       "      <td>62306.0</td>\n",
       "      <td>44213.0</td>\n",
       "      <td>5707.0</td>\n",
       "      <td>28504.0</td>\n",
       "      <td>58000.0</td>\n",
       "      <td>85852.0</td>\n",
       "      <td>250000.0</td>\n",
       "    </tr>\n",
       "    <tr>\n",
       "      <th>EX</th>\n",
       "      <td>22.0</td>\n",
       "      <td>159963.0</td>\n",
       "      <td>57624.0</td>\n",
       "      <td>69741.0</td>\n",
       "      <td>121140.0</td>\n",
       "      <td>151834.0</td>\n",
       "      <td>212000.0</td>\n",
       "      <td>250000.0</td>\n",
       "    </tr>\n",
       "    <tr>\n",
       "      <th>MI</th>\n",
       "      <td>203.0</td>\n",
       "      <td>83404.0</td>\n",
       "      <td>47623.0</td>\n",
       "      <td>5409.0</td>\n",
       "      <td>47641.0</td>\n",
       "      <td>76940.0</td>\n",
       "      <td>110888.0</td>\n",
       "      <td>270000.0</td>\n",
       "    </tr>\n",
       "    <tr>\n",
       "      <th>SE</th>\n",
       "      <td>240.0</td>\n",
       "      <td>135117.0</td>\n",
       "      <td>52671.0</td>\n",
       "      <td>18907.0</td>\n",
       "      <td>99282.0</td>\n",
       "      <td>135000.0</td>\n",
       "      <td>170000.0</td>\n",
       "      <td>276000.0</td>\n",
       "    </tr>\n",
       "  </tbody>\n",
       "</table>\n",
       "</div>"
      ],
      "text/plain": [
       "                  count      mean      std      min       25%       50%  \\\n",
       "experience_level                                                          \n",
       "EN                 87.0   62306.0  44213.0   5707.0   28504.0   58000.0   \n",
       "EX                 22.0  159963.0  57624.0  69741.0  121140.0  151834.0   \n",
       "MI                203.0   83404.0  47623.0   5409.0   47641.0   76940.0   \n",
       "SE                240.0  135117.0  52671.0  18907.0   99282.0  135000.0   \n",
       "\n",
       "                       75%       max  \n",
       "experience_level                      \n",
       "EN                 85852.0  250000.0  \n",
       "EX                212000.0  250000.0  \n",
       "MI                110888.0  270000.0  \n",
       "SE                170000.0  276000.0  "
      ]
     },
     "execution_count": 12,
     "metadata": {},
     "output_type": "execute_result"
    }
   ],
   "source": [
    "# Первый признак - опыт работы\n",
    "data.groupby('experience_level')['salary_in_usd'].describe().round()"
   ]
  },
  {
   "cell_type": "code",
   "execution_count": 13,
   "id": "cda08e7e",
   "metadata": {},
   "outputs": [
    {
     "data": {
      "image/png": "[encoded data removed]",
      "text/plain": [
       "<Figure size 1080x504 with 1 Axes>"
      ]
     },
     "metadata": {
      "needs_background": "light"
     },
     "output_type": "display_data"
    }
   ],
   "source": [
    "fig = plt.figure(figsize=(15, 7))\n",
    "ax = sns.boxplot(data=data,\n",
    "           x='salary_in_usd',\n",
    "           y='experience_level')\n",
    "ax.set(xlabel='Зарплата в долларах', ylabel='Опыт работы на должности')\n",
    "plt.title('Распределение зарплат в зависимости от опыта работы на должности')\n",
    "\n",
    "plt.show()"
   ]
  },
  {
   "cell_type": "markdown",
   "id": "5adb11c0",
   "metadata": {},
   "source": [
    "По графику видно, что медианная зарплата выше всего с опытом работы Executive-level/Director, затем следует Senior-level/Expert, затем Mid-level/Intermediate, затем Entry-level/Junior. Это логично, с увеличением опыта работы - растёт и зарплата. Чтобы определить, являются ли эти различия статистически значимыми, проведём статистические тесты."
   ]
  },
  {
   "cell_type": "markdown",
   "id": "626955ff",
   "metadata": {},
   "source": [
    "- H0: Зарплаты вне зависимости от опыта работы на должности равны\n",
    "- H1: Зарплаты в зависимости от опыта работы на должности не равны"
   ]
  },
  {
   "cell_type": "code",
   "execution_count": 14,
   "id": "29f556a6",
   "metadata": {},
   "outputs": [
    {
     "name": "stdout",
     "output_type": "stream",
     "text": [
      "p-value 1 = 0.000\n",
      "p-value 2 = 0.000\n",
      "p-value 3 = 0.352\n",
      "p-value 4 = 0.228\n",
      "Распределение не нормально\n"
     ]
    }
   ],
   "source": [
    "data_en = data[data['experience_level']=='EN']['salary_in_usd']\n",
    "data_mi = data[data['experience_level']=='MI']['salary_in_usd']\n",
    "data_se = data[data['experience_level']=='SE']['salary_in_usd']\n",
    "data_ex = data[data['experience_level']=='EX']['salary_in_usd']\n",
    "\n",
    "# Проводим тест Шапиро-Уилка на нормальность распределения\n",
    "_, p1 = stats.shapiro(data_en)\n",
    "_, p2 = stats.shapiro(data_mi)\n",
    "_, p3 = stats.shapiro(data_se)\n",
    "_, p4 = stats.shapiro(data_ex)\n",
    "\n",
    "print('p-value 1 = %.3f' % (p1))\n",
    "print('p-value 2 = %.3f' % (p2))\n",
    "print('p-value 3 = %.3f' % (p3))\n",
    "print('p-value 4 = %.3f' % (p4))\n",
    "\n",
    "# Интерпретируем результат\n",
    "if p1 <= alpha or p2 <= alpha or p3 <= alpha or p4 <= alpha:\n",
    "    print('Распределение не нормально')\n",
    "else:\n",
    "    print('Распределение нормально')"
   ]
  },
  {
   "cell_type": "code",
   "execution_count": 15,
   "id": "19ff058c",
   "metadata": {},
   "outputs": [
    {
     "name": "stdout",
     "output_type": "stream",
     "text": [
      "p-value = 0.000\n",
      "p-значение меньше, чем заданный уровень значимости 0.05. Отвергаем нулевую гипотезу.\n"
     ]
    }
   ],
   "source": [
    "# Выбираем тест Краскела - Уоллиса, поскольку у нас 4 независимые группы, которые не распределены по нормальному закону\n",
    "_, p = stats.kruskal(data_en, data_mi, data_se, data_ex)\n",
    "\n",
    "print('p-value = %.3f' % (p))\n",
    "\n",
    "# Интерпретируем результат\n",
    "if p <= alpha:\n",
    "    print('p-значение меньше, чем заданный уровень значимости {:.2f}. Отвергаем нулевую гипотезу.'.format(alpha))\n",
    "else:\n",
    "    print('p-значение больше, чем заданный уровень значимости {:.2f}. У нас нет оснований отвергнуть нулевую гипотезу.'.format(alpha))"
   ]
  },
  {
   "cell_type": "markdown",
   "id": "8aff1da8",
   "metadata": {},
   "source": [
    "Вывод: у нас есть основания утверждать, что зарплаты в зависимости от опыта работы на должности не равны. Соответственно, различия в опыте работы на должности являются статистически значимыми, а опыт работы на должности влияет на зарплату."
   ]
  },
  {
   "cell_type": "code",
   "execution_count": 16,
   "id": "f0402aea",
   "metadata": {},
   "outputs": [],
   "source": [
    "# Следующий признак - валюта\n",
    "data_currency = data.copy()\n",
    "data_currency['salary_currency'] = data_currency['salary_currency'].apply(lambda x: x if x in ['USD', 'EUR', 'GBP', 'INR', 'CAD'] else 'other')"
   ]
  },
  {
   "cell_type": "code",
   "execution_count": 17,
   "id": "fcc6a711",
   "metadata": {},
   "outputs": [
    {
     "data": {
      "text/html": [
       "<div>\n",
       "<style scoped>\n",
       "    .dataframe tbody tr th:only-of-type {\n",
       "        vertical-align: middle;\n",
       "    }\n",
       "\n",
       "    .dataframe tbody tr th {\n",
       "        vertical-align: top;\n",
       "    }\n",
       "\n",
       "    .dataframe thead th {\n",
       "        text-align: right;\n",
       "    }\n",
       "</style>\n",
       "<table border=\"1\" class=\"dataframe\">\n",
       "  <thead>\n",
       "    <tr style=\"text-align: right;\">\n",
       "      <th></th>\n",
       "      <th>count</th>\n",
       "      <th>mean</th>\n",
       "      <th>std</th>\n",
       "      <th>min</th>\n",
       "      <th>25%</th>\n",
       "      <th>50%</th>\n",
       "      <th>75%</th>\n",
       "      <th>max</th>\n",
       "    </tr>\n",
       "    <tr>\n",
       "      <th>salary_currency</th>\n",
       "      <th></th>\n",
       "      <th></th>\n",
       "      <th></th>\n",
       "      <th></th>\n",
       "      <th></th>\n",
       "      <th></th>\n",
       "      <th></th>\n",
       "      <th></th>\n",
       "    </tr>\n",
       "  </thead>\n",
       "  <tbody>\n",
       "    <tr>\n",
       "      <th>CAD</th>\n",
       "      <td>18.0</td>\n",
       "      <td>97223.0</td>\n",
       "      <td>40725.0</td>\n",
       "      <td>52396.0</td>\n",
       "      <td>71130.0</td>\n",
       "      <td>83264.0</td>\n",
       "      <td>113751.0</td>\n",
       "      <td>196979.0</td>\n",
       "    </tr>\n",
       "    <tr>\n",
       "      <th>EUR</th>\n",
       "      <td>93.0</td>\n",
       "      <td>65599.0</td>\n",
       "      <td>31292.0</td>\n",
       "      <td>10354.0</td>\n",
       "      <td>46759.0</td>\n",
       "      <td>62649.0</td>\n",
       "      <td>79197.0</td>\n",
       "      <td>173762.0</td>\n",
       "    </tr>\n",
       "    <tr>\n",
       "      <th>GBP</th>\n",
       "      <td>43.0</td>\n",
       "      <td>81744.0</td>\n",
       "      <td>30084.0</td>\n",
       "      <td>37300.0</td>\n",
       "      <td>57575.0</td>\n",
       "      <td>78526.0</td>\n",
       "      <td>103931.0</td>\n",
       "      <td>183228.0</td>\n",
       "    </tr>\n",
       "    <tr>\n",
       "      <th>INR</th>\n",
       "      <td>27.0</td>\n",
       "      <td>27766.0</td>\n",
       "      <td>22836.0</td>\n",
       "      <td>5409.0</td>\n",
       "      <td>12847.0</td>\n",
       "      <td>21637.0</td>\n",
       "      <td>32712.0</td>\n",
       "      <td>94665.0</td>\n",
       "    </tr>\n",
       "    <tr>\n",
       "      <th>USD</th>\n",
       "      <td>347.0</td>\n",
       "      <td>129662.0</td>\n",
       "      <td>56116.0</td>\n",
       "      <td>8000.0</td>\n",
       "      <td>92000.0</td>\n",
       "      <td>128875.0</td>\n",
       "      <td>165000.0</td>\n",
       "      <td>276000.0</td>\n",
       "    </tr>\n",
       "    <tr>\n",
       "      <th>other</th>\n",
       "      <td>24.0</td>\n",
       "      <td>49624.0</td>\n",
       "      <td>31331.0</td>\n",
       "      <td>12103.0</td>\n",
       "      <td>28576.0</td>\n",
       "      <td>38637.0</td>\n",
       "      <td>67124.0</td>\n",
       "      <td>122346.0</td>\n",
       "    </tr>\n",
       "  </tbody>\n",
       "</table>\n",
       "</div>"
      ],
      "text/plain": [
       "                 count      mean      std      min      25%       50%  \\\n",
       "salary_currency                                                         \n",
       "CAD               18.0   97223.0  40725.0  52396.0  71130.0   83264.0   \n",
       "EUR               93.0   65599.0  31292.0  10354.0  46759.0   62649.0   \n",
       "GBP               43.0   81744.0  30084.0  37300.0  57575.0   78526.0   \n",
       "INR               27.0   27766.0  22836.0   5409.0  12847.0   21637.0   \n",
       "USD              347.0  129662.0  56116.0   8000.0  92000.0  128875.0   \n",
       "other             24.0   49624.0  31331.0  12103.0  28576.0   38637.0   \n",
       "\n",
       "                      75%       max  \n",
       "salary_currency                      \n",
       "CAD              113751.0  196979.0  \n",
       "EUR               79197.0  173762.0  \n",
       "GBP              103931.0  183228.0  \n",
       "INR               32712.0   94665.0  \n",
       "USD              165000.0  276000.0  \n",
       "other             67124.0  122346.0  "
      ]
     },
     "execution_count": 17,
     "metadata": {},
     "output_type": "execute_result"
    }
   ],
   "source": [
    "data_currency.groupby('salary_currency')['salary_in_usd'].describe().round()"
   ]
  },
  {
   "cell_type": "code",
   "execution_count": 18,
   "id": "debe1613",
   "metadata": {},
   "outputs": [
    {
     "data": {
      "image/png": "[encoded data removed]",
      "text/plain": [
       "<Figure size 1080x504 with 1 Axes>"
      ]
     },
     "metadata": {
      "needs_background": "light"
     },
     "output_type": "display_data"
    }
   ],
   "source": [
    "fig = plt.figure(figsize=(15, 7))\n",
    "ax = sns.boxplot(data=data_currency,\n",
    "           x='salary_in_usd',\n",
    "           y='salary_currency')\n",
    "ax.set(xlabel='Зарплата в долларах', ylabel='')\n",
    "plt.title('Распределение зарплат в зависимости от валюты выплаты зарплаты')\n",
    "\n",
    "plt.show()"
   ]
  },
  {
   "cell_type": "markdown",
   "id": "99d6dbd9",
   "metadata": {},
   "source": [
    "По графику видно, что зарплата, выплачиваемая в такой валюте как доллар, выше зарплат, выплачиваемых в остальных валютах. Чтобы определить, являются ли эти различия статистически значимыми, проведём статистические тесты."
   ]
  },
  {
   "cell_type": "markdown",
   "id": "ed587d67",
   "metadata": {},
   "source": [
    "- H0: Зарплата, выплачиваемая в такой валюте как доллар, ниже или равна зарплатам, выплачиваемым в остальных валютах\n",
    "- H1: Зарплата, выплачиваемая в такой валюте как доллар, выше зарплат, выплачиваемых в остальных валютах"
   ]
  },
  {
   "cell_type": "code",
   "execution_count": 19,
   "id": "9fd15c7b",
   "metadata": {},
   "outputs": [
    {
     "name": "stdout",
     "output_type": "stream",
     "text": [
      "p-value 1 = 0.074\n",
      "p-value 2 = 0.000\n",
      "Распределение не нормально\n"
     ]
    }
   ],
   "source": [
    "data_usd = data[data['salary_currency']=='USD']['salary_in_usd']\n",
    "data_other = data[data['salary_currency']!='USD']['salary_in_usd']\n",
    "\n",
    "# Проводим тест Шапиро-Уилка на нормальность распределения\n",
    "_, p1 = stats.shapiro(data_usd)\n",
    "_, p2 = stats.shapiro(data_other)\n",
    "\n",
    "print('p-value 1 = %.3f' % (p1))\n",
    "print('p-value 2 = %.3f' % (p2))\n",
    "\n",
    "# Интерпретируем результат\n",
    "if p1 <= alpha or p2 <= alpha:\n",
    "    print('Распределение не нормально')\n",
    "else:\n",
    "    print('Распределение нормально')"
   ]
  },
  {
   "cell_type": "code",
   "execution_count": 20,
   "id": "6f695d8e",
   "metadata": {},
   "outputs": [
    {
     "name": "stdout",
     "output_type": "stream",
     "text": [
      "p-value = 0.000\n",
      "p-значение меньше, чем заданный уровень значимости 0.05. Отвергаем нулевую гипотезу.\n"
     ]
    }
   ],
   "source": [
    "# Проводим тест Манна-Уитни, поскольку у нас 2 независимые группы, которые не распределены по нормальному закону\n",
    "_, p = stats.mannwhitneyu(data_usd, data_other, alternative='greater')\n",
    "\n",
    "print('p-value = {:.3f}'.format(p))\n",
    "\n",
    "# Интерпретируем результат\n",
    "if p <= alpha:\n",
    "    print('p-значение меньше, чем заданный уровень значимости {:.2f}. Отвергаем нулевую гипотезу.'.format(alpha))\n",
    "else:\n",
    "    print('p-значение больше, чем заданный уровень значимости {:.2f}. У нас нет оснований отвергнуть нулевую гипотезу.'.format(alpha))"
   ]
  },
  {
   "cell_type": "markdown",
   "id": "5993a93e",
   "metadata": {},
   "source": [
    "Вывод: у нас есть основания утверждать, что зарплата, выплачиваемая в такой валюте как доллар, выше зарплат, выплачиваемых в остальных валютах. Соответственно, различия в валюте выплаты зарплаты являются статистически значимыми, а валюта выплаты зарплаты влияет на зарплату."
   ]
  },
  {
   "cell_type": "code",
   "execution_count": 21,
   "id": "42dcc4f3",
   "metadata": {},
   "outputs": [],
   "source": [
    "# Ещё один признак - страна проживания специалиста\n",
    "data_employee_residence = data.copy()\n",
    "data_employee_residence['employee_residence'] = data_employee_residence['employee_residence'].apply(lambda x: x if x=='US' else 'other')"
   ]
  },
  {
   "cell_type": "code",
   "execution_count": 22,
   "id": "064f9bfb",
   "metadata": {},
   "outputs": [
    {
     "data": {
      "text/html": [
       "<div>\n",
       "<style scoped>\n",
       "    .dataframe tbody tr th:only-of-type {\n",
       "        vertical-align: middle;\n",
       "    }\n",
       "\n",
       "    .dataframe tbody tr th {\n",
       "        vertical-align: top;\n",
       "    }\n",
       "\n",
       "    .dataframe thead th {\n",
       "        text-align: right;\n",
       "    }\n",
       "</style>\n",
       "<table border=\"1\" class=\"dataframe\">\n",
       "  <thead>\n",
       "    <tr style=\"text-align: right;\">\n",
       "      <th></th>\n",
       "      <th>count</th>\n",
       "      <th>mean</th>\n",
       "      <th>std</th>\n",
       "      <th>min</th>\n",
       "      <th>25%</th>\n",
       "      <th>50%</th>\n",
       "      <th>75%</th>\n",
       "      <th>max</th>\n",
       "    </tr>\n",
       "    <tr>\n",
       "      <th>employee_residence</th>\n",
       "      <th></th>\n",
       "      <th></th>\n",
       "      <th></th>\n",
       "      <th></th>\n",
       "      <th></th>\n",
       "      <th></th>\n",
       "      <th></th>\n",
       "      <th></th>\n",
       "    </tr>\n",
       "  </thead>\n",
       "  <tbody>\n",
       "    <tr>\n",
       "      <th>US</th>\n",
       "      <td>285.0</td>\n",
       "      <td>140677.0</td>\n",
       "      <td>48883.0</td>\n",
       "      <td>25000.0</td>\n",
       "      <td>105000.0</td>\n",
       "      <td>136000.0</td>\n",
       "      <td>170000.0</td>\n",
       "      <td>276000.0</td>\n",
       "    </tr>\n",
       "    <tr>\n",
       "      <th>other</th>\n",
       "      <td>267.0</td>\n",
       "      <td>68187.0</td>\n",
       "      <td>43059.0</td>\n",
       "      <td>5409.0</td>\n",
       "      <td>39263.0</td>\n",
       "      <td>62651.0</td>\n",
       "      <td>88293.0</td>\n",
       "      <td>260000.0</td>\n",
       "    </tr>\n",
       "  </tbody>\n",
       "</table>\n",
       "</div>"
      ],
      "text/plain": [
       "                    count      mean      std      min       25%       50%  \\\n",
       "employee_residence                                                          \n",
       "US                  285.0  140677.0  48883.0  25000.0  105000.0  136000.0   \n",
       "other               267.0   68187.0  43059.0   5409.0   39263.0   62651.0   \n",
       "\n",
       "                         75%       max  \n",
       "employee_residence                      \n",
       "US                  170000.0  276000.0  \n",
       "other                88293.0  260000.0  "
      ]
     },
     "execution_count": 22,
     "metadata": {},
     "output_type": "execute_result"
    }
   ],
   "source": [
    "data_employee_residence.groupby('employee_residence')['salary_in_usd'].describe().round()"
   ]
  },
  {
   "cell_type": "code",
   "execution_count": 23,
   "id": "eb735a0c",
   "metadata": {
    "scrolled": false
   },
   "outputs": [
    {
     "data": {
      "image/png": "[encoded data removed]",
      "text/plain": [
       "<Figure size 1080x504 with 1 Axes>"
      ]
     },
     "metadata": {
      "needs_background": "light"
     },
     "output_type": "display_data"
    }
   ],
   "source": [
    "fig = plt.figure(figsize=(15, 7))\n",
    "ax = sns.boxplot(data=data_employee_residence,\n",
    "           x='salary_in_usd',\n",
    "           y='employee_residence')\n",
    "ax.set(xlabel='Зарплата в долларах', ylabel='Страна проживания специалиста')\n",
    "plt.title('Распределение зарплат в зависимости от страны проживания специалиста')\n",
    "\n",
    "plt.show()"
   ]
  },
  {
   "cell_type": "markdown",
   "id": "d34fe7c3",
   "metadata": {},
   "source": [
    "По графику видно, что зарплата, выплачиваемая специалисту, который живёт в США, выше зарплат, выплачиваемым специалистам, проживающим в других странах. Чтобы определить, являются ли эти различия статистически значимыми, проведём статистические тесты."
   ]
  },
  {
   "cell_type": "markdown",
   "id": "2c1209d8",
   "metadata": {},
   "source": [
    "- H0: Зарплата, выплачиваемая специалисту, который живёт в США, ниже или равна зарплатам, выплачиваемым специалистам, проживающим в других странах\n",
    "- H1: Зарплата, выплачиваемая специалисту, который живёт в США, выше зарплат, выплачиваемых специалистам, проживающим в других странах"
   ]
  },
  {
   "cell_type": "code",
   "execution_count": 24,
   "id": "1fc01e74",
   "metadata": {},
   "outputs": [
    {
     "name": "stdout",
     "output_type": "stream",
     "text": [
      "p-value 1 = 0.003\n",
      "p-value 2 = 0.000\n",
      "Распределение не нормально\n"
     ]
    }
   ],
   "source": [
    "data_us = data[data['employee_residence']=='US']['salary_in_usd']\n",
    "data_other = data[data['employee_residence']!='US']['salary_in_usd']\n",
    "\n",
    "# Проводим тест Шапиро-Уилка на нормальность распределения\n",
    "_, p1 = stats.shapiro(data_us)\n",
    "_, p2 = stats.shapiro(data_other)\n",
    "\n",
    "print('p-value 1 = %.3f' % (p1))\n",
    "print('p-value 2 = %.3f' % (p2))\n",
    "\n",
    "# Интерпретируем результат\n",
    "if p1 <= alpha or p2 <= alpha:\n",
    "    print('Распределение не нормально')\n",
    "else:\n",
    "    print('Распределение нормально')"
   ]
  },
  {
   "cell_type": "code",
   "execution_count": 25,
   "id": "30697db2",
   "metadata": {},
   "outputs": [
    {
     "name": "stdout",
     "output_type": "stream",
     "text": [
      "p-value = 0.000\n",
      "p-значение меньше, чем заданный уровень значимости 0.05. Отвергаем нулевую гипотезу.\n"
     ]
    }
   ],
   "source": [
    "# Проводим тест Манна-Уитни, поскольку у нас 2 независимые группы, которые не распределены по нормальному закону\n",
    "_, p = stats.mannwhitneyu(data_us, data_other, alternative='greater')\n",
    "\n",
    "print('p-value = {:.3f}'.format(p))\n",
    "\n",
    "# Интерпретируем результат\n",
    "if p <= alpha:\n",
    "    print('p-значение меньше, чем заданный уровень значимости {:.2f}. Отвергаем нулевую гипотезу.'.format(alpha))\n",
    "else:\n",
    "    print('p-значение больше, чем заданный уровень значимости {:.2f}. У нас нет оснований отвергнуть нулевую гипотезу.'.format(alpha))"
   ]
  },
  {
   "cell_type": "markdown",
   "id": "0b2037d1",
   "metadata": {},
   "source": [
    "Вывод: у нас есть основания утверждать, что зарплата, выплачиваемая специалисту, который живёт в США, выше зарплат, выплачиваемых специалистам, проживающим в других странах. Соответственно, различия в стране проживания специалиста являются статистически значимыми, а страна проживания специалиста влияет на зарплату."
   ]
  },
  {
   "cell_type": "code",
   "execution_count": 26,
   "id": "761145ed",
   "metadata": {},
   "outputs": [
    {
     "data": {
      "text/html": [
       "<div>\n",
       "<style scoped>\n",
       "    .dataframe tbody tr th:only-of-type {\n",
       "        vertical-align: middle;\n",
       "    }\n",
       "\n",
       "    .dataframe tbody tr th {\n",
       "        vertical-align: top;\n",
       "    }\n",
       "\n",
       "    .dataframe thead th {\n",
       "        text-align: right;\n",
       "    }\n",
       "</style>\n",
       "<table border=\"1\" class=\"dataframe\">\n",
       "  <thead>\n",
       "    <tr style=\"text-align: right;\">\n",
       "      <th></th>\n",
       "      <th>count</th>\n",
       "      <th>mean</th>\n",
       "      <th>std</th>\n",
       "      <th>min</th>\n",
       "      <th>25%</th>\n",
       "      <th>50%</th>\n",
       "      <th>75%</th>\n",
       "      <th>max</th>\n",
       "    </tr>\n",
       "    <tr>\n",
       "      <th>remote_ratio</th>\n",
       "      <th></th>\n",
       "      <th></th>\n",
       "      <th></th>\n",
       "      <th></th>\n",
       "      <th></th>\n",
       "      <th></th>\n",
       "      <th></th>\n",
       "      <th></th>\n",
       "    </tr>\n",
       "  </thead>\n",
       "  <tbody>\n",
       "    <tr>\n",
       "      <th>0</th>\n",
       "      <td>118.0</td>\n",
       "      <td>104603.0</td>\n",
       "      <td>60036.0</td>\n",
       "      <td>5882.0</td>\n",
       "      <td>64137.0</td>\n",
       "      <td>98579.0</td>\n",
       "      <td>135750.0</td>\n",
       "      <td>276000.0</td>\n",
       "    </tr>\n",
       "    <tr>\n",
       "      <th>50</th>\n",
       "      <td>97.0</td>\n",
       "      <td>77193.0</td>\n",
       "      <td>46086.0</td>\n",
       "      <td>5409.0</td>\n",
       "      <td>49646.0</td>\n",
       "      <td>66022.0</td>\n",
       "      <td>99703.0</td>\n",
       "      <td>250000.0</td>\n",
       "    </tr>\n",
       "    <tr>\n",
       "      <th>100</th>\n",
       "      <td>337.0</td>\n",
       "      <td>114149.0</td>\n",
       "      <td>58949.0</td>\n",
       "      <td>5679.0</td>\n",
       "      <td>69741.0</td>\n",
       "      <td>110000.0</td>\n",
       "      <td>155000.0</td>\n",
       "      <td>270000.0</td>\n",
       "    </tr>\n",
       "  </tbody>\n",
       "</table>\n",
       "</div>"
      ],
      "text/plain": [
       "              count      mean      std     min      25%       50%       75%  \\\n",
       "remote_ratio                                                                  \n",
       "0             118.0  104603.0  60036.0  5882.0  64137.0   98579.0  135750.0   \n",
       "50             97.0   77193.0  46086.0  5409.0  49646.0   66022.0   99703.0   \n",
       "100           337.0  114149.0  58949.0  5679.0  69741.0  110000.0  155000.0   \n",
       "\n",
       "                   max  \n",
       "remote_ratio            \n",
       "0             276000.0  \n",
       "50            250000.0  \n",
       "100           270000.0  "
      ]
     },
     "execution_count": 26,
     "metadata": {},
     "output_type": "execute_result"
    }
   ],
   "source": [
    "# Ещё один признак - общий объём работы, выполняемой удалённо\n",
    "data.groupby('remote_ratio')['salary_in_usd'].describe().round()"
   ]
  },
  {
   "cell_type": "code",
   "execution_count": 27,
   "id": "e41a53c7",
   "metadata": {},
   "outputs": [
    {
     "data": {
      "image/png": "[encoded data removed]",
      "text/plain": [
       "<Figure size 1080x504 with 1 Axes>"
      ]
     },
     "metadata": {
      "needs_background": "light"
     },
     "output_type": "display_data"
    }
   ],
   "source": [
    "fig = plt.figure(figsize=(15, 7))\n",
    "ax = sns.boxplot(data=data,\n",
    "           x='remote_ratio',\n",
    "           y='salary_in_usd')\n",
    "ax.set(xlabel='Общий объём работы, выполняемой удалённо', ylabel='Зарплата в долларах')\n",
    "plt.title('Распределение зарплат в зависимости от общего объёма работы, выполняемой удалённо')\n",
    "\n",
    "plt.show()"
   ]
  },
  {
   "cell_type": "markdown",
   "id": "28aaf8d5",
   "metadata": {},
   "source": [
    "По графику видно, что зарплаты, выплачиваемые специалистам с разными объёмами работы, выполняемой удалённо, не равны. Чтобы определить, являются ли эти различия статистически значимыми, проведём статистические тесты."
   ]
  },
  {
   "cell_type": "markdown",
   "id": "e6e38376",
   "metadata": {},
   "source": [
    "- H0: Зарплаты, выплачиваемые специалистам с разными объёмами работы, выполняемой удалённо, равны\n",
    "- H1: Зарплаты, выплачиваемые специалистам с разными объёмами работы, выполняемой удалённо, не равны"
   ]
  },
  {
   "cell_type": "code",
   "execution_count": 28,
   "id": "161f6d63",
   "metadata": {},
   "outputs": [
    {
     "name": "stdout",
     "output_type": "stream",
     "text": [
      "p-value 1 = 0.005\n",
      "p-value 2 = 0.000\n",
      "p-value 3 = 0.001\n",
      "Распределение не нормально\n"
     ]
    }
   ],
   "source": [
    "data_0 = data[data['remote_ratio']==0]['salary_in_usd']\n",
    "data_50 = data[data['remote_ratio']==50]['salary_in_usd']\n",
    "data_100 = data[data['remote_ratio']==100]['salary_in_usd']\n",
    "\n",
    "# Проводим тест Шапиро-Уилка на нормальность распределения\n",
    "_, p1 = stats.shapiro(data_0)\n",
    "_, p2 = stats.shapiro(data_50)\n",
    "_, p3 = stats.shapiro(data_100)\n",
    "\n",
    "print('p-value 1 = %.3f' % (p1))\n",
    "print('p-value 2 = %.3f' % (p2))\n",
    "print('p-value 3 = %.3f' % (p3))\n",
    "\n",
    "# Интерпретируем результат\n",
    "if p1 <= alpha or p2 <= alpha or p3 <= alpha:\n",
    "    print('Распределение не нормально')\n",
    "else:\n",
    "    print('Распределение нормально')"
   ]
  },
  {
   "cell_type": "code",
   "execution_count": 29,
   "id": "1fc9ea00",
   "metadata": {},
   "outputs": [
    {
     "name": "stdout",
     "output_type": "stream",
     "text": [
      "p-value = 0.000\n",
      "p-значение меньше, чем заданный уровень значимости 0.05. Отвергаем нулевую гипотезу.\n"
     ]
    }
   ],
   "source": [
    "# Выбираем тест Краскела - Уоллиса, поскольку у нас 3 независимые группы, которые не распределены по нормальному закону\n",
    "_, p = stats.kruskal(data_0, data_50, data_100)\n",
    "\n",
    "print('p-value = %.3f' % (p))\n",
    "\n",
    "# Интерпретируем результат\n",
    "if p <= alpha:\n",
    "    print('p-значение меньше, чем заданный уровень значимости {:.2f}. Отвергаем нулевую гипотезу.'.format(alpha))\n",
    "else:\n",
    "    print('p-значение больше, чем заданный уровень значимости {:.2f}. У нас нет оснований отвергнуть нулевую гипотезу.'.format(alpha))"
   ]
  },
  {
   "cell_type": "markdown",
   "id": "6ce2e0d2",
   "metadata": {},
   "source": [
    "Вывод: у нас есть основания утверждать, что зарплаты, выплачиваемые специалистам с разными объёмами работы, выполняемой удалённо, не равны. Соответственно, различия в разных объёмах работы, выполняемой удалённо, являются статистически значимыми, а объём удалённой работы специалиста влияет на зарплату."
   ]
  },
  {
   "cell_type": "code",
   "execution_count": 30,
   "id": "1ca5b7b9",
   "metadata": {},
   "outputs": [],
   "source": [
    "# Ещё один признак - страна главного офиса работодателя или филиала\n",
    "data_company_location = data.copy()\n",
    "data_company_location['company_location'] = data_company_location['company_location'].apply(lambda x: x if x=='US' else 'other')"
   ]
  },
  {
   "cell_type": "code",
   "execution_count": 31,
   "id": "febd3bde",
   "metadata": {},
   "outputs": [
    {
     "data": {
      "text/html": [
       "<div>\n",
       "<style scoped>\n",
       "    .dataframe tbody tr th:only-of-type {\n",
       "        vertical-align: middle;\n",
       "    }\n",
       "\n",
       "    .dataframe tbody tr th {\n",
       "        vertical-align: top;\n",
       "    }\n",
       "\n",
       "    .dataframe thead th {\n",
       "        text-align: right;\n",
       "    }\n",
       "</style>\n",
       "<table border=\"1\" class=\"dataframe\">\n",
       "  <thead>\n",
       "    <tr style=\"text-align: right;\">\n",
       "      <th></th>\n",
       "      <th>count</th>\n",
       "      <th>mean</th>\n",
       "      <th>std</th>\n",
       "      <th>min</th>\n",
       "      <th>25%</th>\n",
       "      <th>50%</th>\n",
       "      <th>75%</th>\n",
       "      <th>max</th>\n",
       "    </tr>\n",
       "    <tr>\n",
       "      <th>company_location</th>\n",
       "      <th></th>\n",
       "      <th></th>\n",
       "      <th></th>\n",
       "      <th></th>\n",
       "      <th></th>\n",
       "      <th></th>\n",
       "      <th></th>\n",
       "      <th></th>\n",
       "    </tr>\n",
       "  </thead>\n",
       "  <tbody>\n",
       "    <tr>\n",
       "      <th>US</th>\n",
       "      <td>308.0</td>\n",
       "      <td>135390.0</td>\n",
       "      <td>52206.0</td>\n",
       "      <td>5679.0</td>\n",
       "      <td>100000.0</td>\n",
       "      <td>133660.0</td>\n",
       "      <td>167219.0</td>\n",
       "      <td>276000.0</td>\n",
       "    </tr>\n",
       "    <tr>\n",
       "      <th>other</th>\n",
       "      <td>244.0</td>\n",
       "      <td>68028.0</td>\n",
       "      <td>42635.0</td>\n",
       "      <td>5409.0</td>\n",
       "      <td>39753.0</td>\n",
       "      <td>62726.0</td>\n",
       "      <td>87932.0</td>\n",
       "      <td>260000.0</td>\n",
       "    </tr>\n",
       "  </tbody>\n",
       "</table>\n",
       "</div>"
      ],
      "text/plain": [
       "                  count      mean      std     min       25%       50%  \\\n",
       "company_location                                                         \n",
       "US                308.0  135390.0  52206.0  5679.0  100000.0  133660.0   \n",
       "other             244.0   68028.0  42635.0  5409.0   39753.0   62726.0   \n",
       "\n",
       "                       75%       max  \n",
       "company_location                      \n",
       "US                167219.0  276000.0  \n",
       "other              87932.0  260000.0  "
      ]
     },
     "execution_count": 31,
     "metadata": {},
     "output_type": "execute_result"
    }
   ],
   "source": [
    "data_company_location.groupby('company_location')['salary_in_usd'].describe().round()"
   ]
  },
  {
   "cell_type": "code",
   "execution_count": 32,
   "id": "dc0ee91a",
   "metadata": {},
   "outputs": [
    {
     "data": {
      "image/png": "[encoded data removed]",
      "text/plain": [
       "<Figure size 1080x504 with 1 Axes>"
      ]
     },
     "metadata": {
      "needs_background": "light"
     },
     "output_type": "display_data"
    }
   ],
   "source": [
    "fig = plt.figure(figsize=(15, 7))\n",
    "ax = sns.boxplot(data=data_company_location,\n",
    "           x='salary_in_usd',\n",
    "           y='company_location')\n",
    "ax.set(xlabel='Зарплата в долларах', ylabel='Страна главного офиса работодателя или филиала')\n",
    "plt.title('Распределение зарплат в зависимости от страны главного офиса работодателя или филиала')\n",
    "\n",
    "plt.show()"
   ]
  },
  {
   "cell_type": "markdown",
   "id": "a13074c8",
   "metadata": {},
   "source": [
    "По графику видно, что зарплата специалиста, который работает в стране главного офиса работодателя или филиала США выше зарплаты специалиста, который работает в остальных странах главного офиса работодателя или филиала. Чтобы определить, являются ли эти различия статистически значимыми, проведём статистические тесты."
   ]
  },
  {
   "cell_type": "markdown",
   "id": "9c38e0d7",
   "metadata": {},
   "source": [
    "- H0: Зарплата специалиста, который работает в стране главного офиса работодателя или филиала США ниже или равна зарплате специалиста, который работает в остальных странах главного офиса работодателя или филиала\n",
    "- H1: Зарплата специалиста, который работает в стране главного офиса работодателя или филиала США выше зарплаты специалиста, который работает в остальных странах главного офиса работодателя или филиала"
   ]
  },
  {
   "cell_type": "code",
   "execution_count": 33,
   "id": "565203d7",
   "metadata": {},
   "outputs": [
    {
     "name": "stdout",
     "output_type": "stream",
     "text": [
      "p-value 1 = 0.205\n",
      "p-value 2 = 0.000\n",
      "Распределение не нормально\n"
     ]
    }
   ],
   "source": [
    "data_us = data[data['company_location']=='US']['salary_in_usd']\n",
    "data_other = data[data['company_location']!='US']['salary_in_usd']\n",
    "\n",
    "\n",
    "# Проводим тест Шапиро-Уилка на нормальность распределения\n",
    "_, p1 = stats.shapiro(data_us)\n",
    "_, p2 = stats.shapiro(data_other)\n",
    "\n",
    "print('p-value 1 = %.3f' % (p1))\n",
    "print('p-value 2 = %.3f' % (p2))\n",
    "\n",
    "# Интерпретируем результат\n",
    "if p1 <= alpha or p2 <= alpha:\n",
    "    print('Распределение не нормально')\n",
    "else:\n",
    "    print('Распределение нормально')"
   ]
  },
  {
   "cell_type": "code",
   "execution_count": 34,
   "id": "91047cf9",
   "metadata": {},
   "outputs": [
    {
     "name": "stdout",
     "output_type": "stream",
     "text": [
      "p-value = 0.000\n",
      "p-значение меньше, чем заданный уровень значимости 0.05. Отвергаем нулевую гипотезу.\n"
     ]
    }
   ],
   "source": [
    "# Проводим тест Манна-Уитни, поскольку у нас 2 независимые группы, которые не распределены по нормальному закону\n",
    "_, p = stats.mannwhitneyu(data_us, data_other, alternative='greater')\n",
    "\n",
    "print('p-value = {:.3f}'.format(p))\n",
    "\n",
    "# Интерпретируем результат\n",
    "if p <= alpha:\n",
    "    print('p-значение меньше, чем заданный уровень значимости {:.2f}. Отвергаем нулевую гипотезу.'.format(alpha))\n",
    "else:\n",
    "    print('p-значение больше, чем заданный уровень значимости {:.2f}. У нас нет оснований отвергнуть нулевую гипотезу.'.format(alpha))"
   ]
  },
  {
   "cell_type": "markdown",
   "id": "c1cf759e",
   "metadata": {},
   "source": [
    "Вывод: у нас есть основания утверждать, что зарплата специалиста, который работает в стране главного офиса работодателя или филиала США выше зарплаты специалиста, который работает в остальных странах главного офиса работодателя или филиала. Соответственно, различия в стране главного офиса работодателя или филиала являются статистически значимыми, а страна главного офиса работодателя или филиала специалиста влияет на зарплату."
   ]
  },
  {
   "cell_type": "markdown",
   "id": "9fc0089d",
   "metadata": {},
   "source": [
    "## Вопрос 1. Наблюдается ли ежегодный рост зарплат у специалистов Data Scientist?"
   ]
  },
  {
   "cell_type": "code",
   "execution_count": 35,
   "id": "6f914ec5",
   "metadata": {},
   "outputs": [
    {
     "data": {
      "text/html": [
       "<div>\n",
       "<style scoped>\n",
       "    .dataframe tbody tr th:only-of-type {\n",
       "        vertical-align: middle;\n",
       "    }\n",
       "\n",
       "    .dataframe tbody tr th {\n",
       "        vertical-align: top;\n",
       "    }\n",
       "\n",
       "    .dataframe thead th {\n",
       "        text-align: right;\n",
       "    }\n",
       "</style>\n",
       "<table border=\"1\" class=\"dataframe\">\n",
       "  <thead>\n",
       "    <tr style=\"text-align: right;\">\n",
       "      <th></th>\n",
       "      <th>count</th>\n",
       "      <th>mean</th>\n",
       "      <th>std</th>\n",
       "      <th>min</th>\n",
       "      <th>25%</th>\n",
       "      <th>50%</th>\n",
       "      <th>75%</th>\n",
       "      <th>max</th>\n",
       "    </tr>\n",
       "    <tr>\n",
       "      <th>work_year</th>\n",
       "      <th></th>\n",
       "      <th></th>\n",
       "      <th></th>\n",
       "      <th></th>\n",
       "      <th></th>\n",
       "      <th></th>\n",
       "      <th></th>\n",
       "      <th></th>\n",
       "    </tr>\n",
       "  </thead>\n",
       "  <tbody>\n",
       "    <tr>\n",
       "      <th>2020</th>\n",
       "      <td>69.0</td>\n",
       "      <td>82776.0</td>\n",
       "      <td>53887.0</td>\n",
       "      <td>5707.0</td>\n",
       "      <td>45618.0</td>\n",
       "      <td>72000.0</td>\n",
       "      <td>112872.0</td>\n",
       "      <td>260000.0</td>\n",
       "    </tr>\n",
       "    <tr>\n",
       "      <th>2021</th>\n",
       "      <td>208.0</td>\n",
       "      <td>93643.0</td>\n",
       "      <td>60877.0</td>\n",
       "      <td>5409.0</td>\n",
       "      <td>50000.0</td>\n",
       "      <td>82514.0</td>\n",
       "      <td>130006.0</td>\n",
       "      <td>276000.0</td>\n",
       "    </tr>\n",
       "    <tr>\n",
       "      <th>2022</th>\n",
       "      <td>275.0</td>\n",
       "      <td>120399.0</td>\n",
       "      <td>54226.0</td>\n",
       "      <td>10000.0</td>\n",
       "      <td>78658.0</td>\n",
       "      <td>118187.0</td>\n",
       "      <td>158600.0</td>\n",
       "      <td>266400.0</td>\n",
       "    </tr>\n",
       "  </tbody>\n",
       "</table>\n",
       "</div>"
      ],
      "text/plain": [
       "           count      mean      std      min      25%       50%       75%  \\\n",
       "work_year                                                                   \n",
       "2020        69.0   82776.0  53887.0   5707.0  45618.0   72000.0  112872.0   \n",
       "2021       208.0   93643.0  60877.0   5409.0  50000.0   82514.0  130006.0   \n",
       "2022       275.0  120399.0  54226.0  10000.0  78658.0  118187.0  158600.0   \n",
       "\n",
       "                max  \n",
       "work_year            \n",
       "2020       260000.0  \n",
       "2021       276000.0  \n",
       "2022       266400.0  "
      ]
     },
     "execution_count": 35,
     "metadata": {},
     "output_type": "execute_result"
    }
   ],
   "source": [
    "# Сперва рассмотрим всех специалистов\n",
    "data.groupby('work_year')['salary_in_usd'].describe().round()"
   ]
  },
  {
   "cell_type": "code",
   "execution_count": 36,
   "id": "d5112f30",
   "metadata": {},
   "outputs": [
    {
     "data": {
      "image/png": "[encoded data removed]",
      "text/plain": [
       "<Figure size 1080x504 with 1 Axes>"
      ]
     },
     "metadata": {
      "needs_background": "light"
     },
     "output_type": "display_data"
    }
   ],
   "source": [
    "fig = plt.figure(figsize=(15, 7))\n",
    "ax = sns.boxplot(data=data,\n",
    "                x='work_year',\n",
    "                y='salary_in_usd')\n",
    "ax.set(xlabel='', ylabel='Зарплата в долларах')\n",
    "plt.title('Распределение зарплат в зависимости от года')\n",
    "\n",
    "plt.show()"
   ]
  },
  {
   "cell_type": "markdown",
   "id": "157a71c8",
   "metadata": {},
   "source": [
    "По графику видно, что медианная зарплата у всех специалистов с каждым годом растёт. Чтобы определить, являются ли эти различия статистически значимыми, проведём статистические тесты."
   ]
  },
  {
   "cell_type": "code",
   "execution_count": 37,
   "id": "25a2f3b4",
   "metadata": {},
   "outputs": [
    {
     "name": "stdout",
     "output_type": "stream",
     "text": [
      "p-value 1 = 0.000\n",
      "p-value 2 = 0.000\n",
      "p-value 3 = 0.008\n",
      "Распределение не нормально\n"
     ]
    }
   ],
   "source": [
    "data_2020 = data[data['work_year']==2020]['salary_in_usd']\n",
    "data_2021 = data[data['work_year']==2021]['salary_in_usd']\n",
    "data_2022 = data[data['work_year']==2022]['salary_in_usd']\n",
    "\n",
    "# Проводим тест Шапиро — Уилка на нормальность распределения\n",
    "_, p1 = stats.shapiro(data_2020)\n",
    "_, p2 = stats.shapiro(data_2021)\n",
    "_, p3 = stats.shapiro(data_2022)\n",
    "\n",
    "print('p-value 1 = %.3f' % (p1))\n",
    "print('p-value 2 = %.3f' % (p2))\n",
    "print('p-value 3 = %.3f' % (p3))\n",
    "\n",
    "# Интерпретируем результат\n",
    "if p1 <= alpha or p2 <= alpha or p3 <= alpha:\n",
    "    print('Распределение не нормально')\n",
    "else:\n",
    "    print('Распределение нормально')"
   ]
  },
  {
   "cell_type": "markdown",
   "id": "154776d0",
   "metadata": {},
   "source": [
    "- HO: Зарплата у всех специалистов в 2021 году ниже или равна зарплатам всех специалистов в 2020 году\n",
    "- H1: Зарплата у всех специалистов в 2021 году выше зарплат всех специалистов в 2020 году"
   ]
  },
  {
   "cell_type": "code",
   "execution_count": 38,
   "id": "20521d62",
   "metadata": {},
   "outputs": [
    {
     "name": "stdout",
     "output_type": "stream",
     "text": [
      "p-value = 0.115\n",
      "p-значение больше, чем заданный уровень значимости 0.05. У нас нет оснований отвергнуть нулевую гипотезу.\n"
     ]
    }
   ],
   "source": [
    "# Проводим тест Манна-Уитни, поскольку у нас 2 независимые группы, которые не распределены по нормальному закону\n",
    "_, p = stats.mannwhitneyu(data_2020, data_2021, alternative='less')\n",
    "\n",
    "print('p-value = {:.3f}'.format(p))\n",
    "\n",
    "# Интерпретируем результат\n",
    "if p <= alpha:\n",
    "    print('p-значение меньше, чем заданный уровень значимости {:.2f}. Отвергаем нулевую гипотезу.'.format(alpha))\n",
    "else:\n",
    "    print('p-значение больше, чем заданный уровень значимости {:.2f}. У нас нет оснований отвергнуть нулевую гипотезу.'.format(alpha))"
   ]
  },
  {
   "cell_type": "markdown",
   "id": "806afc97",
   "metadata": {},
   "source": [
    "- HO: Зарплата у всех специалистов в 2022 году ниже или равна зарплатам всех специалистов в 2021 году\n",
    "- H1: Зарплата у всех специалистов в 2022 году выше зарплат всех специалистов в 2021 году"
   ]
  },
  {
   "cell_type": "code",
   "execution_count": 39,
   "id": "2b8382c8",
   "metadata": {},
   "outputs": [
    {
     "name": "stdout",
     "output_type": "stream",
     "text": [
      "p-value = 0.000\n",
      "p-значение меньше, чем заданный уровень значимости 0.05. Отвергаем нулевую гипотезу.\n"
     ]
    }
   ],
   "source": [
    "# Проводим тест Манна-Уитни, поскольку у нас 2 независимые группы, которые не распределены по нормальному закону\n",
    "_, p = stats.mannwhitneyu(data_2021, data_2022, alternative='less')\n",
    "\n",
    "print('p-value = {:.3f}'.format(p))\n",
    "\n",
    "# Интерпретируем результат\n",
    "if p <= alpha:\n",
    "    print('p-значение меньше, чем заданный уровень значимости {:.2f}. Отвергаем нулевую гипотезу.'.format(alpha))\n",
    "else:\n",
    "    print('p-значение больше, чем заданный уровень значимости {:.2f}. У нас нет оснований отвергнуть нулевую гипотезу.'.format(alpha))"
   ]
  },
  {
   "cell_type": "markdown",
   "id": "ccb2c940",
   "metadata": {},
   "source": [
    "Вывод: у нас нет оснований утверждать, что наблюдается ежегодный рост зарплат у всех специалистов, поскольку рост зарплат в 2021 году по сравнению с 2020 году оказался статистически незначимым. Но рост зарплат у всех специалистов в 2022 году по сравнению с 2021 году статистически значим."
   ]
  },
  {
   "cell_type": "code",
   "execution_count": 40,
   "id": "411073ad",
   "metadata": {},
   "outputs": [
    {
     "data": {
      "text/html": [
       "<div>\n",
       "<style scoped>\n",
       "    .dataframe tbody tr th:only-of-type {\n",
       "        vertical-align: middle;\n",
       "    }\n",
       "\n",
       "    .dataframe tbody tr th {\n",
       "        vertical-align: top;\n",
       "    }\n",
       "\n",
       "    .dataframe thead th {\n",
       "        text-align: right;\n",
       "    }\n",
       "</style>\n",
       "<table border=\"1\" class=\"dataframe\">\n",
       "  <thead>\n",
       "    <tr style=\"text-align: right;\">\n",
       "      <th></th>\n",
       "      <th>count</th>\n",
       "      <th>mean</th>\n",
       "      <th>std</th>\n",
       "      <th>min</th>\n",
       "      <th>25%</th>\n",
       "      <th>50%</th>\n",
       "      <th>75%</th>\n",
       "      <th>max</th>\n",
       "    </tr>\n",
       "    <tr>\n",
       "      <th>work_year</th>\n",
       "      <th></th>\n",
       "      <th></th>\n",
       "      <th></th>\n",
       "      <th></th>\n",
       "      <th></th>\n",
       "      <th></th>\n",
       "      <th></th>\n",
       "      <th></th>\n",
       "    </tr>\n",
       "  </thead>\n",
       "  <tbody>\n",
       "    <tr>\n",
       "      <th>2020</th>\n",
       "      <td>20.0</td>\n",
       "      <td>69669.0</td>\n",
       "      <td>33268.0</td>\n",
       "      <td>21669.0</td>\n",
       "      <td>41768.0</td>\n",
       "      <td>62726.0</td>\n",
       "      <td>94678.0</td>\n",
       "      <td>138350.0</td>\n",
       "    </tr>\n",
       "    <tr>\n",
       "      <th>2021</th>\n",
       "      <td>42.0</td>\n",
       "      <td>73396.0</td>\n",
       "      <td>44455.0</td>\n",
       "      <td>5679.0</td>\n",
       "      <td>36938.0</td>\n",
       "      <td>74387.0</td>\n",
       "      <td>102768.0</td>\n",
       "      <td>165000.0</td>\n",
       "    </tr>\n",
       "    <tr>\n",
       "      <th>2022</th>\n",
       "      <td>65.0</td>\n",
       "      <td>131367.0</td>\n",
       "      <td>55785.0</td>\n",
       "      <td>18442.0</td>\n",
       "      <td>95550.0</td>\n",
       "      <td>135000.0</td>\n",
       "      <td>170000.0</td>\n",
       "      <td>260000.0</td>\n",
       "    </tr>\n",
       "  </tbody>\n",
       "</table>\n",
       "</div>"
      ],
      "text/plain": [
       "           count      mean      std      min      25%       50%       75%  \\\n",
       "work_year                                                                   \n",
       "2020        20.0   69669.0  33268.0  21669.0  41768.0   62726.0   94678.0   \n",
       "2021        42.0   73396.0  44455.0   5679.0  36938.0   74387.0  102768.0   \n",
       "2022        65.0  131367.0  55785.0  18442.0  95550.0  135000.0  170000.0   \n",
       "\n",
       "                max  \n",
       "work_year            \n",
       "2020       138350.0  \n",
       "2021       165000.0  \n",
       "2022       260000.0  "
      ]
     },
     "execution_count": 40,
     "metadata": {},
     "output_type": "execute_result"
    }
   ],
   "source": [
    "# Теперь рассмотрим исключительно специалистов Data Scientist\n",
    "data[data['job_title']=='Data Scientist'].groupby('work_year')['salary_in_usd'].describe().round()"
   ]
  },
  {
   "cell_type": "code",
   "execution_count": 41,
   "id": "a475d7fc",
   "metadata": {},
   "outputs": [
    {
     "data": {
      "image/png": "[encoded data removed]",
      "text/plain": [
       "<Figure size 1080x504 with 1 Axes>"
      ]
     },
     "metadata": {
      "needs_background": "light"
     },
     "output_type": "display_data"
    }
   ],
   "source": [
    "fig = plt.figure(figsize=(15, 7))\n",
    "ax = sns.boxplot(data=data[data['job_title']=='Data Scientist'],\n",
    "                x='work_year',\n",
    "                y='salary_in_usd')\n",
    "ax.set(xlabel='', ylabel='Зарплата в долларах')\n",
    "plt.title('Распределение зарплат специалистов Data Scientist в зависимости от года')\n",
    "\n",
    "plt.show()"
   ]
  },
  {
   "cell_type": "markdown",
   "id": "64c173e4",
   "metadata": {},
   "source": [
    "По графику видно, что медианная зарплата у специалистов Data Scientist с каждым годом растёт. Чтобы определить, являются ли эти различия статистически значимыми, проведём статистические тесты."
   ]
  },
  {
   "cell_type": "code",
   "execution_count": 42,
   "id": "bf7f8b3d",
   "metadata": {},
   "outputs": [
    {
     "name": "stdout",
     "output_type": "stream",
     "text": [
      "p-value 1 = 0.145\n",
      "p-value 2 = 0.150\n",
      "p-value 3 = 0.676\n",
      "Распределение нормально\n"
     ]
    }
   ],
   "source": [
    "data_ds2020 = data[(data['job_title']=='Data Scientist') & (data['work_year']==2020)]['salary_in_usd']\n",
    "data_ds2021 = data[(data['job_title']=='Data Scientist') & (data['work_year']==2021)]['salary_in_usd']\n",
    "data_ds2022 = data[(data['job_title']=='Data Scientist') & (data['work_year']==2022)]['salary_in_usd']\n",
    "\n",
    "# Проводим тест Шапиро — Уилка на нормальность распределения\n",
    "_, p1 = stats.shapiro(data_ds2020)\n",
    "_, p2 = stats.shapiro(data_ds2021)\n",
    "_, p3 = stats.shapiro(data_ds2022)\n",
    "\n",
    "print('p-value 1 = %.3f' % (p1))\n",
    "print('p-value 2 = %.3f' % (p2))\n",
    "print('p-value 3 = %.3f' % (p3))\n",
    "\n",
    "# Интерпретируем результат\n",
    "if p1 <= alpha or p2 <= alpha or p3 <= alpha:\n",
    "    print('Распределение не нормально')\n",
    "else:\n",
    "    print('Распределение нормально')"
   ]
  },
  {
   "cell_type": "markdown",
   "id": "d3e67fa6",
   "metadata": {},
   "source": [
    "- HO: Зарплата у специалистов Data Scientist в 2021 году ниже или равна зарплатам всех специалистов в 2020 году\n",
    "- H1: Зарплата у специалистов Data Scientist в 2021 году выше зарплат всех специалистов в 2020 году"
   ]
  },
  {
   "cell_type": "code",
   "execution_count": 43,
   "id": "0342d18a",
   "metadata": {},
   "outputs": [
    {
     "name": "stdout",
     "output_type": "stream",
     "text": [
      "p-value = 0.094\n",
      "Дисперсии одинаковы, в stats.ttest_ind нужно использовать параметр equal_var=True.\n",
      "p-value = 0.370\n",
      "p-значение больше, чем заданный уровень значимости 0.05. У нас нет оснований отвергнуть нулевую гипотезу.\n"
     ]
    }
   ],
   "source": [
    "# Проводим тест Левена на равенство дисперсий\n",
    "result = stats.levene(data_ds2020, data_ds2021)\n",
    "p = result[1]\n",
    "print('p-value = {:.3f}'.format(p))\n",
    "\n",
    "# интерпретируем результат\n",
    "if p <= alpha:\n",
    "    print('Дисперсии не одинаковы, в stats.ttest_ind нужно использовать параметр equal_var=False.')\n",
    "else:\n",
    "    print('Дисперсии одинаковы, в stats.ttest_ind нужно использовать параметр equal_var=True.')\n",
    "\n",
    "# Проводим тест на сравнение средних в группах (двухвыборочный Т-критерий)\n",
    "_, p = stats.ttest_ind(data_ds2020, data_ds2021, alternative='less', equal_var=True)\n",
    "\n",
    "print('p-value = {:.3f}'.format(p))\n",
    "\n",
    "# интерпретируем результат\n",
    "if p <= alpha:\n",
    "    print('p-значение меньше, чем заданный уровень значимости {:.2f}. Отвергаем нулевую гипотезу.'.format(alpha))\n",
    "else:\n",
    "    print('p-значение больше, чем заданный уровень значимости {:.2f}. У нас нет оснований отвергнуть нулевую гипотезу.'.format(alpha))"
   ]
  },
  {
   "cell_type": "markdown",
   "id": "d3353b9e",
   "metadata": {},
   "source": [
    "- HO: Зарплата у специалистов Data Scientist в 2022 году ниже или равна зарплатам всех специалистов в 2021 году\n",
    "- H1: Зарплата у специалистов Data Scientist в 2022 году выше зарплат всех специалистов в 2021 году"
   ]
  },
  {
   "cell_type": "code",
   "execution_count": 44,
   "id": "dc6df18f",
   "metadata": {},
   "outputs": [
    {
     "name": "stdout",
     "output_type": "stream",
     "text": [
      "p-value = 0.176\n",
      "Дисперсии одинаковы, в stats.ttest_ind нужно использовать параметр equal_var=True.\n",
      "p-value = 0.000\n",
      "p-значение меньше, чем заданный уровень значимости 0.05. Отвергаем нулевую гипотезу.\n"
     ]
    }
   ],
   "source": [
    "# Проводим тест Левена на равенство дисперсий\n",
    "result = stats.levene(data_ds2021, data_ds2022)\n",
    "p = result[1]\n",
    "print('p-value = {:.3f}'.format(p))\n",
    "\n",
    "# интерпретируем результат\n",
    "if p <= alpha:\n",
    "    print('Дисперсии не одинаковы, в stats.ttest_ind нужно использовать параметр equal_var=False.')\n",
    "else:\n",
    "    print('Дисперсии одинаковы, в stats.ttest_ind нужно использовать параметр equal_var=True.')\n",
    "\n",
    "# Проводим тест на сравнение средних в группах (двухвыборочный Т-критерий)\n",
    "_, p = stats.ttest_ind(data_ds2021, data_ds2022, alternative='less', equal_var=True)\n",
    "\n",
    "print('p-value = {:.3f}'.format(p))\n",
    "\n",
    "# интерпретируем результат\n",
    "if p <= alpha:\n",
    "    print('p-значение меньше, чем заданный уровень значимости {:.2f}. Отвергаем нулевую гипотезу.'.format(alpha))\n",
    "else:\n",
    "    print('p-значение больше, чем заданный уровень значимости {:.2f}. У нас нет оснований отвергнуть нулевую гипотезу.'.format(alpha))"
   ]
  },
  {
   "cell_type": "markdown",
   "id": "ecc8367e",
   "metadata": {},
   "source": [
    "Вывод: получаем результат, аналогичный всем специальностям: у нас нет оснований утверждать, что наблюдается ежегодный рост зарплат у специалистов Data Scientist, поскольку рост зарплат в 2021 году по сравнению с 2020 году оказался статистически незначимым. Но рост зарплат у специалистов Data Scientist в 2022 году по сравнению с 2021 году статистически значим."
   ]
  },
  {
   "cell_type": "markdown",
   "id": "fb2c994c",
   "metadata": {},
   "source": [
    "## Вопрос 2. Как соотносятся зарплаты Data Scientist и Data Engineer в 2022 году?"
   ]
  },
  {
   "cell_type": "code",
   "execution_count": 45,
   "id": "76eddfba",
   "metadata": {},
   "outputs": [],
   "source": [
    "data_ds_de = data[(data['job_title']=='Data Scientist') | (data['job_title']=='Data Engineer')]\n",
    "data_ds_de2022 = data_ds_de[data_ds_de['work_year']==2022]"
   ]
  },
  {
   "cell_type": "code",
   "execution_count": 46,
   "id": "e2ba2252",
   "metadata": {},
   "outputs": [
    {
     "data": {
      "image/png": "[encoded data removed]",
      "text/plain": [
       "<Figure size 1080x504 with 1 Axes>"
      ]
     },
     "metadata": {
      "needs_background": "light"
     },
     "output_type": "display_data"
    }
   ],
   "source": [
    "fig = plt.figure(figsize=(15, 7))\n",
    "ax = sns.boxplot(data=data_ds_de2022,\n",
    "                x='salary_in_usd',\n",
    "                y='job_title')\n",
    "ax.set(xlabel='Зарплата в долларах', ylabel='')\n",
    "plt.title('Распределение зарплат в зависимости от специальности в 2022 году')\n",
    "\n",
    "plt.show()"
   ]
  },
  {
   "cell_type": "markdown",
   "id": "34e98a02",
   "metadata": {},
   "source": [
    "По графику видно, медианная зарплата Data Scientist выше зарплаты Data Engineer в 2022 году. Чтобы определить, являются ли эти различия статистически значимыми, проведём статистические тесты."
   ]
  },
  {
   "cell_type": "markdown",
   "id": "e1d36c56",
   "metadata": {},
   "source": [
    "- HO: зарплаты Data Scientist меньше либо равны зарплатам Data Engineer в 2022 году\n",
    "- H1: зарплаты Data Scientist выше зарплат Data Engineer в 2022 году"
   ]
  },
  {
   "cell_type": "code",
   "execution_count": 47,
   "id": "c5e900e4",
   "metadata": {},
   "outputs": [
    {
     "name": "stdout",
     "output_type": "stream",
     "text": [
      "p-value 1 = 0.676\n",
      "p-value 2 = 0.021\n",
      "Распределение не нормально\n"
     ]
    }
   ],
   "source": [
    "data_ds2022 = data[(data['job_title']=='Data Scientist') & (data['work_year']==2022)]['salary_in_usd']\n",
    "data_de2022 = data[(data['job_title']=='Data Engineer') & (data['work_year']==2022)]['salary_in_usd']\n",
    "\n",
    "# Проводим тест Шапиро — Уилка на нормальность распределения\n",
    "_, p1 = stats.shapiro(data_ds2022)\n",
    "_, p2 = stats.shapiro(data_de2022)\n",
    "\n",
    "print('p-value 1 = %.3f' % (p1))\n",
    "print('p-value 2 = %.3f' % (p2))\n",
    "\n",
    "# Интерпретируем результат\n",
    "if p1 <= alpha or p2 <= alpha:\n",
    "    print('Распределение не нормально')\n",
    "else:\n",
    "    print('Распределение нормально')"
   ]
  },
  {
   "cell_type": "code",
   "execution_count": 48,
   "id": "2832facb",
   "metadata": {},
   "outputs": [
    {
     "name": "stdout",
     "output_type": "stream",
     "text": [
      "p-value = 0.128\n",
      "p-значение больше, чем заданный уровень значимости 0.05. У нас нет оснований отвергнуть нулевую гипотезу.\n"
     ]
    }
   ],
   "source": [
    "# Проводим тест Манна-Уитни, поскольку у нас 2 независимые группы, которые не распределены по нормальному закону\n",
    "_, p = stats.mannwhitneyu(data_ds2022, data_de2022, alternative='greater')\n",
    "\n",
    "print('p-value = {:.3f}'.format(p))\n",
    "\n",
    "# Интерпретируем результат\n",
    "if p <= alpha:\n",
    "    print('p-значение меньше, чем заданный уровень значимости {:.2f}. Отвергаем нулевую гипотезу.'.format(alpha))\n",
    "else:\n",
    "    print('p-значение больше, чем заданный уровень значимости {:.2f}. У нас нет оснований отвергнуть нулевую гипотезу.'.format(alpha))"
   ]
  },
  {
   "cell_type": "markdown",
   "id": "bac5c24f",
   "metadata": {},
   "source": [
    "Вывод: у нас нет оснований утверждать, что зарплаты Data Scientist и Data Engineer в 2022 году не равны, поскольку результаты теста оказались статистически незначимыми."
   ]
  },
  {
   "cell_type": "markdown",
   "id": "72880287",
   "metadata": {},
   "source": [
    "## Вопрос 3. Как соотносятся зарплаты специалистов Data Scientist в компаниях различных размеров?"
   ]
  },
  {
   "cell_type": "code",
   "execution_count": 49,
   "id": "9a1932ba",
   "metadata": {},
   "outputs": [
    {
     "data": {
      "text/html": [
       "<div>\n",
       "<style scoped>\n",
       "    .dataframe tbody tr th:only-of-type {\n",
       "        vertical-align: middle;\n",
       "    }\n",
       "\n",
       "    .dataframe tbody tr th {\n",
       "        vertical-align: top;\n",
       "    }\n",
       "\n",
       "    .dataframe thead th {\n",
       "        text-align: right;\n",
       "    }\n",
       "</style>\n",
       "<table border=\"1\" class=\"dataframe\">\n",
       "  <thead>\n",
       "    <tr style=\"text-align: right;\">\n",
       "      <th></th>\n",
       "      <th>count</th>\n",
       "      <th>mean</th>\n",
       "      <th>std</th>\n",
       "      <th>min</th>\n",
       "      <th>25%</th>\n",
       "      <th>50%</th>\n",
       "      <th>75%</th>\n",
       "      <th>max</th>\n",
       "    </tr>\n",
       "    <tr>\n",
       "      <th>company_size</th>\n",
       "      <th></th>\n",
       "      <th></th>\n",
       "      <th></th>\n",
       "      <th></th>\n",
       "      <th></th>\n",
       "      <th></th>\n",
       "      <th></th>\n",
       "      <th></th>\n",
       "    </tr>\n",
       "  </thead>\n",
       "  <tbody>\n",
       "    <tr>\n",
       "      <th>L</th>\n",
       "      <td>186.0</td>\n",
       "      <td>106561.0</td>\n",
       "      <td>61724.0</td>\n",
       "      <td>5882.0</td>\n",
       "      <td>58467.0</td>\n",
       "      <td>95389.0</td>\n",
       "      <td>150000.0</td>\n",
       "      <td>276000.0</td>\n",
       "    </tr>\n",
       "    <tr>\n",
       "      <th>M</th>\n",
       "      <td>286.0</td>\n",
       "      <td>113679.0</td>\n",
       "      <td>55774.0</td>\n",
       "      <td>5409.0</td>\n",
       "      <td>71835.0</td>\n",
       "      <td>109640.0</td>\n",
       "      <td>150056.0</td>\n",
       "      <td>266400.0</td>\n",
       "    </tr>\n",
       "    <tr>\n",
       "      <th>S</th>\n",
       "      <td>80.0</td>\n",
       "      <td>74583.0</td>\n",
       "      <td>51439.0</td>\n",
       "      <td>5679.0</td>\n",
       "      <td>42070.0</td>\n",
       "      <td>65511.0</td>\n",
       "      <td>100000.0</td>\n",
       "      <td>260000.0</td>\n",
       "    </tr>\n",
       "  </tbody>\n",
       "</table>\n",
       "</div>"
      ],
      "text/plain": [
       "              count      mean      std     min      25%       50%       75%  \\\n",
       "company_size                                                                  \n",
       "L             186.0  106561.0  61724.0  5882.0  58467.0   95389.0  150000.0   \n",
       "M             286.0  113679.0  55774.0  5409.0  71835.0  109640.0  150056.0   \n",
       "S              80.0   74583.0  51439.0  5679.0  42070.0   65511.0  100000.0   \n",
       "\n",
       "                   max  \n",
       "company_size            \n",
       "L             276000.0  \n",
       "M             266400.0  \n",
       "S             260000.0  "
      ]
     },
     "execution_count": 49,
     "metadata": {},
     "output_type": "execute_result"
    }
   ],
   "source": [
    "# Сперва рассмотрим всех специалистов\n",
    "data.groupby('company_size')['salary_in_usd'].describe().round()"
   ]
  },
  {
   "cell_type": "code",
   "execution_count": 50,
   "id": "8020b7a9",
   "metadata": {},
   "outputs": [
    {
     "data": {
      "image/png": "[encoded data removed]",
      "text/plain": [
       "<Figure size 1080x504 with 1 Axes>"
      ]
     },
     "metadata": {
      "needs_background": "light"
     },
     "output_type": "display_data"
    }
   ],
   "source": [
    "fig = plt.figure(figsize=(15, 7))\n",
    "ax = sns.boxplot(data=data,\n",
    "                x='salary_in_usd',\n",
    "                y='company_size')\n",
    "ax.set(xlabel='Зарплата в долларах', ylabel='Размер компании')\n",
    "plt.title('Распределение зарплат всех специалистов в зависимости от размера компании')\n",
    "\n",
    "plt.show()"
   ]
  },
  {
   "cell_type": "markdown",
   "id": "1074d93b",
   "metadata": {},
   "source": [
    "По графику видно, что самая высокая медианная зарплата в средних компаниях, на втором месте крупные компании, на третьем - небольшие. Чтобы определить, являются ли эти различия статистически значимыми, проведём статистические тесты."
   ]
  },
  {
   "cell_type": "markdown",
   "id": "1ed2dbb9",
   "metadata": {},
   "source": [
    "- H0: Зарплаты всех специалистов в средних компаниях ниже или равны зарплатам в небольших\n",
    "- H1: Зарплаты всех специалистов в средних компаниях выше, чем в небольших"
   ]
  },
  {
   "cell_type": "code",
   "execution_count": 51,
   "id": "b7b3300a",
   "metadata": {},
   "outputs": [],
   "source": [
    "# Осуществляем перевод категориального признака 'company_size' в количественный для проведения дальнейших тестов\n",
    "data_csize = data.copy()\n",
    "data_csize['company_size'] = data_csize['company_size'].replace(['S', 'M', 'L'], [1, 2, 3])"
   ]
  },
  {
   "cell_type": "code",
   "execution_count": 52,
   "id": "77c48da9",
   "metadata": {},
   "outputs": [
    {
     "name": "stdout",
     "output_type": "stream",
     "text": [
      "p-value 1 = 0.000\n",
      "p-value 2 = 0.012\n",
      "p-value 3 = 0.000\n",
      "Распределение не нормально\n"
     ]
    }
   ],
   "source": [
    "data_dss = data_csize[data_csize['company_size']==1]['salary_in_usd']\n",
    "data_dsm = data_csize[data_csize['company_size']==2]['salary_in_usd']\n",
    "data_dsl = data_csize[data_csize['company_size']==3]['salary_in_usd']\n",
    "\n",
    "# Проводим тест Шапиро — Уилка на нормальность распределения\n",
    "_, p1 = stats.shapiro(data_dss)\n",
    "_, p2 = stats.shapiro(data_dsm)\n",
    "_, p3 = stats.shapiro(data_dsl)\n",
    "\n",
    "print('p-value 1 = %.3f' % (p1))\n",
    "print('p-value 2 = %.3f' % (p2))\n",
    "print('p-value 3 = %.3f' % (p3))\n",
    "\n",
    "# Интерпретируем результат\n",
    "if p1 <= alpha or p2 <= alpha or p3 <= alpha:\n",
    "    print('Распределение не нормально')\n",
    "else:\n",
    "    print('Распределение нормально')"
   ]
  },
  {
   "cell_type": "code",
   "execution_count": 53,
   "id": "18773d1d",
   "metadata": {},
   "outputs": [
    {
     "name": "stdout",
     "output_type": "stream",
     "text": [
      "p-value = 0.000\n",
      "p-значение меньше, чем заданный уровень значимости 0.05. Отвергаем нулевую гипотезу.\n"
     ]
    }
   ],
   "source": [
    "# Проводим тест Манна-Уитни, поскольку у нас 2 независимые группы, которые не распределены по нормальному закону\n",
    "_, p = stats.mannwhitneyu(data_dsm, data_dss, alternative='greater')\n",
    "\n",
    "print('p-value = {:.3f}'.format(p))\n",
    "\n",
    "# Интерпретируем результат\n",
    "if p <= alpha:\n",
    "    print('p-значение меньше, чем заданный уровень значимости {:.2f}. Отвергаем нулевую гипотезу.'.format(alpha))\n",
    "else:\n",
    "    print('p-значение больше, чем заданный уровень значимости {:.2f}. У нас нет оснований отвергнуть нулевую гипотезу.'.format(alpha))"
   ]
  },
  {
   "cell_type": "markdown",
   "id": "42fb157c",
   "metadata": {},
   "source": [
    "- H0: Зарплаты всех специалистов в средних компаниях ниже или равны зарплатам в крупных\n",
    "- H1: Зарплаты всех специалистов в средних компаниях выше, чем в крупных"
   ]
  },
  {
   "cell_type": "code",
   "execution_count": 54,
   "id": "e56a8169",
   "metadata": {},
   "outputs": [
    {
     "name": "stdout",
     "output_type": "stream",
     "text": [
      "p-value = 0.041\n",
      "p-значение меньше, чем заданный уровень значимости 0.05. Отвергаем нулевую гипотезу.\n"
     ]
    }
   ],
   "source": [
    "# Проводим тест Манна-Уитни, поскольку у нас 2 независимые группы, которые не распределены по нормальному закону\n",
    "_, p = stats.mannwhitneyu(data_dsm, data_dsl, alternative='greater')\n",
    "\n",
    "print('p-value = {:.3f}'.format(p))\n",
    "\n",
    "# Интерпретируем результат\n",
    "if p <= alpha:\n",
    "    print('p-значение меньше, чем заданный уровень значимости {:.2f}. Отвергаем нулевую гипотезу.'.format(alpha))\n",
    "else:\n",
    "    print('p-значение больше, чем заданный уровень значимости {:.2f}. У нас нет оснований отвергнуть нулевую гипотезу.'.format(alpha))"
   ]
  },
  {
   "cell_type": "markdown",
   "id": "481866d2",
   "metadata": {},
   "source": [
    "- H0: Зарплаты всех специалистов в крупных компаниях ниже или равны зарплатам в небольших\n",
    "- H1: Зарплаты всех специалистов в крупных компаниях выше, чем в небольших"
   ]
  },
  {
   "cell_type": "code",
   "execution_count": 55,
   "id": "3ad49615",
   "metadata": {},
   "outputs": [
    {
     "name": "stdout",
     "output_type": "stream",
     "text": [
      "p-value = 0.000\n",
      "p-значение меньше, чем заданный уровень значимости 0.05. Отвергаем нулевую гипотезу.\n"
     ]
    }
   ],
   "source": [
    "# Проводим тест Манна-Уитни, поскольку у нас 2 независимые группы, которые не распределены по нормальному закону\n",
    "_, p = stats.mannwhitneyu(data_dsl, data_dss, alternative='greater')\n",
    "\n",
    "print('p-value = {:.3f}'.format(p))\n",
    "\n",
    "# Интерпретируем результат\n",
    "if p <= alpha:\n",
    "    print('p-значение меньше, чем заданный уровень значимости {:.2f}. Отвергаем нулевую гипотезу.'.format(alpha))\n",
    "else:\n",
    "    print('p-значение больше, чем заданный уровень значимости {:.2f}. У нас нет оснований отвергнуть нулевую гипотезу.'.format(alpha))"
   ]
  },
  {
   "cell_type": "markdown",
   "id": "0c455149",
   "metadata": {},
   "source": [
    "Вывод; у нас есть основания утверждать, что зарплаты всех специалистов в средних компаниях выше, чем в крупных и небольших, а зарплаты в крупных компаниях выше, чем зарплаты в небольших, поскольку результаты тестов оказались статистически значимыми."
   ]
  },
  {
   "cell_type": "code",
   "execution_count": 56,
   "id": "94c5cab5",
   "metadata": {},
   "outputs": [
    {
     "data": {
      "text/html": [
       "<div>\n",
       "<style scoped>\n",
       "    .dataframe tbody tr th:only-of-type {\n",
       "        vertical-align: middle;\n",
       "    }\n",
       "\n",
       "    .dataframe tbody tr th {\n",
       "        vertical-align: top;\n",
       "    }\n",
       "\n",
       "    .dataframe thead th {\n",
       "        text-align: right;\n",
       "    }\n",
       "</style>\n",
       "<table border=\"1\" class=\"dataframe\">\n",
       "  <thead>\n",
       "    <tr style=\"text-align: right;\">\n",
       "      <th></th>\n",
       "      <th>count</th>\n",
       "      <th>mean</th>\n",
       "      <th>std</th>\n",
       "      <th>min</th>\n",
       "      <th>25%</th>\n",
       "      <th>50%</th>\n",
       "      <th>75%</th>\n",
       "      <th>max</th>\n",
       "    </tr>\n",
       "    <tr>\n",
       "      <th>company_size</th>\n",
       "      <th></th>\n",
       "      <th></th>\n",
       "      <th></th>\n",
       "      <th></th>\n",
       "      <th></th>\n",
       "      <th></th>\n",
       "      <th></th>\n",
       "      <th></th>\n",
       "    </tr>\n",
       "  </thead>\n",
       "  <tbody>\n",
       "    <tr>\n",
       "      <th>L</th>\n",
       "      <td>42.0</td>\n",
       "      <td>95380.0</td>\n",
       "      <td>55757.0</td>\n",
       "      <td>13400.0</td>\n",
       "      <td>42861.0</td>\n",
       "      <td>89694.0</td>\n",
       "      <td>133750.0</td>\n",
       "      <td>215300.0</td>\n",
       "    </tr>\n",
       "    <tr>\n",
       "      <th>M</th>\n",
       "      <td>65.0</td>\n",
       "      <td>121866.0</td>\n",
       "      <td>54872.0</td>\n",
       "      <td>18442.0</td>\n",
       "      <td>80000.0</td>\n",
       "      <td>120000.0</td>\n",
       "      <td>160000.0</td>\n",
       "      <td>260000.0</td>\n",
       "    </tr>\n",
       "    <tr>\n",
       "      <th>S</th>\n",
       "      <td>20.0</td>\n",
       "      <td>54379.0</td>\n",
       "      <td>32068.0</td>\n",
       "      <td>5679.0</td>\n",
       "      <td>24566.0</td>\n",
       "      <td>50294.0</td>\n",
       "      <td>83810.0</td>\n",
       "      <td>105000.0</td>\n",
       "    </tr>\n",
       "  </tbody>\n",
       "</table>\n",
       "</div>"
      ],
      "text/plain": [
       "              count      mean      std      min      25%       50%       75%  \\\n",
       "company_size                                                                   \n",
       "L              42.0   95380.0  55757.0  13400.0  42861.0   89694.0  133750.0   \n",
       "M              65.0  121866.0  54872.0  18442.0  80000.0  120000.0  160000.0   \n",
       "S              20.0   54379.0  32068.0   5679.0  24566.0   50294.0   83810.0   \n",
       "\n",
       "                   max  \n",
       "company_size            \n",
       "L             215300.0  \n",
       "M             260000.0  \n",
       "S             105000.0  "
      ]
     },
     "execution_count": 56,
     "metadata": {},
     "output_type": "execute_result"
    }
   ],
   "source": [
    "# Теперь рассмотрим исключительно специалистов Data Scientist\n",
    "data[data['job_title']=='Data Scientist'].groupby('company_size')['salary_in_usd'].describe().round()"
   ]
  },
  {
   "cell_type": "code",
   "execution_count": 57,
   "id": "f12f84ce",
   "metadata": {},
   "outputs": [
    {
     "data": {
      "image/png": "[encoded data removed]",
      "text/plain": [
       "<Figure size 1080x504 with 1 Axes>"
      ]
     },
     "metadata": {
      "needs_background": "light"
     },
     "output_type": "display_data"
    }
   ],
   "source": [
    "fig = plt.figure(figsize=(15, 7))\n",
    "ax = sns.boxplot(data=data[data['job_title']=='Data Scientist'],\n",
    "                x='salary_in_usd',\n",
    "                y='company_size')\n",
    "ax.set(xlabel='Зарплата в долларах', ylabel='Размер компании')\n",
    "plt.title('Распределение зарплат специалистов Data Scientist в зависимости от размера компании')\n",
    "\n",
    "plt.show()"
   ]
  },
  {
   "cell_type": "markdown",
   "id": "6fcb9867",
   "metadata": {},
   "source": [
    "По графику видно, что самая высокая медианная зарплата в средних компаниях, на втором месте крупные компании, на третьем - небольшие. Чтобы определить, являются ли эти различия статистически значимыми, проведём статистические тесты."
   ]
  },
  {
   "cell_type": "markdown",
   "id": "9f7b0583",
   "metadata": {},
   "source": [
    "- H0: Зарплаты специалистов Data Scientist в средних компаниях ниже или равны зарплатам в небольших\n",
    "- H1: Зарплаты специалистов Data Scientist в средних компаниях выше, чем в небольших"
   ]
  },
  {
   "cell_type": "code",
   "execution_count": 58,
   "id": "d44829ed",
   "metadata": {},
   "outputs": [
    {
     "name": "stdout",
     "output_type": "stream",
     "text": [
      "p-value 1 = 0.242\n",
      "p-value 2 = 0.666\n",
      "p-value 3 = 0.030\n",
      "Распределение не нормально\n"
     ]
    }
   ],
   "source": [
    "data_dss = data_csize[(data_csize['job_title']=='Data Scientist') & (data_csize['company_size']==1)]['salary_in_usd']\n",
    "data_dsm = data_csize[(data_csize['job_title']=='Data Scientist') & (data_csize['company_size']==2)]['salary_in_usd']\n",
    "data_dsl = data_csize[(data_csize['job_title']=='Data Scientist') & (data_csize['company_size']==3)]['salary_in_usd']\n",
    "\n",
    "# Проводим тест Шапиро — Уилка на нормальность распределения\n",
    "_, p1 = stats.shapiro(data_dss)\n",
    "_, p2 = stats.shapiro(data_dsm)\n",
    "_, p3 = stats.shapiro(data_dsl)\n",
    "\n",
    "print('p-value 1 = %.3f' % (p1))\n",
    "print('p-value 2 = %.3f' % (p2))\n",
    "print('p-value 3 = %.3f' % (p3))\n",
    "\n",
    "# Интерпретируем результат\n",
    "if p1 <= alpha or p2 <= alpha or p3 <= alpha:\n",
    "    print('Распределение не нормально')\n",
    "else:\n",
    "    print('Распределение нормально')"
   ]
  },
  {
   "cell_type": "code",
   "execution_count": 59,
   "id": "a0984680",
   "metadata": {},
   "outputs": [
    {
     "name": "stdout",
     "output_type": "stream",
     "text": [
      "p-value = 0.000\n",
      "p-значение меньше, чем заданный уровень значимости 0.05. Отвергаем нулевую гипотезу.\n"
     ]
    }
   ],
   "source": [
    "# Проводим тест Манна-Уитни, поскольку у нас 2 независимые группы, которые не распределены по нормальному закону\n",
    "_, p = stats.mannwhitneyu(data_dsm, data_dss, alternative='greater')\n",
    "\n",
    "print('p-value = {:.3f}'.format(p))\n",
    "\n",
    "# Интерпретируем результат\n",
    "if p <= alpha:\n",
    "    print('p-значение меньше, чем заданный уровень значимости {:.2f}. Отвергаем нулевую гипотезу.'.format(alpha))\n",
    "else:\n",
    "    print('p-значение больше, чем заданный уровень значимости {:.2f}. У нас нет оснований отвергнуть нулевую гипотезу.'.format(alpha))"
   ]
  },
  {
   "cell_type": "markdown",
   "id": "490fa568",
   "metadata": {},
   "source": [
    "- H0: Зарплаты специалистов Data Scientist в средних компаниях ниже или равны зарплатам в крупных\n",
    "- H1: Зарплаты специалистов Data Scientist в средних компаниях выше, чем в крупных"
   ]
  },
  {
   "cell_type": "code",
   "execution_count": 60,
   "id": "bc1425f7",
   "metadata": {},
   "outputs": [
    {
     "name": "stdout",
     "output_type": "stream",
     "text": [
      "p-value = 0.009\n",
      "p-значение меньше, чем заданный уровень значимости 0.05. Отвергаем нулевую гипотезу.\n"
     ]
    }
   ],
   "source": [
    "# Проводим тест Манна-Уитни, поскольку у нас 2 независимые группы, которые не распределены по нормальному закону\n",
    "_, p = stats.mannwhitneyu(data_dsm, data_dsl, alternative='greater')\n",
    "\n",
    "print('p-value = {:.3f}'.format(p))\n",
    "\n",
    "# Интерпретируем результат\n",
    "if p <= alpha:\n",
    "    print('p-значение меньше, чем заданный уровень значимости {:.2f}. Отвергаем нулевую гипотезу.'.format(alpha))\n",
    "else:\n",
    "    print('p-значение больше, чем заданный уровень значимости {:.2f}. У нас нет оснований отвергнуть нулевую гипотезу.'.format(alpha))"
   ]
  },
  {
   "cell_type": "markdown",
   "id": "a97682f6",
   "metadata": {},
   "source": [
    "- H0: Зарплаты специалистов Data Scientist в крупных компаниях ниже или равны зарплатам в небольших\n",
    "- H1: Зарплаты специалистов Data Scientist в крупных компаниях выше, чем в небольших"
   ]
  },
  {
   "cell_type": "code",
   "execution_count": 61,
   "id": "fe6d67f7",
   "metadata": {},
   "outputs": [
    {
     "name": "stdout",
     "output_type": "stream",
     "text": [
      "p-value = 0.004\n",
      "p-значение меньше, чем заданный уровень значимости 0.05. Отвергаем нулевую гипотезу.\n"
     ]
    }
   ],
   "source": [
    "# Проводим тест Манна-Уитни, поскольку у нас 2 независимые группы, которые не распределены по нормальному закону\n",
    "_, p = stats.mannwhitneyu(data_dsl, data_dss, alternative='greater')\n",
    "\n",
    "print('p-value = {:.3f}'.format(p))\n",
    "\n",
    "# Интерпретируем результат\n",
    "if p <= alpha:\n",
    "    print('p-значение меньше, чем заданный уровень значимости {:.2f}. Отвергаем нулевую гипотезу.'.format(alpha))\n",
    "else:\n",
    "    print('p-значение больше, чем заданный уровень значимости {:.2f}. У нас нет оснований отвергнуть нулевую гипотезу.'.format(alpha))"
   ]
  },
  {
   "cell_type": "markdown",
   "id": "f0630a2b",
   "metadata": {},
   "source": [
    "Вывод; у нас есть основания утверждать, что зарплаты специалистов Data Scientist в средних компаниях выше, чем в крупных и небольших, а зарплаты в крупных компаниях выше, чем зарплаты в небольших, поскольку результаты тестов оказались статистически значимыми."
   ]
  },
  {
   "cell_type": "markdown",
   "id": "1e44cb3e",
   "metadata": {},
   "source": [
    "## Ворос 4. Есть ли связь между наличием должностей Data Scientist и Data Engineer и размером компании?"
   ]
  },
  {
   "cell_type": "code",
   "execution_count": 62,
   "id": "0b89f67e",
   "metadata": {},
   "outputs": [
    {
     "data": {
      "text/html": [
       "<div>\n",
       "<style scoped>\n",
       "    .dataframe tbody tr th:only-of-type {\n",
       "        vertical-align: middle;\n",
       "    }\n",
       "\n",
       "    .dataframe tbody tr th {\n",
       "        vertical-align: top;\n",
       "    }\n",
       "\n",
       "    .dataframe thead th {\n",
       "        text-align: right;\n",
       "    }\n",
       "</style>\n",
       "<table border=\"1\" class=\"dataframe\">\n",
       "  <thead>\n",
       "    <tr style=\"text-align: right;\">\n",
       "      <th>company_size</th>\n",
       "      <th>L</th>\n",
       "      <th>M</th>\n",
       "      <th>S</th>\n",
       "    </tr>\n",
       "    <tr>\n",
       "      <th>job_title</th>\n",
       "      <th></th>\n",
       "      <th></th>\n",
       "      <th></th>\n",
       "    </tr>\n",
       "  </thead>\n",
       "  <tbody>\n",
       "    <tr>\n",
       "      <th>Data Engineer</th>\n",
       "      <td>34</td>\n",
       "      <td>79</td>\n",
       "      <td>6</td>\n",
       "    </tr>\n",
       "    <tr>\n",
       "      <th>Data Scientist</th>\n",
       "      <td>42</td>\n",
       "      <td>65</td>\n",
       "      <td>20</td>\n",
       "    </tr>\n",
       "  </tbody>\n",
       "</table>\n",
       "</div>"
      ],
      "text/plain": [
       "company_size     L   M   S\n",
       "job_title                 \n",
       "Data Engineer   34  79   6\n",
       "Data Scientist  42  65  20"
      ]
     },
     "execution_count": 62,
     "metadata": {},
     "output_type": "execute_result"
    }
   ],
   "source": [
    "# Формируем сводную таблицу по количеству должностей Data Scientist и Data Engineer в компаниях разного размера \n",
    "table = data[(data['job_title']=='Data Scientist') | \n",
    "                (data['job_title']=='Data Engineer')].groupby(['job_title', 'company_size']).size().unstack()\n",
    "table"
   ]
  },
  {
   "cell_type": "code",
   "execution_count": 63,
   "id": "4ccda09a",
   "metadata": {},
   "outputs": [
    {
     "data": {
      "image/png": "[encoded data removed]",
      "text/plain": [
       "<Figure size 432x288 with 2 Axes>"
      ]
     },
     "metadata": {
      "needs_background": "light"
     },
     "output_type": "display_data"
    }
   ],
   "source": [
    "ax = sns.heatmap(table, annot=True)\n",
    "ax.set(xlabel='Размер компании', ylabel='')\n",
    "plt.title('Таблица сопряжённости')\n",
    "plt.show()"
   ]
  },
  {
   "cell_type": "markdown",
   "id": "766e7d97",
   "metadata": {},
   "source": [
    "- HO: Связи между наличием должностей Data Scientist и Data Engineer и размером компании нет\n",
    "- H1: Связь между наличием должностей Data Scientist и Data Engineer и размером компании есть"
   ]
  },
  {
   "cell_type": "code",
   "execution_count": 64,
   "id": "6a781568",
   "metadata": {},
   "outputs": [
    {
     "name": "stdout",
     "output_type": "stream",
     "text": [
      "p-value = 0.009\n",
      "p-значение меньше, чем заданный уровень значимости 0.05. Отвергаем нулевую гипотезу.\n"
     ]
    }
   ],
   "source": [
    "# Проводим тест хи - квадрат\n",
    "_, p, _, _ = stats.chi2_contingency(table)\n",
    "\n",
    "print('p-value = %.3f' % (p))\n",
    "\n",
    "# Интерпретируем результат\n",
    "if p <= alpha:\n",
    "    print('p-значение меньше, чем заданный уровень значимости {:.2f}. Отвергаем нулевую гипотезу.'.format(alpha))\n",
    "else:\n",
    "    print('p-значение больше, чем заданный уровень значимости {:.2f}. У нас нет оснований отвергнуть нулевую гипотезу.'.format(alpha))"
   ]
  },
  {
   "cell_type": "markdown",
   "id": "4ce68efb",
   "metadata": {},
   "source": [
    "Вывод: у нас есть основания утверждать, что связь между наличием должностей Data Scientist и Data Engineer и размером компании есть, поскольку результаты теста оказались статистически значимыми."
   ]
  },
  {
   "cell_type": "code",
   "execution_count": 65,
   "id": "6cc661ed",
   "metadata": {},
   "outputs": [
    {
     "name": "stdout",
     "output_type": "stream",
     "text": [
      "p-value = 1.000\n",
      "p-значение больше, чем заданный уровень значимости 0.05. У нас нет оснований отвергнуть нулевую гипотезу.\n"
     ]
    }
   ],
   "source": [
    "# Проводим тест Мак - Немара\n",
    "res = mcnemar(table)\n",
    "\n",
    "# Извлекаем значение p-value из результатов теста\n",
    "p = res.pvalue\n",
    "\n",
    "print('p-value = %.3f' % (p))\n",
    "\n",
    "# Интерпретируем результат\n",
    "if p <= alpha:\n",
    "    print('p-значение меньше, чем заданный уровень значимости {:.2f}. Отвергаем нулевую гипотезу.'.format(alpha))\n",
    "else:\n",
    "    print('p-значение больше, чем заданный уровень значимости {:.2f}. У нас нет оснований отвергнуть нулевую гипотезу.'.format(alpha))"
   ]
  },
  {
   "cell_type": "markdown",
   "id": "dc7d385e",
   "metadata": {},
   "source": [
    "Вывод: у нас нет оснований утверждать, что связь между наличием должностей Data Scientist и Data Engineer и размером компании есть, поскольку результаты теста оказались статистически незначимыми."
   ]
  },
  {
   "cell_type": "markdown",
   "id": "467e55aa",
   "metadata": {},
   "source": [
    "## Финальный вывод"
   ]
  },
  {
   "cell_type": "markdown",
   "id": "3c4369e6",
   "metadata": {},
   "source": [
    "По итогам исследования данных HR-агентства удалось выяснить, что большинство факторов датасета влияют на зарплату специалиста Data Scientist, да и вцелом на зарплату всех специалистов. Это и год, в котором была выплачена зарплата; и опыт работы на должности; и роль, в которой соискатель работал в течение года; и валюта выплачиваемой заработной платы; и основная страна проживания сотрудника; и общий объём работы, выполняемой удалённо; и страна главного офиса работодателя или филиала; и среднее количество людей, работавших в компании в течение года. Также удалось выяснить, что наблюдается статистически незначимый ежегодный рост медианной зарплаты у специалистов Data Scientist, в 2021 году статистически незначимый и незначительный, но статистически значимый и значительный в 2022 году; что медианная зарплата Data Scientist статистически незначимо незначительно выше Data Engineer в 2022 году; что зарплаты специалистов Data Scientist в средних компаниях выше, чем в крупных и небольших, а в крупных выше, чем в небольших, а также многое-многое другое!"
   ]
  }
 ],
 "metadata": {
  "kernelspec": {
   "display_name": "Python 3 (ipykernel)",
   "language": "python",
   "name": "python3"
  },
  "language_info": {
   "codemirror_mode": {
    "name": "ipython",
    "version": 3
   },
   "file_extension": ".py",
   "mimetype": "text/x-python",
   "name": "python",
   "nbconvert_exporter": "python",
   "pygments_lexer": "ipython3",
   "version": "3.9.7"
  }
 },
 "nbformat": 4,
 "nbformat_minor": 5
}
