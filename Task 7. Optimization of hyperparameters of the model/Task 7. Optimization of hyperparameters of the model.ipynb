{
 "cells": [
  {
   "cell_type": "code",
   "execution_count": 1,
   "id": "c06eed8c",
   "metadata": {},
   "outputs": [],
   "source": [
    "import optuna\n",
    "import hyperopt\n",
    "from hyperopt import hp, fmin, tpe, Trials\n",
    "import numpy as np\n",
    "import pandas as pd\n",
    "from sklearn import metrics\n",
    "from sklearn import ensemble\n",
    "from sklearn.linear_model import LogisticRegression\n",
    "from sklearn.model_selection import train_test_split, GridSearchCV, RandomizedSearchCV"
   ]
  },
  {
   "cell_type": "code",
   "execution_count": 2,
   "id": "3d0a0af6",
   "metadata": {},
   "outputs": [
    {
     "data": {
      "text/html": [
       "<div>\n",
       "<style scoped>\n",
       "    .dataframe tbody tr th:only-of-type {\n",
       "        vertical-align: middle;\n",
       "    }\n",
       "\n",
       "    .dataframe tbody tr th {\n",
       "        vertical-align: top;\n",
       "    }\n",
       "\n",
       "    .dataframe thead th {\n",
       "        text-align: right;\n",
       "    }\n",
       "</style>\n",
       "<table border=\"1\" class=\"dataframe\">\n",
       "  <thead>\n",
       "    <tr style=\"text-align: right;\">\n",
       "      <th></th>\n",
       "      <th>Activity</th>\n",
       "      <th>D1</th>\n",
       "      <th>D2</th>\n",
       "      <th>D3</th>\n",
       "      <th>D4</th>\n",
       "      <th>D5</th>\n",
       "      <th>D6</th>\n",
       "      <th>D7</th>\n",
       "      <th>D8</th>\n",
       "      <th>D9</th>\n",
       "      <th>...</th>\n",
       "      <th>D1767</th>\n",
       "      <th>D1768</th>\n",
       "      <th>D1769</th>\n",
       "      <th>D1770</th>\n",
       "      <th>D1771</th>\n",
       "      <th>D1772</th>\n",
       "      <th>D1773</th>\n",
       "      <th>D1774</th>\n",
       "      <th>D1775</th>\n",
       "      <th>D1776</th>\n",
       "    </tr>\n",
       "  </thead>\n",
       "  <tbody>\n",
       "    <tr>\n",
       "      <th>0</th>\n",
       "      <td>1</td>\n",
       "      <td>0.000000</td>\n",
       "      <td>0.497009</td>\n",
       "      <td>0.10</td>\n",
       "      <td>0.0</td>\n",
       "      <td>0.132956</td>\n",
       "      <td>0.678031</td>\n",
       "      <td>0.273166</td>\n",
       "      <td>0.585445</td>\n",
       "      <td>0.743663</td>\n",
       "      <td>...</td>\n",
       "      <td>0</td>\n",
       "      <td>0</td>\n",
       "      <td>0</td>\n",
       "      <td>0</td>\n",
       "      <td>0</td>\n",
       "      <td>0</td>\n",
       "      <td>0</td>\n",
       "      <td>0</td>\n",
       "      <td>0</td>\n",
       "      <td>0</td>\n",
       "    </tr>\n",
       "    <tr>\n",
       "      <th>1</th>\n",
       "      <td>1</td>\n",
       "      <td>0.366667</td>\n",
       "      <td>0.606291</td>\n",
       "      <td>0.05</td>\n",
       "      <td>0.0</td>\n",
       "      <td>0.111209</td>\n",
       "      <td>0.803455</td>\n",
       "      <td>0.106105</td>\n",
       "      <td>0.411754</td>\n",
       "      <td>0.836582</td>\n",
       "      <td>...</td>\n",
       "      <td>1</td>\n",
       "      <td>1</td>\n",
       "      <td>1</td>\n",
       "      <td>1</td>\n",
       "      <td>0</td>\n",
       "      <td>1</td>\n",
       "      <td>0</td>\n",
       "      <td>0</td>\n",
       "      <td>1</td>\n",
       "      <td>0</td>\n",
       "    </tr>\n",
       "    <tr>\n",
       "      <th>2</th>\n",
       "      <td>1</td>\n",
       "      <td>0.033300</td>\n",
       "      <td>0.480124</td>\n",
       "      <td>0.00</td>\n",
       "      <td>0.0</td>\n",
       "      <td>0.209791</td>\n",
       "      <td>0.610350</td>\n",
       "      <td>0.356453</td>\n",
       "      <td>0.517720</td>\n",
       "      <td>0.679051</td>\n",
       "      <td>...</td>\n",
       "      <td>0</td>\n",
       "      <td>0</td>\n",
       "      <td>0</td>\n",
       "      <td>0</td>\n",
       "      <td>0</td>\n",
       "      <td>0</td>\n",
       "      <td>0</td>\n",
       "      <td>0</td>\n",
       "      <td>0</td>\n",
       "      <td>0</td>\n",
       "    </tr>\n",
       "    <tr>\n",
       "      <th>3</th>\n",
       "      <td>1</td>\n",
       "      <td>0.000000</td>\n",
       "      <td>0.538825</td>\n",
       "      <td>0.00</td>\n",
       "      <td>0.5</td>\n",
       "      <td>0.196344</td>\n",
       "      <td>0.724230</td>\n",
       "      <td>0.235606</td>\n",
       "      <td>0.288764</td>\n",
       "      <td>0.805110</td>\n",
       "      <td>...</td>\n",
       "      <td>0</td>\n",
       "      <td>0</td>\n",
       "      <td>0</td>\n",
       "      <td>0</td>\n",
       "      <td>0</td>\n",
       "      <td>0</td>\n",
       "      <td>0</td>\n",
       "      <td>0</td>\n",
       "      <td>0</td>\n",
       "      <td>0</td>\n",
       "    </tr>\n",
       "    <tr>\n",
       "      <th>4</th>\n",
       "      <td>0</td>\n",
       "      <td>0.100000</td>\n",
       "      <td>0.517794</td>\n",
       "      <td>0.00</td>\n",
       "      <td>0.0</td>\n",
       "      <td>0.494734</td>\n",
       "      <td>0.781422</td>\n",
       "      <td>0.154361</td>\n",
       "      <td>0.303809</td>\n",
       "      <td>0.812646</td>\n",
       "      <td>...</td>\n",
       "      <td>0</td>\n",
       "      <td>0</td>\n",
       "      <td>0</td>\n",
       "      <td>0</td>\n",
       "      <td>0</td>\n",
       "      <td>0</td>\n",
       "      <td>0</td>\n",
       "      <td>0</td>\n",
       "      <td>0</td>\n",
       "      <td>0</td>\n",
       "    </tr>\n",
       "  </tbody>\n",
       "</table>\n",
       "<p>5 rows × 1777 columns</p>\n",
       "</div>"
      ],
      "text/plain": [
       "   Activity        D1        D2    D3   D4        D5        D6        D7  \\\n",
       "0         1  0.000000  0.497009  0.10  0.0  0.132956  0.678031  0.273166   \n",
       "1         1  0.366667  0.606291  0.05  0.0  0.111209  0.803455  0.106105   \n",
       "2         1  0.033300  0.480124  0.00  0.0  0.209791  0.610350  0.356453   \n",
       "3         1  0.000000  0.538825  0.00  0.5  0.196344  0.724230  0.235606   \n",
       "4         0  0.100000  0.517794  0.00  0.0  0.494734  0.781422  0.154361   \n",
       "\n",
       "         D8        D9  ...  D1767  D1768  D1769  D1770  D1771  D1772  D1773  \\\n",
       "0  0.585445  0.743663  ...      0      0      0      0      0      0      0   \n",
       "1  0.411754  0.836582  ...      1      1      1      1      0      1      0   \n",
       "2  0.517720  0.679051  ...      0      0      0      0      0      0      0   \n",
       "3  0.288764  0.805110  ...      0      0      0      0      0      0      0   \n",
       "4  0.303809  0.812646  ...      0      0      0      0      0      0      0   \n",
       "\n",
       "   D1774  D1775  D1776  \n",
       "0      0      0      0  \n",
       "1      0      1      0  \n",
       "2      0      0      0  \n",
       "3      0      0      0  \n",
       "4      0      0      0  \n",
       "\n",
       "[5 rows x 1777 columns]"
      ]
     },
     "execution_count": 2,
     "metadata": {},
     "output_type": "execute_result"
    }
   ],
   "source": [
    "data = pd.read_csv('data/_train_sem09.csv')\n",
    "data.head()"
   ]
  },
  {
   "cell_type": "code",
   "execution_count": 3,
   "id": "46e60236",
   "metadata": {},
   "outputs": [],
   "source": [
    "x = data.drop('Activity', axis=1)\n",
    "y = data['Activity']"
   ]
  },
  {
   "cell_type": "code",
   "execution_count": 4,
   "id": "bf34712b",
   "metadata": {},
   "outputs": [],
   "source": [
    "x_train, x_test, y_train, y_test = train_test_split(x, y, test_size=0.25, stratify=y, random_state=42)"
   ]
  },
  {
   "cell_type": "code",
   "execution_count": 5,
   "id": "d7a853ee",
   "metadata": {},
   "outputs": [
    {
     "name": "stdout",
     "output_type": "stream",
     "text": [
      "0.88\n",
      "0.78\n"
     ]
    },
    {
     "name": "stderr",
     "output_type": "stream",
     "text": [
      "C:\\Anaconda\\lib\\site-packages\\sklearn\\linear_model\\_logistic.py:444: ConvergenceWarning: lbfgs failed to converge (status=1):\n",
      "STOP: TOTAL NO. of ITERATIONS REACHED LIMIT.\n",
      "\n",
      "Increase the number of iterations (max_iter) or scale the data as shown in:\n",
      "    https://scikit-learn.org/stable/modules/preprocessing.html\n",
      "Please also refer to the documentation for alternative solver options:\n",
      "    https://scikit-learn.org/stable/modules/linear_model.html#logistic-regression\n",
      "  n_iter_i = _check_optimize_result(\n"
     ]
    }
   ],
   "source": [
    "# Инициализируем модель логистической регрессии и считаем целевую метрику на тесте\n",
    "logistig_regression = LogisticRegression(max_iter=50, random_state=42)\n",
    "logistig_regression.fit(x_train, y_train)\n",
    "y_train_predict = logistig_regression.predict(x_train)\n",
    "y_test_predict = logistig_regression.predict(x_test)\n",
    "print(round(metrics.f1_score(y_train, y_train_predict), 2)) # считаем целевую метрику на трейне для отслеживания переобучения\n",
    "print(round(metrics.f1_score(y_test, y_test_predict), 2))"
   ]
  },
  {
   "cell_type": "code",
   "execution_count": 6,
   "id": "2833d3ec",
   "metadata": {},
   "outputs": [
    {
     "name": "stdout",
     "output_type": "stream",
     "text": [
      "0.87\n",
      "0.77\n"
     ]
    }
   ],
   "source": [
    "# Инициализируем модель случайного леса с рандомными гиперпараметрами и считаем целевую метрику на тесте\n",
    "random_forest = ensemble.RandomForestClassifier(n_estimators=50, max_depth=7, min_samples_leaf=5, random_state=42)\n",
    "random_forest.fit(x_train, y_train)\n",
    "y_train_predict = random_forest.predict(x_train)\n",
    "y_test_predict = random_forest.predict(x_test)\n",
    "print(round(metrics.f1_score(y_train, y_train_predict), 2)) # считаем целевую метрику на трейне для отслеживания переобучения\n",
    "print(round(metrics.f1_score(y_test, y_test_predict), 2))"
   ]
  },
  {
   "cell_type": "markdown",
   "id": "c9172ea8",
   "metadata": {},
   "source": [
    "По результатам целевых метрик на тесте двух моделей машинного обучения - логистической регрессии и случайного леса мы видим, что метрика довольно высока - 0.78 и 0.77 соответственно. Причём метрика случайного леса с нашими рандомными гиперпараметрами даже немного ниже метрики случайной регрессии, поэтому попробуем подобрать наиболее оптимальные гиперпараметры, чтобы улучшить нашу метрику."
   ]
  },
  {
   "cell_type": "code",
   "execution_count": 7,
   "id": "b82c3b1b",
   "metadata": {},
   "outputs": [],
   "source": [
    "# Инициализируем сетку параметров для логистической регрессии\n",
    "param_grid_lr = [\n",
    "              {'penalty': ['l2', 'none'] , # тип регуляризации\n",
    "              'solver': ['lbfgs', 'sag'], # алгоритм оптимизации\n",
    "               'C': [0.01, 0.1, 0.3, 0.5, 0.7, 0.9, 1]}, # уровень силы регуляризации\n",
    "              \n",
    "              {'penalty': ['l1', 'l2'] ,\n",
    "              'solver': ['liblinear', 'saga'],\n",
    "               'C': [0.01, 0.1, 0.3, 0.5, 0.7, 0.9, 1]}\n",
    "]"
   ]
  },
  {
   "cell_type": "code",
   "execution_count": 8,
   "id": "6424b387",
   "metadata": {},
   "outputs": [
    {
     "name": "stdout",
     "output_type": "stream",
     "text": [
      "0.84\n",
      "0.78\n",
      "Наилучшие значения гиперпараметров: {'C': 0.3, 'penalty': 'l1', 'solver': 'saga'}\n"
     ]
    },
    {
     "name": "stderr",
     "output_type": "stream",
     "text": [
      "C:\\Anaconda\\lib\\site-packages\\sklearn\\linear_model\\_sag.py:350: ConvergenceWarning: The max_iter was reached which means the coef_ did not converge\n",
      "  warnings.warn(\n"
     ]
    }
   ],
   "source": [
    "grid_search_lr = GridSearchCV(\n",
    "    estimator=LogisticRegression(max_iter=50, random_state=42),\n",
    "    param_grid=param_grid_lr,\n",
    "    cv=5,\n",
    "    n_jobs=-1)\n",
    "\n",
    "grid_search_lr.fit(x_train, y_train)\n",
    "y_train_predict = grid_search_lr.predict(x_train)\n",
    "y_test_predict = grid_search_lr.predict(x_test)\n",
    "print(round(metrics.f1_score(y_train, y_train_predict), 2)) # считаем целевую метрику на трейне для отслеживания переобучения\n",
    "print(round(metrics.f1_score(y_test, y_test_predict), 2))\n",
    "print(\"Наилучшие значения гиперпараметров: {}\".format(grid_search_lr.best_params_))"
   ]
  },
  {
   "cell_type": "code",
   "execution_count": 9,
   "id": "c1559a48",
   "metadata": {},
   "outputs": [],
   "source": [
    "# Инициализируем сетку параметров для рандомного леса\n",
    "param_grid_rf = {'n_estimators': list(range(10, 50, 5)),\n",
    "              'min_samples_leaf': [5],\n",
    "              'max_depth': list(np.linspace(20, 40, 5, dtype=int))\n",
    "              }"
   ]
  },
  {
   "cell_type": "code",
   "execution_count": 10,
   "id": "d8b87ec5",
   "metadata": {},
   "outputs": [
    {
     "name": "stdout",
     "output_type": "stream",
     "text": [
      "0.94\n",
      "0.78\n",
      "Наилучшие значения гиперпараметров: {'max_depth': 25, 'min_samples_leaf': 5, 'n_estimators': 45}\n"
     ]
    }
   ],
   "source": [
    "grid_search_rf = GridSearchCV(\n",
    "    estimator=ensemble.RandomForestClassifier(random_state=42),\n",
    "    param_grid=param_grid_rf,\n",
    "    cv=5,\n",
    "    n_jobs=-1)\n",
    "\n",
    "grid_search_rf.fit(x_train, y_train)\n",
    "y_train_predict = grid_search_rf.predict(x_train)\n",
    "y_test_predict = grid_search_rf.predict(x_test)\n",
    "print(round(metrics.f1_score(y_train, y_train_predict), 2)) # считаем целевую метрику на трейне для отслеживания переобучения\n",
    "print(round(metrics.f1_score(y_test, y_test_predict), 2))\n",
    "print(\"Наилучшие значения гиперпараметров: {}\".format(grid_search_rf.best_params_))"
   ]
  },
  {
   "cell_type": "markdown",
   "id": "8703261a",
   "metadata": {},
   "source": [
    "С использованием метода GridSearchCV и наших сеток параметров целевая метрика на тесте не улучшилась. Либо мы подобрали неоптимальные сетки, либо и в модели логистической регрессии, и в модели случайного леса по умолчанию подобраны довольно оптимальные гиперпараметры. Причём в модели случайного леса значительно увеличилась метрика на трейне, это может говорить о том, что наша модель значительно переобучена."
   ]
  },
  {
   "cell_type": "code",
   "execution_count": 11,
   "id": "152af8a4",
   "metadata": {},
   "outputs": [
    {
     "name": "stdout",
     "output_type": "stream",
     "text": [
      "0.84\n",
      "0.78\n",
      "Наилучшие значения гиперпараметров: {'solver': 'saga', 'penalty': 'l1', 'C': 0.3}\n"
     ]
    },
    {
     "name": "stderr",
     "output_type": "stream",
     "text": [
      "C:\\Anaconda\\lib\\site-packages\\sklearn\\linear_model\\_sag.py:350: ConvergenceWarning: The max_iter was reached which means the coef_ did not converge\n",
      "  warnings.warn(\n"
     ]
    }
   ],
   "source": [
    "randomized_search_lr = RandomizedSearchCV(\n",
    "    estimator=LogisticRegression(max_iter=50, random_state=42),\n",
    "    param_distributions=param_grid_lr,\n",
    "    cv=5,\n",
    "    n_iter=50,\n",
    "    n_jobs=-1\n",
    "    )\n",
    "\n",
    "randomized_search_lr.fit(x_train, y_train)\n",
    "y_train_predict = randomized_search_lr.predict(x_train)\n",
    "y_test_predict = randomized_search_lr.predict(x_test)\n",
    "print(round(metrics.f1_score(y_train, y_train_predict), 2)) # считаем целевую метрику на трейне для отслеживания переобучения\n",
    "print(round(metrics.f1_score(y_test, y_test_predict), 2))\n",
    "print(\"Наилучшие значения гиперпараметров: {}\".format(randomized_search_lr.best_params_))"
   ]
  },
  {
   "cell_type": "code",
   "execution_count": 12,
   "id": "7af337a0",
   "metadata": {},
   "outputs": [
    {
     "name": "stderr",
     "output_type": "stream",
     "text": [
      "C:\\Anaconda\\lib\\site-packages\\sklearn\\model_selection\\_search.py:306: UserWarning: The total space of parameters 40 is smaller than n_iter=50. Running 40 iterations. For exhaustive searches, use GridSearchCV.\n",
      "  warnings.warn(\n"
     ]
    },
    {
     "name": "stdout",
     "output_type": "stream",
     "text": [
      "0.94\n",
      "0.78\n",
      "Наилучшие значения гиперпараметров: {'n_estimators': 45, 'min_samples_leaf': 5, 'max_depth': 25}\n"
     ]
    }
   ],
   "source": [
    "randomized_search_rf = RandomizedSearchCV(\n",
    "    estimator=ensemble.RandomForestClassifier(random_state=42),\n",
    "    param_distributions=param_grid_rf,\n",
    "    cv=5,\n",
    "    n_iter=50,\n",
    "    n_jobs=-1\n",
    "    )\n",
    "\n",
    "randomized_search_rf.fit(x_train, y_train)\n",
    "y_train_predict = randomized_search_rf.predict(x_train)\n",
    "y_test_predict = randomized_search_rf.predict(x_test)\n",
    "print(round(metrics.f1_score(y_train, y_train_predict), 2)) # считаем целевую метрику на трейне для отслеживания переобучения\n",
    "print(round(metrics.f1_score(y_test, y_test_predict), 2))\n",
    "print(\"Наилучшие значения гиперпараметров: {}\".format(randomized_search_rf.best_params_))"
   ]
  },
  {
   "cell_type": "markdown",
   "id": "951354cc",
   "metadata": {},
   "source": [
    "С использованием метода RandomizedSearchCV и наших сеток параметров целевая метрика на тесте не улучшилась. Либо мы подобрали неоптимальные сетки, либо и в модели логистической регрессии, и в модели случайного леса по умолчанию подобраны довольно оптимальные гиперпараметры. Причём в модели случайного леса значительно увеличилась метрика на трейне, это может говорить о том, что наша модель значительно переобучена."
   ]
  },
  {
   "cell_type": "code",
   "execution_count": 13,
   "id": "c620cd03",
   "metadata": {},
   "outputs": [],
   "source": [
    "# Зададим пространство поиска гиперпараметров\n",
    "space={'n_estimators': hp.quniform('n_estimators', 10, 50, 1),\n",
    "       'max_depth' : hp.quniform('max_depth', 20, 40, 1),\n",
    "       'min_samples_leaf': hp.quniform('min_samples_leaf', 3, 7, 1)\n",
    "      }"
   ]
  },
  {
   "cell_type": "code",
   "execution_count": 14,
   "id": "d19a2880",
   "metadata": {},
   "outputs": [],
   "source": [
    "# Инициализируем функцию Хайперопт для подсчёта метрики на модели случайного леса\n",
    "def hyperopt_rf(params, cv=5, X=x_train, y=y_train, random_state=42):\n",
    "    # Функция получает комбинацию гиперпараметров в \"params\"\n",
    "    params = {'n_estimators': int(params['n_estimators']), \n",
    "              'max_depth': int(params['max_depth']), \n",
    "             'min_samples_leaf': int(params['min_samples_leaf'])\n",
    "              }\n",
    "    # Используем эту комбинацию для построения модели\n",
    "    model = ensemble.RandomForestClassifier(**params, random_state=42)\n",
    "    model.fit(X, y)\n",
    "    score = metrics.f1_score(y, model.predict(X))\n",
    "\n",
    "    # Метрику необходимо минимизировать, поэтому ставим знак минус\n",
    "    return -score"
   ]
  },
  {
   "cell_type": "code",
   "execution_count": 15,
   "id": "89bc2440",
   "metadata": {},
   "outputs": [
    {
     "name": "stdout",
     "output_type": "stream",
     "text": [
      "100%|███████████████████████████████████████████████| 50/50 [00:58<00:00,  1.17s/trial, best loss: -0.9713168187744459]\n",
      "Наилучшие значения гиперпараметров {'max_depth': 39.0, 'min_samples_leaf': 3.0, 'n_estimators': 39.0}\n"
     ]
    }
   ],
   "source": [
    "trials = Trials() # используется для логирования результатов\n",
    "\n",
    "best=fmin(hyperopt_rf, # наша функция \n",
    "          space=space, # пространство гиперпараметров\n",
    "          algo=tpe.suggest, # алгоритм оптимизации\n",
    "          max_evals=50, # максимальное количество итераций\n",
    "          trials=trials, # логирование результатов\n",
    "          rstate=np.random.default_rng(42) # фиксируем для повторяемости результата\n",
    "         )\n",
    "print(\"Наилучшие значения гиперпараметров {}\".format(best))"
   ]
  },
  {
   "cell_type": "code",
   "execution_count": 16,
   "id": "bb1be96c",
   "metadata": {},
   "outputs": [
    {
     "name": "stdout",
     "output_type": "stream",
     "text": [
      "0.97\n",
      "0.8\n"
     ]
    }
   ],
   "source": [
    "model = ensemble.RandomForestClassifier(\n",
    "    random_state=42, \n",
    "    n_estimators=int(best['n_estimators']),\n",
    "    max_depth=int(best['max_depth']),\n",
    "    min_samples_leaf=int(best['min_samples_leaf'])\n",
    ")\n",
    "model.fit(x_train, y_train)\n",
    "y_train_predict = model.predict(x_train)\n",
    "y_test_predict = model.predict(x_test)\n",
    "print(round(metrics.f1_score(y_train, y_train_predict), 2)) # считаем целевую метрику на трейне для отслеживания переобучения\n",
    "print(round(metrics.f1_score(y_test, y_test_predict), 2))"
   ]
  },
  {
   "cell_type": "markdown",
   "id": "b60ec688",
   "metadata": {},
   "source": [
    "С использованием метода Hyperopt и нашего пространства поиска параметров моделью случайного леса целевая метрика на тесте незначительно улучшилась. Но также увеличилась и метрика на трейне, а это может говорить о том, что наша модель значительно переобучена."
   ]
  },
  {
   "cell_type": "code",
   "execution_count": 17,
   "id": "03050fb6",
   "metadata": {},
   "outputs": [],
   "source": [
    "# Инициализируем функцию Оптуна для подсчёта метрики на модели случайного леса\n",
    "def optuna_rf(trial):\n",
    "    # Задаём пространства поиска гиперпараметров\n",
    "    n_estimators = trial.suggest_int('n_estimators', 10, 50, 1)\n",
    "    max_depth = trial.suggest_int('max_depth', 20, 40, 1)\n",
    "    min_samples_leaf = trial.suggest_int('min_samples_leaf', 3, 7, 1)\n",
    "\n",
    "    model = ensemble.RandomForestClassifier(\n",
    "        n_estimators=n_estimators,\n",
    "        max_depth=max_depth,\n",
    "        min_samples_leaf=min_samples_leaf,\n",
    "        random_state=42)\n",
    "\n",
    "    model.fit(x_train, y_train)\n",
    "    score = metrics.f1_score(y_train, model.predict(x_train))\n",
    "\n",
    "    return score"
   ]
  },
  {
   "cell_type": "code",
   "execution_count": 18,
   "id": "9e8b5b0c",
   "metadata": {},
   "outputs": [
    {
     "name": "stderr",
     "output_type": "stream",
     "text": [
      "\u001b[32m[I 2024-04-05 22:43:34,932]\u001b[0m A new study created in memory with name: RandomForestClassifier\u001b[0m\n",
      "\u001b[32m[I 2024-04-05 22:43:35,545]\u001b[0m Trial 0 finished with value: 0.9600000000000001 and parameters: {'n_estimators': 12, 'max_depth': 26, 'min_samples_leaf': 3}. Best is trial 0 with value: 0.9600000000000001.\u001b[0m\n",
      "\u001b[32m[I 2024-04-05 22:43:36,910]\u001b[0m Trial 1 finished with value: 0.9439374185136896 and parameters: {'n_estimators': 43, 'max_depth': 27, 'min_samples_leaf': 5}. Best is trial 0 with value: 0.9600000000000001.\u001b[0m\n",
      "\u001b[32m[I 2024-04-05 22:43:38,571]\u001b[0m Trial 2 finished with value: 0.9220862846104314 and parameters: {'n_estimators': 46, 'max_depth': 23, 'min_samples_leaf': 7}. Best is trial 0 with value: 0.9600000000000001.\u001b[0m\n",
      "\u001b[32m[I 2024-04-05 22:43:40,088]\u001b[0m Trial 3 finished with value: 0.9694408322496749 and parameters: {'n_estimators': 49, 'max_depth': 32, 'min_samples_leaf': 3}. Best is trial 3 with value: 0.9694408322496749.\u001b[0m\n",
      "\u001b[32m[I 2024-04-05 22:43:41,220]\u001b[0m Trial 4 finished with value: 0.9204508856682769 and parameters: {'n_estimators': 47, 'max_depth': 27, 'min_samples_leaf': 7}. Best is trial 3 with value: 0.9694408322496749.\u001b[0m\n",
      "\u001b[32m[I 2024-04-05 22:43:42,000]\u001b[0m Trial 5 finished with value: 0.9634703196347032 and parameters: {'n_estimators': 19, 'max_depth': 20, 'min_samples_leaf': 3}. Best is trial 3 with value: 0.9694408322496749.\u001b[0m\n",
      "\u001b[32m[I 2024-04-05 22:43:42,532]\u001b[0m Trial 6 finished with value: 0.9619512195121951 and parameters: {'n_estimators': 14, 'max_depth': 26, 'min_samples_leaf': 3}. Best is trial 3 with value: 0.9694408322496749.\u001b[0m\n",
      "\u001b[32m[I 2024-04-05 22:43:43,713]\u001b[0m Trial 7 finished with value: 0.9454782892588965 and parameters: {'n_estimators': 42, 'max_depth': 39, 'min_samples_leaf': 5}. Best is trial 3 with value: 0.9694408322496749.\u001b[0m\n",
      "\u001b[32m[I 2024-04-05 22:43:45,069]\u001b[0m Trial 8 finished with value: 0.95937601559961 and parameters: {'n_estimators': 46, 'max_depth': 22, 'min_samples_leaf': 4}. Best is trial 3 with value: 0.9694408322496749.\u001b[0m\n",
      "\u001b[32m[I 2024-04-05 22:43:45,611]\u001b[0m Trial 9 finished with value: 0.9111397295556987 and parameters: {'n_estimators': 17, 'max_depth': 35, 'min_samples_leaf': 7}. Best is trial 3 with value: 0.9694408322496749.\u001b[0m\n",
      "\u001b[32m[I 2024-04-05 22:43:46,547]\u001b[0m Trial 10 finished with value: 0.9552238805970149 and parameters: {'n_estimators': 32, 'max_depth': 33, 'min_samples_leaf': 4}. Best is trial 3 with value: 0.9694408322496749.\u001b[0m\n",
      "\u001b[32m[I 2024-04-05 22:43:47,329]\u001b[0m Trial 11 finished with value: 0.9652032520325204 and parameters: {'n_estimators': 24, 'max_depth': 32, 'min_samples_leaf': 3}. Best is trial 3 with value: 0.9694408322496749.\u001b[0m\n",
      "\u001b[32m[I 2024-04-05 22:43:48,145]\u001b[0m Trial 12 finished with value: 0.9537067011977987 and parameters: {'n_estimators': 27, 'max_depth': 31, 'min_samples_leaf': 4}. Best is trial 3 with value: 0.9694408322496749.\u001b[0m\n",
      "\u001b[32m[I 2024-04-05 22:43:49,183]\u001b[0m Trial 13 finished with value: 0.9668831168831169 and parameters: {'n_estimators': 32, 'max_depth': 36, 'min_samples_leaf': 3}. Best is trial 3 with value: 0.9694408322496749.\u001b[0m\n",
      "\u001b[32m[I 2024-04-05 22:43:50,081]\u001b[0m Trial 14 finished with value: 0.9265609835004853 and parameters: {'n_estimators': 34, 'max_depth': 37, 'min_samples_leaf': 6}. Best is trial 3 with value: 0.9694408322496749.\u001b[0m\n",
      "\u001b[32m[I 2024-04-05 22:43:51,120]\u001b[0m Trial 15 finished with value: 0.9564652371669915 and parameters: {'n_estimators': 38, 'max_depth': 36, 'min_samples_leaf': 4}. Best is trial 3 with value: 0.9694408322496749.\u001b[0m\n",
      "\u001b[32m[I 2024-04-05 22:43:52,234]\u001b[0m Trial 16 finished with value: 0.969361147327249 and parameters: {'n_estimators': 37, 'max_depth': 40, 'min_samples_leaf': 3}. Best is trial 3 with value: 0.9694408322496749.\u001b[0m\n",
      "\u001b[32m[I 2024-04-05 22:43:53,602]\u001b[0m Trial 17 finished with value: 0.9279017135467182 and parameters: {'n_estimators': 50, 'max_depth': 40, 'min_samples_leaf': 6}. Best is trial 3 with value: 0.9694408322496749.\u001b[0m\n",
      "\u001b[32m[I 2024-04-05 22:43:54,858]\u001b[0m Trial 18 finished with value: 0.9562114823224133 and parameters: {'n_estimators': 37, 'max_depth': 29, 'min_samples_leaf': 4}. Best is trial 3 with value: 0.9694408322496749.\u001b[0m\n",
      "\u001b[32m[I 2024-04-05 22:43:56,142]\u001b[0m Trial 19 finished with value: 0.942829140803659 and parameters: {'n_estimators': 39, 'max_depth': 34, 'min_samples_leaf': 5}. Best is trial 3 with value: 0.9694408322496749.\u001b[0m\n",
      "\u001b[32m[I 2024-04-05 22:43:57,793]\u001b[0m Trial 20 finished with value: 0.9697953881130237 and parameters: {'n_estimators': 50, 'max_depth': 29, 'min_samples_leaf': 3}. Best is trial 20 with value: 0.9697953881130237.\u001b[0m\n",
      "\u001b[32m[I 2024-04-05 22:44:00,081]\u001b[0m Trial 21 finished with value: 0.9694408322496749 and parameters: {'n_estimators': 49, 'max_depth': 30, 'min_samples_leaf': 3}. Best is trial 20 with value: 0.9697953881130237.\u001b[0m\n",
      "\u001b[32m[I 2024-04-05 22:44:02,379]\u001b[0m Trial 22 finished with value: 0.9697953881130237 and parameters: {'n_estimators': 50, 'max_depth': 30, 'min_samples_leaf': 3}. Best is trial 20 with value: 0.9697953881130237.\u001b[0m\n",
      "\u001b[32m[I 2024-04-05 22:44:03,877]\u001b[0m Trial 23 finished with value: 0.9594287568971114 and parameters: {'n_estimators': 43, 'max_depth': 28, 'min_samples_leaf': 4}. Best is trial 20 with value: 0.9697953881130237.\u001b[0m\n",
      "\u001b[32m[I 2024-04-05 22:44:05,469]\u001b[0m Trial 24 finished with value: 0.9694408322496749 and parameters: {'n_estimators': 49, 'max_depth': 31, 'min_samples_leaf': 3}. Best is trial 20 with value: 0.9697953881130237.\u001b[0m\n",
      "\u001b[32m[I 2024-04-05 22:44:06,645]\u001b[0m Trial 25 finished with value: 0.9604409857328147 and parameters: {'n_estimators': 44, 'max_depth': 29, 'min_samples_leaf': 4}. Best is trial 20 with value: 0.9697953881130237.\u001b[0m\n",
      "\u001b[32m[I 2024-04-05 22:44:08,409]\u001b[0m Trial 26 finished with value: 0.9710569105691057 and parameters: {'n_estimators': 50, 'max_depth': 24, 'min_samples_leaf': 3}. Best is trial 26 with value: 0.9710569105691057.\u001b[0m\n",
      "\u001b[32m[I 2024-04-05 22:44:09,429]\u001b[0m Trial 27 finished with value: 0.9264658244250081 and parameters: {'n_estimators': 41, 'max_depth': 24, 'min_samples_leaf': 6}. Best is trial 26 with value: 0.9710569105691057.\u001b[0m\n",
      "\u001b[32m[I 2024-04-05 22:44:10,689]\u001b[0m Trial 28 finished with value: 0.9597663854639845 and parameters: {'n_estimators': 46, 'max_depth': 25, 'min_samples_leaf': 4}. Best is trial 26 with value: 0.9710569105691057.\u001b[0m\n",
      "\u001b[32m[I 2024-04-05 22:44:11,689]\u001b[0m Trial 29 finished with value: 0.9537459283387623 and parameters: {'n_estimators': 11, 'max_depth': 21, 'min_samples_leaf': 3}. Best is trial 26 with value: 0.9710569105691057.\u001b[0m\n",
      "\u001b[32m[I 2024-04-05 22:44:13,735]\u001b[0m Trial 30 finished with value: 0.944553163731246 and parameters: {'n_estimators': 40, 'max_depth': 25, 'min_samples_leaf': 5}. Best is trial 26 with value: 0.9710569105691057.\u001b[0m\n",
      "\u001b[32m[I 2024-04-05 22:44:16,381]\u001b[0m Trial 31 finished with value: 0.9694408322496749 and parameters: {'n_estimators': 49, 'max_depth': 33, 'min_samples_leaf': 3}. Best is trial 26 with value: 0.9710569105691057.\u001b[0m\n",
      "\u001b[32m[I 2024-04-05 22:44:18,685]\u001b[0m Trial 32 finished with value: 0.9697953881130237 and parameters: {'n_estimators': 50, 'max_depth': 30, 'min_samples_leaf': 3}. Best is trial 26 with value: 0.9710569105691057.\u001b[0m\n",
      "\u001b[32m[I 2024-04-05 22:44:19,957]\u001b[0m Trial 33 finished with value: 0.9691458265670673 and parameters: {'n_estimators': 45, 'max_depth': 28, 'min_samples_leaf': 3}. Best is trial 26 with value: 0.9710569105691057.\u001b[0m\n",
      "\u001b[32m[I 2024-04-05 22:44:21,463]\u001b[0m Trial 34 finished with value: 0.9697953881130237 and parameters: {'n_estimators': 50, 'max_depth': 30, 'min_samples_leaf': 3}. Best is trial 26 with value: 0.9710569105691057.\u001b[0m\n",
      "\u001b[32m[I 2024-04-05 22:44:22,836]\u001b[0m Trial 35 finished with value: 0.9691257718557037 and parameters: {'n_estimators': 47, 'max_depth': 27, 'min_samples_leaf': 3}. Best is trial 26 with value: 0.9710569105691057.\u001b[0m\n",
      "\u001b[32m[I 2024-04-05 22:44:24,172]\u001b[0m Trial 36 finished with value: 0.9590909090909091 and parameters: {'n_estimators': 47, 'max_depth': 24, 'min_samples_leaf': 4}. Best is trial 26 with value: 0.9710569105691057.\u001b[0m\n",
      "\u001b[32m[I 2024-04-05 22:44:25,498]\u001b[0m Trial 37 finished with value: 0.97074122236671 and parameters: {'n_estimators': 44, 'max_depth': 26, 'min_samples_leaf': 3}. Best is trial 26 with value: 0.9710569105691057.\u001b[0m\n"
     ]
    },
    {
     "name": "stderr",
     "output_type": "stream",
     "text": [
      "\u001b[32m[I 2024-04-05 22:44:26,753]\u001b[0m Trial 38 finished with value: 0.9704257393565161 and parameters: {'n_estimators': 43, 'max_depth': 26, 'min_samples_leaf': 3}. Best is trial 26 with value: 0.9710569105691057.\u001b[0m\n",
      "\u001b[32m[I 2024-04-05 22:44:28,172]\u001b[0m Trial 39 finished with value: 0.9710380735437684 and parameters: {'n_estimators': 43, 'max_depth': 23, 'min_samples_leaf': 3}. Best is trial 26 with value: 0.9710569105691057.\u001b[0m\n",
      "\u001b[32m[I 2024-04-05 22:44:29,554]\u001b[0m Trial 40 finished with value: 0.9568041571938941 and parameters: {'n_estimators': 35, 'max_depth': 22, 'min_samples_leaf': 4}. Best is trial 26 with value: 0.9710569105691057.\u001b[0m\n",
      "\u001b[32m[I 2024-04-05 22:44:31,135]\u001b[0m Trial 41 finished with value: 0.9704257393565161 and parameters: {'n_estimators': 43, 'max_depth': 26, 'min_samples_leaf': 3}. Best is trial 26 with value: 0.9710569105691057.\u001b[0m\n",
      "\u001b[32m[I 2024-04-05 22:44:32,636]\u001b[0m Trial 42 finished with value: 0.9704257393565161 and parameters: {'n_estimators': 43, 'max_depth': 26, 'min_samples_leaf': 3}. Best is trial 26 with value: 0.9710569105691057.\u001b[0m\n",
      "\u001b[32m[I 2024-04-05 22:44:34,343]\u001b[0m Trial 43 finished with value: 0.970722186076773 and parameters: {'n_estimators': 41, 'max_depth': 23, 'min_samples_leaf': 3}. Best is trial 26 with value: 0.9710569105691057.\u001b[0m\n",
      "\u001b[32m[I 2024-04-05 22:44:36,040]\u001b[0m Trial 44 finished with value: 0.9716335180958592 and parameters: {'n_estimators': 41, 'max_depth': 20, 'min_samples_leaf': 3}. Best is trial 44 with value: 0.9716335180958592.\u001b[0m\n",
      "\u001b[32m[I 2024-04-05 22:44:37,319]\u001b[0m Trial 45 finished with value: 0.9580214773836643 and parameters: {'n_estimators': 41, 'max_depth': 20, 'min_samples_leaf': 4}. Best is trial 44 with value: 0.9716335180958592.\u001b[0m\n",
      "\u001b[32m[I 2024-04-05 22:44:38,404]\u001b[0m Trial 46 finished with value: 0.970703125 and parameters: {'n_estimators': 35, 'max_depth': 22, 'min_samples_leaf': 3}. Best is trial 44 with value: 0.9716335180958592.\u001b[0m\n",
      "\u001b[32m[I 2024-04-05 22:44:39,244]\u001b[0m Trial 47 finished with value: 0.96380828170851 and parameters: {'n_estimators': 28, 'max_depth': 23, 'min_samples_leaf': 3}. Best is trial 44 with value: 0.9716335180958592.\u001b[0m\n",
      "\u001b[32m[I 2024-04-05 22:44:40,465]\u001b[0m Trial 48 finished with value: 0.9586991869918698 and parameters: {'n_estimators': 45, 'max_depth': 20, 'min_samples_leaf': 4}. Best is trial 44 with value: 0.9716335180958592.\u001b[0m\n",
      "\u001b[32m[I 2024-04-05 22:44:41,553]\u001b[0m Trial 49 finished with value: 0.9696772089990219 and parameters: {'n_estimators': 39, 'max_depth': 23, 'min_samples_leaf': 3}. Best is trial 44 with value: 0.9716335180958592.\u001b[0m\n"
     ]
    },
    {
     "name": "stdout",
     "output_type": "stream",
     "text": [
      "Наилучшие значения гиперпараметров {'n_estimators': 41, 'max_depth': 20, 'min_samples_leaf': 3}\n"
     ]
    }
   ],
   "source": [
    "# Создаём объект исследования и напрямую указываем, что нам необходимо максимизировать метрику direction=\"maximize\"\n",
    "study = optuna.create_study(study_name=\"RandomForestClassifier\", direction=\"maximize\")\n",
    "# Ищем лучшую комбинацию гиперпараметров n_trials раз\n",
    "study.optimize(optuna_rf, n_trials=50)\n",
    "# выводим результаты на обучающей выборке\n",
    "print(\"Наилучшие значения гиперпараметров {}\".format(study.best_params))"
   ]
  },
  {
   "cell_type": "code",
   "execution_count": 19,
   "id": "3efdbe3b",
   "metadata": {},
   "outputs": [
    {
     "name": "stdout",
     "output_type": "stream",
     "text": [
      "0.97\n",
      "0.79\n"
     ]
    }
   ],
   "source": [
    "model = ensemble.RandomForestClassifier(**study.best_params, random_state=42)\n",
    "model.fit(x_train, y_train)\n",
    "y_train_predict = model.predict(x_train)\n",
    "y_test_predict = model.predict(x_test)\n",
    "print(round(metrics.f1_score(y_train, y_train_predict), 2)) # считаем целевую метрику на трейне для отслеживания переобучения\n",
    "print(round(metrics.f1_score(y_test, y_test_predict), 2))"
   ]
  },
  {
   "cell_type": "markdown",
   "id": "1b242b52",
   "metadata": {},
   "source": [
    "С использованием метода Optuna и нашего пространства поиска параметров моделью случайного леса целевая метрика на тесте не улучшилась. Метрика на трейне также не изменилась, а это может говорить о том, что наша модель значительно переобучена."
   ]
  },
  {
   "cell_type": "markdown",
   "id": "c7277b2e",
   "metadata": {},
   "source": [
    "Вывод: целью нашей работы было спрогнозировать биологический ответ. Судя по целевой метрике, у нас это получилось очень хорошо. В процессе работы мы не просто построили и обучили несколько моделей машинного обучения (логистическую регрессию и случайный лес), но и попытались подобрать к ним оптимальные гиперпараметры четырьмя различными способами (GridSeachCV, RandomizedSearchCV, Hyperopt, Optuna). Таким образом, биологический ответ спрогнозирован с высокой долей вероятности, методы оптимизации гиперпараметров изучены, работа выполнена на отлично!"
   ]
  }
 ],
 "metadata": {
  "kernelspec": {
   "display_name": "Python 3 (ipykernel)",
   "language": "python",
   "name": "python3"
  },
  "language_info": {
   "codemirror_mode": {
    "name": "ipython",
    "version": 3
   },
   "file_extension": ".py",
   "mimetype": "text/x-python",
   "name": "python",
   "nbconvert_exporter": "python",
   "pygments_lexer": "ipython3",
   "version": "3.9.7"
  }
 },
 "nbformat": 4,
 "nbformat_minor": 5
}
