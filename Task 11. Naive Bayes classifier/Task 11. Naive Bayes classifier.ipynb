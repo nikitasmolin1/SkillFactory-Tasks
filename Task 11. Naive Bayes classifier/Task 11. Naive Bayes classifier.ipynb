{
 "cells": [
  {
   "cell_type": "markdown",
   "id": "00009cca",
   "metadata": {
    "id": "00009cca"
   },
   "source": [
    "# Классификация текстов с использованием Наивного Байесовского Классификатора"
   ]
  },
  {
   "cell_type": "markdown",
   "id": "a52414b8",
   "metadata": {
    "id": "a52414b8"
   },
   "source": [
    "## Задание 1 (1 балл)"
   ]
  },
  {
   "cell_type": "markdown",
   "id": "f5f27b43",
   "metadata": {
    "id": "f5f27b43"
   },
   "source": [
    "Откройте данные. Узнайте, сколько в них спам- и не спам-писем. Визуализируйте полученные соотношение подходящим образом."
   ]
  },
  {
   "cell_type": "code",
   "execution_count": 1,
   "id": "52fc4996",
   "metadata": {},
   "outputs": [],
   "source": [
    "import numpy as np\n",
    "import pandas as pd\n",
    "\n",
    "import seaborn as sns\n",
    "import matplotlib.pyplot as plt\n",
    "\n",
    "from sklearn.model_selection import train_test_split, GridSearchCV, cross_val_score\n",
    "from sklearn.naive_bayes import MultinomialNB, ComplementNB\n",
    "from sklearn.metrics import accuracy_score, precision_score, recall_score, f1_score, roc_curve, roc_auc_score\n",
    "\n",
    "import warnings\n",
    "warnings.filterwarnings(action=\"ignore\")"
   ]
  },
  {
   "cell_type": "code",
   "execution_count": 2,
   "id": "ac369274",
   "metadata": {
    "id": "ac369274"
   },
   "outputs": [
    {
     "data": {
      "text/html": [
       "<div>\n",
       "<style scoped>\n",
       "    .dataframe tbody tr th:only-of-type {\n",
       "        vertical-align: middle;\n",
       "    }\n",
       "\n",
       "    .dataframe tbody tr th {\n",
       "        vertical-align: top;\n",
       "    }\n",
       "\n",
       "    .dataframe thead th {\n",
       "        text-align: right;\n",
       "    }\n",
       "</style>\n",
       "<table border=\"1\" class=\"dataframe\">\n",
       "  <thead>\n",
       "    <tr style=\"text-align: right;\">\n",
       "      <th></th>\n",
       "      <th>email</th>\n",
       "      <th>label</th>\n",
       "    </tr>\n",
       "  </thead>\n",
       "  <tbody>\n",
       "    <tr>\n",
       "      <th>0</th>\n",
       "      <td>date wed NUMBER aug NUMBER NUMBER NUMBER NUMB...</td>\n",
       "      <td>0</td>\n",
       "    </tr>\n",
       "    <tr>\n",
       "      <th>1</th>\n",
       "      <td>martin a posted tassos papadopoulos the greek ...</td>\n",
       "      <td>0</td>\n",
       "    </tr>\n",
       "    <tr>\n",
       "      <th>2</th>\n",
       "      <td>man threatens explosion in moscow thursday aug...</td>\n",
       "      <td>0</td>\n",
       "    </tr>\n",
       "    <tr>\n",
       "      <th>3</th>\n",
       "      <td>klez the virus that won t die already the most...</td>\n",
       "      <td>0</td>\n",
       "    </tr>\n",
       "    <tr>\n",
       "      <th>4</th>\n",
       "      <td>in adding cream to spaghetti carbonara which ...</td>\n",
       "      <td>0</td>\n",
       "    </tr>\n",
       "  </tbody>\n",
       "</table>\n",
       "</div>"
      ],
      "text/plain": [
       "                                               email  label\n",
       "0   date wed NUMBER aug NUMBER NUMBER NUMBER NUMB...      0\n",
       "1  martin a posted tassos papadopoulos the greek ...      0\n",
       "2  man threatens explosion in moscow thursday aug...      0\n",
       "3  klez the virus that won t die already the most...      0\n",
       "4   in adding cream to spaghetti carbonara which ...      0"
      ]
     },
     "execution_count": 2,
     "metadata": {},
     "output_type": "execute_result"
    }
   ],
   "source": [
    "data = pd.read_csv('data/spam_or_not_spam.csv')\n",
    "data.head()"
   ]
  },
  {
   "cell_type": "code",
   "execution_count": 3,
   "id": "8fe5ec29",
   "metadata": {},
   "outputs": [
    {
     "data": {
      "image/png": "[encoded data removed]",
      "text/plain": [
       "<Figure size 720x360 with 1 Axes>"
      ]
     },
     "metadata": {
      "needs_background": "light"
     },
     "output_type": "display_data"
    }
   ],
   "source": [
    "fig = plt.figure(figsize=(10, 5))\n",
    "countplot = sns.countplot(data['label'])\n",
    "countplot.set_title('Количество не спам- и спам-писем')\n",
    "countplot.set_xlabel('Не спам- и спам-письма')\n",
    "countplot.set_ylabel('Количество');"
   ]
  },
  {
   "cell_type": "markdown",
   "id": "b161614b",
   "metadata": {
    "id": "b161614b"
   },
   "source": [
    "## Задание 2 (2 балла)"
   ]
  },
  {
   "cell_type": "markdown",
   "id": "dd29763b",
   "metadata": {
    "id": "dd29763b"
   },
   "source": [
    "Вам необходимо предобработать ваши данные и перевести их в векторный вид. Подгрузим необходимый модуль:"
   ]
  },
  {
   "cell_type": "code",
   "execution_count": 4,
   "id": "382eac9c",
   "metadata": {
    "id": "382eac9c"
   },
   "outputs": [],
   "source": [
    "from sklearn.feature_extraction.text import CountVectorizer"
   ]
  },
  {
   "cell_type": "markdown",
   "id": "89546b95",
   "metadata": {
    "id": "89546b95"
   },
   "source": [
    "Замените в данных все пустые строки и строки, состоящие из пробелов, на пропуски (NaN). После этого удалите из данных все строки, в которых наблюдаются пропущенные значения."
   ]
  },
  {
   "cell_type": "code",
   "execution_count": 5,
   "id": "194d7a51",
   "metadata": {},
   "outputs": [],
   "source": [
    "data['email'] = data['email'].replace('^\\s+$', '', regex=True)\n",
    "data['email'] = data['email'].replace('', np.nan)\n",
    "data = data.dropna(subset=['email'])"
   ]
  },
  {
   "cell_type": "markdown",
   "id": "2ca2fe88",
   "metadata": {
    "id": "2ca2fe88"
   },
   "source": [
    "Переводим данные в векторный вид:"
   ]
  },
  {
   "cell_type": "code",
   "execution_count": 6,
   "id": "29e9a37b",
   "metadata": {
    "id": "29e9a37b"
   },
   "outputs": [],
   "source": [
    "vectorizer = CountVectorizer()\n",
    "X = vectorizer.fit_transform(data[\"email\"])"
   ]
  },
  {
   "cell_type": "markdown",
   "id": "88c8b726",
   "metadata": {
    "id": "88c8b726"
   },
   "source": [
    "Определите, сколько теперь признаков в нашем наборе данных:"
   ]
  },
  {
   "cell_type": "code",
   "execution_count": 7,
   "id": "f19c2a02",
   "metadata": {
    "id": "f19c2a02"
   },
   "outputs": [
    {
     "data": {
      "text/plain": [
       "34116"
      ]
     },
     "execution_count": 7,
     "metadata": {},
     "output_type": "execute_result"
    }
   ],
   "source": [
    "X.shape[1]"
   ]
  },
  {
   "cell_type": "markdown",
   "id": "1803f282",
   "metadata": {
    "id": "1803f282"
   },
   "source": [
    "## Задание 3 (2 балла)"
   ]
  },
  {
   "cell_type": "markdown",
   "id": "39f400b7",
   "metadata": {
    "id": "39f400b7"
   },
   "source": [
    "Определите целевую переменную и признаки:"
   ]
  },
  {
   "cell_type": "code",
   "execution_count": 8,
   "id": "4be82b73",
   "metadata": {},
   "outputs": [],
   "source": [
    "y = data['label']"
   ]
  },
  {
   "cell_type": "markdown",
   "id": "b20f273e",
   "metadata": {
    "id": "b20f273e"
   },
   "source": [
    "Разделите выборку на обучающую и тестовую, используя стратифицированное разбиение (параметр `stratify` установите в значение вектора ответов y) размер тестовой выборки (`test_size`) возьмите как 0.25, параметр `random_state` определите со значением 42:"
   ]
  },
  {
   "cell_type": "code",
   "execution_count": 9,
   "id": "96538fb6",
   "metadata": {
    "id": "96538fb6"
   },
   "outputs": [],
   "source": [
    "x_train, x_test, y_train, y_test = train_test_split(X, y, stratify=y, test_size=0.25, random_state=42)"
   ]
  },
  {
   "cell_type": "markdown",
   "id": "139dac3d",
   "metadata": {
    "id": "139dac3d"
   },
   "source": [
    "Рассчитайте среднее значение целевой переменной по тестовой выборке:"
   ]
  },
  {
   "cell_type": "code",
   "execution_count": 10,
   "id": "e9baf72d",
   "metadata": {
    "id": "e9baf72d"
   },
   "outputs": [
    {
     "data": {
      "text/plain": [
       "0.16533333333333333"
      ]
     },
     "execution_count": 10,
     "metadata": {},
     "output_type": "execute_result"
    }
   ],
   "source": [
    "y_test.mean()"
   ]
  },
  {
   "cell_type": "markdown",
   "id": "710e0e94",
   "metadata": {
    "id": "710e0e94"
   },
   "source": [
    "## Задание 4 (3 балла)"
   ]
  },
  {
   "cell_type": "markdown",
   "id": "26cf6885",
   "metadata": {
    "id": "26cf6885"
   },
   "source": [
    "Определите и обучите подходящий алгоритм с параметром alpha = 0.01"
   ]
  },
  {
   "cell_type": "code",
   "execution_count": 11,
   "id": "4865dd78",
   "metadata": {
    "id": "4865dd78"
   },
   "outputs": [],
   "source": [
    "mnb = MultinomialNB(alpha=0.01)\n",
    "\n",
    "mnb.fit(x_train, y_train)\n",
    "\n",
    "y_test_predict_mnb = mnb.predict(x_test)"
   ]
  },
  {
   "cell_type": "code",
   "execution_count": 12,
   "id": "811631c3",
   "metadata": {},
   "outputs": [],
   "source": [
    "cnb = ComplementNB(alpha=0.01)\n",
    "\n",
    "cnb.fit(x_train, y_train)\n",
    "\n",
    "y_test_predict_cnb = cnb.predict(x_test)"
   ]
  },
  {
   "cell_type": "markdown",
   "id": "d803fbe3",
   "metadata": {
    "id": "d803fbe3"
   },
   "source": [
    "Оцените результат с точки зрения всех известных вам метрик (не менее трёх):"
   ]
  },
  {
   "cell_type": "code",
   "execution_count": 13,
   "id": "b0bbc4d2",
   "metadata": {
    "id": "b0bbc4d2"
   },
   "outputs": [
    {
     "name": "stdout",
     "output_type": "stream",
     "text": [
      "0.987\n",
      "1.0\n",
      "0.919\n",
      "0.958\n"
     ]
    }
   ],
   "source": [
    "print(round(accuracy_score(y_test, y_test_predict_mnb), 3))\n",
    "print(round(precision_score(y_test, y_test_predict_mnb), 3))\n",
    "print(round(recall_score(y_test, y_test_predict_mnb), 3))\n",
    "print(round(f1_score(y_test, y_test_predict_mnb), 3))"
   ]
  },
  {
   "cell_type": "code",
   "execution_count": 14,
   "id": "ce9a3558",
   "metadata": {},
   "outputs": [
    {
     "name": "stdout",
     "output_type": "stream",
     "text": [
      "0.988\n",
      "1.0\n",
      "0.927\n",
      "0.962\n"
     ]
    }
   ],
   "source": [
    "print(round(accuracy_score(y_test, y_test_predict_cnb), 3))\n",
    "print(round(precision_score(y_test, y_test_predict_cnb), 3))\n",
    "print(round(recall_score(y_test, y_test_predict_cnb), 3))\n",
    "print(round(f1_score(y_test, y_test_predict_cnb), 3))"
   ]
  },
  {
   "cell_type": "markdown",
   "id": "c85976d1",
   "metadata": {
    "id": "c85976d1"
   },
   "source": [
    "Нарисуйте ROC-кривую:"
   ]
  },
  {
   "cell_type": "code",
   "execution_count": 15,
   "id": "b4195126",
   "metadata": {
    "id": "b4195126"
   },
   "outputs": [
    {
     "data": {
      "image/png": "[encoded data removed]",
      "text/plain": [
       "<Figure size 576x432 with 1 Axes>"
      ]
     },
     "metadata": {
      "needs_background": "light"
     },
     "output_type": "display_data"
    }
   ],
   "source": [
    "fpr, tpr, thresholds = roc_curve(y_test, y_test_predict_mnb)\n",
    "roc_auc = roc_auc_score(y_test, y_test_predict_mnb)\n",
    "\n",
    "plt.figure(figsize=(8, 6))\n",
    "plt.plot(fpr, tpr, color='darkorange', lw=2, label=f'ROC curve (AUC = {roc_auc:.2f})')\n",
    "plt.plot([0, 1], [0, 1], color='navy', lw=2, linestyle='--')\n",
    "plt.xlim([0.0, 1.0])\n",
    "plt.ylim([0.0, 1.05])\n",
    "plt.xlabel('False Positive Rate')\n",
    "plt.ylabel('True Positive Rate')\n",
    "plt.title('Receiver Operating Characteristic')\n",
    "plt.legend(loc=\"lower right\")\n",
    "plt.show()"
   ]
  },
  {
   "cell_type": "code",
   "execution_count": 16,
   "id": "bff80ec3",
   "metadata": {},
   "outputs": [
    {
     "data": {
      "image/png": "[encoded data removed]",
      "text/plain": [
       "<Figure size 576x432 with 1 Axes>"
      ]
     },
     "metadata": {
      "needs_background": "light"
     },
     "output_type": "display_data"
    }
   ],
   "source": [
    "fpr, tpr, thresholds = roc_curve(y_test, y_test_predict_cnb)\n",
    "roc_auc = roc_auc_score(y_test, y_test_predict_cnb)\n",
    "\n",
    "plt.figure(figsize=(8, 6))\n",
    "plt.plot(fpr, tpr, color='darkorange', lw=2, label=f'ROC curve (AUC = {roc_auc:.2f})')\n",
    "plt.plot([0, 1], [0, 1], color='navy', lw=2, linestyle='--')\n",
    "plt.xlim([0.0, 1.0])\n",
    "plt.ylim([0.0, 1.05])\n",
    "plt.xlabel('False Positive Rate')\n",
    "plt.ylabel('True Positive Rate')\n",
    "plt.title('Receiver Operating Characteristic')\n",
    "plt.legend(loc=\"lower right\")\n",
    "plt.show()"
   ]
  },
  {
   "cell_type": "markdown",
   "id": "cf0bb49b",
   "metadata": {
    "id": "cf0bb49b"
   },
   "source": [
    "## Задание 5 (3 балла)"
   ]
  },
  {
   "cell_type": "markdown",
   "id": "30b7a0ae",
   "metadata": {
    "id": "30b7a0ae"
   },
   "source": [
    "Переберите несколько значений alpha с помощью кросс-валидации. Оцените, зависит ли от этого параметра качество классификации."
   ]
  },
  {
   "cell_type": "code",
   "execution_count": 17,
   "id": "53773f09",
   "metadata": {},
   "outputs": [
    {
     "name": "stdout",
     "output_type": "stream",
     "text": [
      "{'alpha': 0.067}\n",
      "0.9906547884187082\n",
      "[0.98709626 0.98931948 0.98932047 0.98887503 0.9897659  0.99021034\n",
      " 0.99065479 0.99065479 0.99065479 0.99020935]\n"
     ]
    }
   ],
   "source": [
    "# Первый способ\n",
    "\n",
    "param_grid = {\n",
    "    'alpha':np.linspace(0.001, 0.1, 10)\n",
    "}\n",
    "\n",
    "cnb = ComplementNB()\n",
    "\n",
    "gscv = GridSearchCV(cnb, param_grid=param_grid, n_jobs=-1)\n",
    "\n",
    "gscv.fit(x_train, y_train)\n",
    "\n",
    "print(gscv.best_params_)\n",
    "print(gscv.best_score_)\n",
    "print(gscv.cv_results_['mean_test_score'])"
   ]
  },
  {
   "cell_type": "code",
   "execution_count": 18,
   "id": "e8bbc6c3",
   "metadata": {},
   "outputs": [
    {
     "data": {
      "image/png": "[encoded data removed]",
      "text/plain": [
       "<Figure size 720x360 with 1 Axes>"
      ]
     },
     "metadata": {
      "needs_background": "light"
     },
     "output_type": "display_data"
    }
   ],
   "source": [
    "# Второй способ\n",
    "\n",
    "alpha_range = np.linspace(0.001, 0.1, 10)\n",
    "f1_scores = []\n",
    "accuracy = []\n",
    "\n",
    "for alpha in alpha_range:\n",
    "    cnb = ComplementNB(alpha=alpha)\n",
    "    f1 = cross_val_score(cnb, X, y, cv=5, scoring='f1')\n",
    "    acc = cross_val_score(cnb, X, y, cv=5, scoring='accuracy')\n",
    "    accuracy.append(acc.mean())\n",
    "    f1_scores.append(f1.mean())\n",
    "    \n",
    "fig, ax = plt.subplots(figsize=(10, 5))\n",
    "ax.plot(alpha_range, f1_scores)\n",
    "ax.plot(alpha_range, accuracy)\n",
    "ax.grid()\n",
    "ax.set_xlabel('Alpha')\n",
    "ax.legend(['f1-score', 'accuracy'], loc=7)\n",
    "ax.set_title('Зависимость f1-score & accuracy от alpha');"
   ]
  },
  {
   "cell_type": "markdown",
   "id": "3f5a60c4",
   "metadata": {},
   "source": [
    "По графику видно, что качество классификации зависит от величины параметра alpha. С повышением aplha от 0.001 до 0.1 метрики f1_score и accuracy в целом растут. Причём самый значительный рост метрик наблюдается при повышении aplha с 0.001 до примерно 0.01."
   ]
  }
 ],
 "metadata": {
  "colab": {
   "name": "SGA_unit6_NBC.ipynb",
   "provenance": []
  },
  "kernelspec": {
   "display_name": "Python 3 (ipykernel)",
   "language": "python",
   "name": "python3"
  },
  "language_info": {
   "codemirror_mode": {
    "name": "ipython",
    "version": 3
   },
   "file_extension": ".py",
   "mimetype": "text/x-python",
   "name": "python",
   "nbconvert_exporter": "python",
   "pygments_lexer": "ipython3",
   "version": "3.9.7"
  }
 },
 "nbformat": 4,
 "nbformat_minor": 5
}
